{
 "cells": [
  {
   "cell_type": "markdown",
   "metadata": {},
   "source": [
    "## Ensamble modeling \n",
    "- in [this notebook](hypermerameter_optimized_modeling.ipynb) we calculated bias and variance of the model (mean and standard deviation of AUC and F1 when we put it in cross-validation)\n",
    "- Use **bagging ensamble** for models that had high variance: **Logistic regression, KNN**\n",
    "- Use **boosting ensamble** for models that had high bias: **using XGBoost features**\n",
    "- Use **voting ensamble** on our top 3 models to see if we can improve it: **XGBoost, SVC, Random Forest**"
   ]
  },
  {
   "cell_type": "code",
   "execution_count": 1,
   "metadata": {},
   "outputs": [],
   "source": [
    "# Bagged Decision Trees for Classification - necessary dependencies\n",
    "from sklearn import model_selection\n",
    "from sklearn.ensemble import BaggingClassifier\n",
    "from sklearn.ensemble import RandomForestClassifier\n",
    "import pandas as pd\n",
    "from sklearn.metrics import make_scorer, roc_auc_score\n",
    "\n",
    "# boosting ensamble (there are others)\n",
    "from sklearn.ensemble import GradientBoostingClassifier\n",
    "\n",
    "# voting ensamble\n",
    "from sklearn.ensemble import VotingClassifier\n",
    "\n",
    "from sklearn.linear_model import LogisticRegression\n",
    "from sklearn.neighbors import KNeighborsClassifier\n",
    "from sklearn.svm import SVC\n",
    "from xgboost import XGBClassifier"
   ]
  },
  {
   "cell_type": "code",
   "execution_count": 2,
   "metadata": {},
   "outputs": [],
   "source": [
    "# read in data \n",
    "data = pd.read_csv('all_model_data.csv', index_col = 0)"
   ]
  },
  {
   "cell_type": "markdown",
   "metadata": {},
   "source": [
    "## Bagging - Logistic Regression "
   ]
  },
  {
   "cell_type": "code",
   "execution_count": 9,
   "metadata": {},
   "outputs": [],
   "source": [
    "# Segregate the features from the labels\n",
    "X = data[['ProdRelPageRatio_Scaled_Bin','totalFracAdmin_Scaled','Administrative_Duration_Scaled',\n",
    "          'BounceRates_Norm_Scaled', 'ExitRates_Scaled','SpecialDay_1.0']]\n",
    "Y = data.Revenue"
   ]
  },
  {
   "cell_type": "code",
   "execution_count": 10,
   "metadata": {},
   "outputs": [
    {
     "name": "stdout",
     "output_type": "stream",
     "text": [
      "0.8852392538523925\n"
     ]
    }
   ],
   "source": [
    "# use 10-kfold to validate the results \n",
    "kfold = model_selection.KFold(n_splits=10, random_state=123, shuffle=True)\n",
    "# innitialize our model with our best params \n",
    "cart = LogisticRegression(solver='lbfgs', C=5, class_weight=dict,dual=False,random_state = 123,max_iter=90,\n",
    "                            verbose=0, warm_start=True) \n",
    "\n",
    "# we will use 100 trees to increase learning \n",
    "num_trees = 100\n",
    "# innitialize bagging ensable \n",
    "model = BaggingClassifier(base_estimator=cart, n_estimators=num_trees, random_state=123)\n",
    "# use cros-val to validate the results\n",
    "results = model_selection.cross_val_score(model, X, Y, cv=kfold)\n",
    "print(results.mean())"
   ]
  },
  {
   "cell_type": "markdown",
   "metadata": {},
   "source": [
    "- 10-Kfold accuracy **improved** from 0.848 to 0.8852"
   ]
  },
  {
   "cell_type": "markdown",
   "metadata": {},
   "source": [
    "## Bagging - KNN"
   ]
  },
  {
   "cell_type": "code",
   "execution_count": 11,
   "metadata": {},
   "outputs": [],
   "source": [
    "# Segregate the features from the labels\n",
    "X = data[['PageValues_Norm_Scaled','ExitRates_Scaled','totalFracProd_Scaled']]\n",
    "Y = data.Revenue"
   ]
  },
  {
   "cell_type": "code",
   "execution_count": 12,
   "metadata": {},
   "outputs": [
    {
     "name": "stdout",
     "output_type": "stream",
     "text": [
      "0.8820762368207623\n"
     ]
    }
   ],
   "source": [
    "# use 10-kfold to validate the results \n",
    "kfold = model_selection.KFold(n_splits=10, random_state=123, shuffle=True)\n",
    "# innitialize our model with our best params \n",
    "cart = KNeighborsClassifier(n_jobs=-1, n_neighbors=3) \n",
    "\n",
    "# we will use 100 trees to increase learning \n",
    "num_trees = 100\n",
    "# innitialize bagging ensable \n",
    "model = BaggingClassifier(base_estimator=cart, n_estimators=num_trees, random_state=123)\n",
    "# use cros-val to validate the results\n",
    "results = model_selection.cross_val_score(model, X, Y, cv=kfold)\n",
    "print(results.mean())"
   ]
  },
  {
   "cell_type": "markdown",
   "metadata": {},
   "source": [
    "- 10-Kfold accuracy **improved** from 0.871 to 0.882"
   ]
  },
  {
   "cell_type": "markdown",
   "metadata": {},
   "source": [
    "## Stochastic Gradient Boosting Classification"
   ]
  },
  {
   "cell_type": "markdown",
   "metadata": {},
   "source": [
    "- as we have mixed features we cannot feed the model all our features \n",
    "- instead we will used features that our best model (XGBoost) uses "
   ]
  },
  {
   "cell_type": "code",
   "execution_count": 7,
   "metadata": {},
   "outputs": [],
   "source": [
    "# Segregate the features from the labels\n",
    "X = data[['PageValues_Norm_Scaled', 'AdminBounceRatio_Norm_Scaled', 'ProdRelExitRatio_Norm_Scaled',\n",
    "          'Month_bin_4', 'Month_bin_2', 'VisitorType_bin_2', 'Informational_Duration_Scaled', 'totalFracProd_Bin']]\n",
    "Y = data.Revenue"
   ]
  },
  {
   "cell_type": "code",
   "execution_count": 13,
   "metadata": {},
   "outputs": [
    {
     "name": "stdout",
     "output_type": "stream",
     "text": [
      "0.894322789943228\n"
     ]
    }
   ],
   "source": [
    "# we will use AUC to check validity of hyperparameters \n",
    "#scorer = make_scorer(roc_auc_score)\n",
    "num_trees = 100\n",
    "seed=123\n",
    "\n",
    "# use 10-kfold to validate the results \n",
    "kfold = model_selection.KFold(n_splits=10, random_state=seed, shuffle=True)\n",
    "\n",
    "# innitialize model\n",
    "model = GradientBoostingClassifier(n_estimators=num_trees, random_state=seed)\n",
    "# validate our results\n",
    "results = model_selection.cross_val_score(model, X, Y, cv=kfold)\n",
    "print(results.mean())"
   ]
  },
  {
   "cell_type": "markdown",
   "metadata": {},
   "source": [
    "- Good results but **our best 10-Kfold is still random forest: 0.917**"
   ]
  },
  {
   "cell_type": "markdown",
   "metadata": {},
   "source": [
    "## Voting-based Ensemble (XGBoost, SVC, Random Forest)\n",
    "- remember to use the best params for each model\n",
    "- the code displayed below works for models that have the same features \n",
    "- if your models perform best with different features a more manual/weighted voting approach must be created\n",
    "    - Here is a great article: https://sebastianraschka.com/Articles/2014_ensemble_classifier.html\n",
    "- We did not have time so we used a more un-scientific approach of picking features that worked best for our top model (XGBoost)"
   ]
  },
  {
   "cell_type": "code",
   "execution_count": 5,
   "metadata": {},
   "outputs": [],
   "source": [
    "# Segregate the features from the labels\n",
    "X = data[['PageValues_Norm_Scaled', 'AdminBounceRatio_Norm_Scaled', 'ProdRelExitRatio_Norm_Scaled',\n",
    "          'Month_bin_4', 'Month_bin_2', 'VisitorType_bin_2', 'Informational_Duration_Scaled', 'totalFracProd_Bin']]\n",
    "Y = data.Revenue"
   ]
  },
  {
   "cell_type": "code",
   "execution_count": 6,
   "metadata": {},
   "outputs": [
    {
     "name": "stdout",
     "output_type": "stream",
     "text": [
      "0.8744525547445257\n"
     ]
    }
   ],
   "source": [
    "# random_state\n",
    "seed = 123\n",
    "# use 10-kfold validation\n",
    "kfold = model_selection.KFold(n_splits=10, random_state=seed, shuffle=True)\n",
    "\n",
    "# create the sub models\n",
    "estimators = [] # this will be used in the voting classifier \n",
    "\n",
    "# create our 3 models\n",
    "model1 = XGBClassifier(random_state=seed,learning_rate=0.3,loss='deviance',max_depth=11,max_leaf_nodes=1,\n",
    "                       n_estimators=110,subsample=1.0)\n",
    "estimators.append(('xgboost', model1)) # append it to the estimators \n",
    "\n",
    "model2 = SVC(kernel='rbf', gamma=1.0672387970376063, class_weight='balanced', C=0.8914369396699439,\n",
    "            probability=True, random_state = seed)\n",
    "estimators.append(('svc', model2))\n",
    "\n",
    "model3 = RandomForestClassifier(bootstrap=False,class_weight='balanced',criterion='entropy',max_depth=20,\n",
    "                                 max_features=0.4,max_leaf_nodes=5,min_samples_leaf=20,min_samples_split=14,\n",
    "                                 n_estimators=100,random_state = seed)\n",
    "estimators.append(('fr', model3))\n",
    "\n",
    "# create the voting ensemble model\n",
    "ensemble = VotingClassifier(estimators)\n",
    "# validate with cross-validation\n",
    "results = model_selection.cross_val_score(ensemble, X, Y, cv=kfold, scoring = scorer)\n",
    "print(results.mean())"
   ]
  },
  {
   "cell_type": "markdown",
   "metadata": {},
   "source": [
    "- Did not improve our results "
   ]
  }
 ],
 "metadata": {
  "kernelspec": {
   "display_name": "Python 3",
   "language": "python",
   "name": "python3"
  },
  "language_info": {
   "codemirror_mode": {
    "name": "ipython",
    "version": 3
   },
   "file_extension": ".py",
   "mimetype": "text/x-python",
   "name": "python",
   "nbconvert_exporter": "python",
   "pygments_lexer": "ipython3",
   "version": "3.6.7"
  }
 },
 "nbformat": 4,
 "nbformat_minor": 4
}
