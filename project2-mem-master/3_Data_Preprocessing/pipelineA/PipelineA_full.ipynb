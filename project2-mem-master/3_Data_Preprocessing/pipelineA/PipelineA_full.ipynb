{
 "cells": [
  {
   "cell_type": "markdown",
   "metadata": {},
   "source": [
    "# Pipeline A\n",
    "\n",
    "- Imputation\n",
    "- Feature engineering (Ratios, aggregation)\n",
    "- Standardization (min-max)\n",
    "- Normalization\n",
    "- Binning and Re-coding\n",
    "- Feature Selection\n",
    "- Modeling"
   ]
  },
  {
   "cell_type": "code",
   "execution_count": 1,
   "metadata": {},
   "outputs": [
    {
     "name": "stderr",
     "output_type": "stream",
     "text": [
      "Using TensorFlow backend.\n"
     ]
    }
   ],
   "source": [
    "# for preprocessing/eda models\n",
    "import pandas as pd\n",
    "import numpy as np\n",
    "import seaborn as sns\n",
    "import matplotlib.pyplot as plt\n",
    "from sklearn.preprocessing import power_transform\n",
    "from scipy import stats\n",
    "from scipy.stats import boxcox\n",
    "from scipy.stats import kurtosis, skew\n",
    "import math\n",
    "from scipy.stats import norm\n",
    "\n",
    "# feature selection\n",
    "from sklearn.feature_selection import RFE\n",
    "\n",
    "# balancing\n",
    "from imblearn.over_sampling import SMOTE\n",
    "\n",
    "# accuracy metrics and data split models\n",
    "from sklearn.model_selection import train_test_split\n",
    "from sklearn import metrics, model_selection\n",
    "from sklearn.metrics import confusion_matrix\n",
    "from sklearn.metrics import classification_report\n",
    "from sklearn.metrics import roc_auc_score\n",
    "from sklearn.metrics import accuracy_score\n",
    "from sklearn.metrics import precision_recall_fscore_support\n",
    "\n",
    "# machine learning\n",
    "from sklearn.linear_model import LogisticRegression\n",
    "from sklearn.svm import SVC\n",
    "from sklearn.naive_bayes import GaussianNB\n",
    "from sklearn.ensemble import RandomForestClassifier\n",
    "from sklearn import metrics\n",
    "from sklearn.ensemble import ExtraTreesClassifier\n",
    "from xgboost import XGBClassifier\n",
    "from sklearn.tree import DecisionTreeClassifier \n",
    "from sklearn.neural_network import MLPClassifier\n",
    "from sklearn.neighbors import KNeighborsClassifier\n",
    "\n",
    "pd.set_option('display.max_columns', 500) # display max 500 rows\n",
    "pd.set_option('display.max_rows', 140)"
   ]
  },
  {
   "cell_type": "code",
   "execution_count": 2,
   "metadata": {},
   "outputs": [
    {
     "data": {
      "text/html": [
       "<div>\n",
       "<style scoped>\n",
       "    .dataframe tbody tr th:only-of-type {\n",
       "        vertical-align: middle;\n",
       "    }\n",
       "\n",
       "    .dataframe tbody tr th {\n",
       "        vertical-align: top;\n",
       "    }\n",
       "\n",
       "    .dataframe thead th {\n",
       "        text-align: right;\n",
       "    }\n",
       "</style>\n",
       "<table border=\"1\" class=\"dataframe\">\n",
       "  <thead>\n",
       "    <tr style=\"text-align: right;\">\n",
       "      <th></th>\n",
       "      <th>Administrative</th>\n",
       "      <th>Administrative_Duration</th>\n",
       "      <th>Informational</th>\n",
       "      <th>Informational_Duration</th>\n",
       "      <th>ProductRelated</th>\n",
       "      <th>ProductRelated_Duration</th>\n",
       "      <th>BounceRates</th>\n",
       "      <th>ExitRates</th>\n",
       "      <th>PageValues</th>\n",
       "      <th>SpecialDay</th>\n",
       "      <th>Month</th>\n",
       "      <th>OperatingSystems</th>\n",
       "      <th>Browser</th>\n",
       "      <th>Region</th>\n",
       "      <th>TrafficType</th>\n",
       "      <th>VisitorType</th>\n",
       "      <th>Weekend</th>\n",
       "      <th>Revenue</th>\n",
       "    </tr>\n",
       "  </thead>\n",
       "  <tbody>\n",
       "    <tr>\n",
       "      <th>0</th>\n",
       "      <td>0</td>\n",
       "      <td>0.0</td>\n",
       "      <td>0</td>\n",
       "      <td>0.0</td>\n",
       "      <td>1</td>\n",
       "      <td>0.000000</td>\n",
       "      <td>0.20</td>\n",
       "      <td>0.20</td>\n",
       "      <td>0.0</td>\n",
       "      <td>0.0</td>\n",
       "      <td>Feb</td>\n",
       "      <td>1</td>\n",
       "      <td>1</td>\n",
       "      <td>1</td>\n",
       "      <td>1</td>\n",
       "      <td>Returning_Visitor</td>\n",
       "      <td>False</td>\n",
       "      <td>False</td>\n",
       "    </tr>\n",
       "    <tr>\n",
       "      <th>1</th>\n",
       "      <td>0</td>\n",
       "      <td>0.0</td>\n",
       "      <td>0</td>\n",
       "      <td>0.0</td>\n",
       "      <td>2</td>\n",
       "      <td>64.000000</td>\n",
       "      <td>0.00</td>\n",
       "      <td>0.10</td>\n",
       "      <td>0.0</td>\n",
       "      <td>0.0</td>\n",
       "      <td>Feb</td>\n",
       "      <td>2</td>\n",
       "      <td>2</td>\n",
       "      <td>1</td>\n",
       "      <td>2</td>\n",
       "      <td>Returning_Visitor</td>\n",
       "      <td>False</td>\n",
       "      <td>False</td>\n",
       "    </tr>\n",
       "    <tr>\n",
       "      <th>2</th>\n",
       "      <td>0</td>\n",
       "      <td>0.0</td>\n",
       "      <td>0</td>\n",
       "      <td>0.0</td>\n",
       "      <td>1</td>\n",
       "      <td>0.000000</td>\n",
       "      <td>0.20</td>\n",
       "      <td>0.20</td>\n",
       "      <td>0.0</td>\n",
       "      <td>0.0</td>\n",
       "      <td>Feb</td>\n",
       "      <td>4</td>\n",
       "      <td>1</td>\n",
       "      <td>9</td>\n",
       "      <td>3</td>\n",
       "      <td>Returning_Visitor</td>\n",
       "      <td>False</td>\n",
       "      <td>False</td>\n",
       "    </tr>\n",
       "    <tr>\n",
       "      <th>3</th>\n",
       "      <td>0</td>\n",
       "      <td>0.0</td>\n",
       "      <td>0</td>\n",
       "      <td>0.0</td>\n",
       "      <td>2</td>\n",
       "      <td>2.666667</td>\n",
       "      <td>0.05</td>\n",
       "      <td>0.14</td>\n",
       "      <td>0.0</td>\n",
       "      <td>0.0</td>\n",
       "      <td>Feb</td>\n",
       "      <td>3</td>\n",
       "      <td>2</td>\n",
       "      <td>2</td>\n",
       "      <td>4</td>\n",
       "      <td>Returning_Visitor</td>\n",
       "      <td>False</td>\n",
       "      <td>False</td>\n",
       "    </tr>\n",
       "    <tr>\n",
       "      <th>4</th>\n",
       "      <td>0</td>\n",
       "      <td>0.0</td>\n",
       "      <td>0</td>\n",
       "      <td>0.0</td>\n",
       "      <td>10</td>\n",
       "      <td>627.500000</td>\n",
       "      <td>0.02</td>\n",
       "      <td>0.05</td>\n",
       "      <td>0.0</td>\n",
       "      <td>0.0</td>\n",
       "      <td>Feb</td>\n",
       "      <td>3</td>\n",
       "      <td>3</td>\n",
       "      <td>1</td>\n",
       "      <td>4</td>\n",
       "      <td>Returning_Visitor</td>\n",
       "      <td>True</td>\n",
       "      <td>False</td>\n",
       "    </tr>\n",
       "  </tbody>\n",
       "</table>\n",
       "</div>"
      ],
      "text/plain": [
       "   Administrative  Administrative_Duration  Informational  \\\n",
       "0               0                      0.0              0   \n",
       "1               0                      0.0              0   \n",
       "2               0                      0.0              0   \n",
       "3               0                      0.0              0   \n",
       "4               0                      0.0              0   \n",
       "\n",
       "   Informational_Duration  ProductRelated  ProductRelated_Duration  \\\n",
       "0                     0.0               1                 0.000000   \n",
       "1                     0.0               2                64.000000   \n",
       "2                     0.0               1                 0.000000   \n",
       "3                     0.0               2                 2.666667   \n",
       "4                     0.0              10               627.500000   \n",
       "\n",
       "   BounceRates  ExitRates  PageValues  SpecialDay Month  OperatingSystems  \\\n",
       "0         0.20       0.20         0.0         0.0   Feb                 1   \n",
       "1         0.00       0.10         0.0         0.0   Feb                 2   \n",
       "2         0.20       0.20         0.0         0.0   Feb                 4   \n",
       "3         0.05       0.14         0.0         0.0   Feb                 3   \n",
       "4         0.02       0.05         0.0         0.0   Feb                 3   \n",
       "\n",
       "   Browser  Region  TrafficType        VisitorType  Weekend  Revenue  \n",
       "0        1       1            1  Returning_Visitor    False    False  \n",
       "1        2       1            2  Returning_Visitor    False    False  \n",
       "2        1       9            3  Returning_Visitor    False    False  \n",
       "3        2       2            4  Returning_Visitor    False    False  \n",
       "4        3       1            4  Returning_Visitor     True    False  "
      ]
     },
     "execution_count": 2,
     "metadata": {},
     "output_type": "execute_result"
    }
   ],
   "source": [
    "# read in data to skip innitial steps from pipeline B\n",
    "data = pd.read_csv('online_shoppers_intention-2.csv')\n",
    "data1 = data.copy() # copy of original df\n",
    "data1.head()"
   ]
  },
  {
   "cell_type": "code",
   "execution_count": 3,
   "metadata": {},
   "outputs": [
    {
     "data": {
      "text/plain": [
       "False    9462\n",
       "True     2868\n",
       "Name: Weekend, dtype: int64"
      ]
     },
     "execution_count": 3,
     "metadata": {},
     "output_type": "execute_result"
    }
   ],
   "source": [
    "data1.Weekend.value_counts()"
   ]
  },
  {
   "cell_type": "markdown",
   "metadata": {},
   "source": [
    "## Imputation \n",
    "- assumption that exit rates cannot be zero"
   ]
  },
  {
   "cell_type": "code",
   "execution_count": 4,
   "metadata": {},
   "outputs": [],
   "source": [
    "# impute our assumption (beccomes a new feature)\n",
    "data1['ExitRatesImpute'] = data1['ExitRates'].replace(0,np.NaN)\n",
    "data1['ExitRatesImpute'] = data1['ExitRatesImpute'].fillna(data1['ExitRatesImpute'].median())"
   ]
  },
  {
   "cell_type": "markdown",
   "metadata": {},
   "source": [
    "## Feature Engineering (Ratios, aggregation)\n",
    "- calculate ratios for count of page visits \n",
    "- combine bounce and exit rates (average and weighted average - new features)\n",
    "    - they have a strong linear relationship\n",
    "- divide features that have strong non-linear relationship \n",
    "    - solve zero-division by replacing it with 0 (e.g. 1/0 = n/a)"
   ]
  },
  {
   "cell_type": "code",
   "execution_count": 5,
   "metadata": {},
   "outputs": [],
   "source": [
    "# ratios for counts\n",
    "data1['totalFracAdmin'] = data1['Administrative']/(data1['Administrative'] + data1['Informational'] + data1['ProductRelated'])\n",
    "data1['totalFracInfo'] = data1['Informational']/(data1['Administrative'] + data1['Informational'] + data1['ProductRelated'])\n",
    "data1['totalFracProd'] = data1['ProductRelated']/(data1['Administrative'] + data1['Informational'] + data1['ProductRelated'])\n",
    "\n",
    "# average combining\n",
    "data1['BounceExitAvg'] = (data1['BounceRates'] + data1['ExitRates'])/2\n",
    "\n",
    "# weighted-average feature joining\n",
    "data1['BounceExitW1'] = data1['BounceRates'] * 0.6 + data1['ExitRates'] * 0.4\n",
    "data1['BounceExitW2'] = data1['BounceRates'] * 0.7 + data1['ExitRates'] * 0.3\n",
    "data1['BounceExitW3'] = data1['BounceRates'] * 0.4 + data1['ExitRates'] * 0.6\n",
    "data1['BounceExitW4'] = data1['BounceRates'] * 0.3 + data1['ExitRates'] * 0.7\n",
    "\n",
    "# bounce and exit rates vs page values ratio \n",
    "data1['BouncePageRatio'] = data1['BounceRates']/data1['PageValues']\n",
    "data1['ExitPageRatio'] = data1['ExitRates']/data1['PageValues']\n",
    "\n",
    "# durations vs page values, bounce and exit rates\n",
    "data1['InfoPageRatio'] = data1['Informational_Duration']/data1['PageValues']\n",
    "data1['ProdRelPageRatio'] = data1['ProductRelated_Duration']/data1['PageValues']\n",
    "data1['InfoBounceRatio'] = data1['Informational_Duration']/data1['BounceRates']\n",
    "data1['AdminBounceRatio'] = data1['Administrative_Duration']/data1['BounceRates']\n",
    "data1['ProdRelBounceRatio'] = data1['ProductRelated_Duration']/data1['BounceRates']\n",
    "data1['InfoExitRatio'] = data1['Informational_Duration']/data1['ExitRates']\n",
    "data1['AdminBounceRatio'] = data1['Administrative_Duration']/data1['ExitRates']\n",
    "data1['ProdRelExitRatio'] = data1['ProductRelated_Duration']/data1['ExitRates']\n",
    "\n",
    "# page values, bounce and exit rates vs durations\n",
    "#data1['PageInfoRatio'] = data1['PageValues']/data1['Informational_Duration']\n",
    "#data1['PageProdRelRatio'] = data1['PageValues']/data1['ProductRelated_Duration']\n",
    "#data1['BounceInfoRatio'] = data1['BounceRates']/data1['Informational_Duration']\n",
    "#data1['BounceAdminRatio'] = data1['BounceRates']/data1['Administrative_Duration']\n",
    "#data1['BounceProdRelRatio'] = data1['BounceRates']/data1['ProductRelated_Duration']\n",
    "#data1['ExitInfoRatio'] = data1['ExitRates']/data1['Informational_Duration']\n",
    "#data1['BounceAdminRatio'] = data1['ExitRates']/data1['Administrative_Duration']\n",
    "#data1['ExitProdRelRatio'] = data1['ExitRates']/data1['ProductRelated_Duration']\n",
    "\n",
    "# as there are many zero values --> e.g. x/0 (zero-division) = N/A or inf can occur \n",
    "# if there is zero-division treat that as a zero\n",
    "data1 = data1.fillna(0) # fill N/A with 0 \n",
    "data1 = data1.replace(np.inf, 0) # replace inf wit 0\n",
    "data1 = data1.replace(-0, 0) # for some reason we also get -0 just fix it to 0 "
   ]
  },
  {
   "cell_type": "code",
   "execution_count": 6,
   "metadata": {},
   "outputs": [
    {
     "name": "stdout",
     "output_type": "stream",
     "text": [
      "Original number of features:  18\n",
      "Number of features added:  18\n",
      "Total number of features after feature engineering:  54\n"
     ]
    }
   ],
   "source": [
    "print('Original number of features: ', len(data.columns))\n",
    "print('Number of features added: ', len(data1.columns) - len(data.columns))\n",
    "print('Total number of features after feature engineering: ', len(data1.columns) + len(data.columns))"
   ]
  },
  {
   "cell_type": "markdown",
   "metadata": {},
   "source": [
    "## Standardization"
   ]
  },
  {
   "cell_type": "code",
   "execution_count": 7,
   "metadata": {},
   "outputs": [],
   "source": [
    "# make a copy\n",
    "standardize = data1.copy()  \n",
    "# select continous features (exclude Special Day)\n",
    "standardize = standardize.select_dtypes(include='float64').drop('SpecialDay', axis = 1)"
   ]
  },
  {
   "cell_type": "code",
   "execution_count": 8,
   "metadata": {},
   "outputs": [
    {
     "data": {
      "text/html": [
       "<div>\n",
       "<style scoped>\n",
       "    .dataframe tbody tr th:only-of-type {\n",
       "        vertical-align: middle;\n",
       "    }\n",
       "\n",
       "    .dataframe tbody tr th {\n",
       "        vertical-align: top;\n",
       "    }\n",
       "\n",
       "    .dataframe thead th {\n",
       "        text-align: right;\n",
       "    }\n",
       "</style>\n",
       "<table border=\"1\" class=\"dataframe\">\n",
       "  <thead>\n",
       "    <tr style=\"text-align: right;\">\n",
       "      <th></th>\n",
       "      <th>Administrative_Duration_Scaled</th>\n",
       "      <th>Informational_Duration_Scaled</th>\n",
       "      <th>ProductRelated_Duration_Scaled</th>\n",
       "      <th>BounceRates_Scaled</th>\n",
       "      <th>ExitRates_Scaled</th>\n",
       "      <th>PageValues_Scaled</th>\n",
       "      <th>ExitRatesImpute_Scaled</th>\n",
       "      <th>totalFracAdmin_Scaled</th>\n",
       "      <th>totalFracInfo_Scaled</th>\n",
       "      <th>totalFracProd_Scaled</th>\n",
       "      <th>BounceExitAvg_Scaled</th>\n",
       "      <th>BounceExitW1_Scaled</th>\n",
       "      <th>BounceExitW2_Scaled</th>\n",
       "      <th>BounceExitW3_Scaled</th>\n",
       "      <th>BounceExitW4_Scaled</th>\n",
       "      <th>BouncePageRatio_Scaled</th>\n",
       "      <th>ExitPageRatio_Scaled</th>\n",
       "      <th>InfoPageRatio_Scaled</th>\n",
       "      <th>ProdRelPageRatio_Scaled</th>\n",
       "      <th>InfoBounceRatio_Scaled</th>\n",
       "      <th>AdminBounceRatio_Scaled</th>\n",
       "      <th>ProdRelBounceRatio_Scaled</th>\n",
       "      <th>InfoExitRatio_Scaled</th>\n",
       "      <th>ProdRelExitRatio_Scaled</th>\n",
       "    </tr>\n",
       "  </thead>\n",
       "  <tbody>\n",
       "    <tr>\n",
       "      <th>count</th>\n",
       "      <td>12330.000000</td>\n",
       "      <td>12330.000000</td>\n",
       "      <td>12330.000000</td>\n",
       "      <td>12330.000000</td>\n",
       "      <td>12330.000000</td>\n",
       "      <td>12330.000000</td>\n",
       "      <td>12330.000000</td>\n",
       "      <td>12330.000000</td>\n",
       "      <td>12330.00000</td>\n",
       "      <td>12330.000000</td>\n",
       "      <td>12330.000000</td>\n",
       "      <td>12330.000000</td>\n",
       "      <td>12330.000000</td>\n",
       "      <td>12330.000000</td>\n",
       "      <td>12330.000000</td>\n",
       "      <td>12330.000000</td>\n",
       "      <td>12330.000000</td>\n",
       "      <td>12330.000000</td>\n",
       "      <td>12330.000000</td>\n",
       "      <td>12330.000000</td>\n",
       "      <td>12330.000000</td>\n",
       "      <td>12330.000000</td>\n",
       "      <td>12330.000000</td>\n",
       "      <td>12330.000000</td>\n",
       "    </tr>\n",
       "    <tr>\n",
       "      <th>mean</th>\n",
       "      <td>0.023779</td>\n",
       "      <td>0.013522</td>\n",
       "      <td>0.018676</td>\n",
       "      <td>0.110957</td>\n",
       "      <td>0.215364</td>\n",
       "      <td>0.016279</td>\n",
       "      <td>0.215459</td>\n",
       "      <td>0.079955</td>\n",
       "      <td>0.01446</td>\n",
       "      <td>0.905098</td>\n",
       "      <td>0.163160</td>\n",
       "      <td>0.152720</td>\n",
       "      <td>0.142279</td>\n",
       "      <td>0.173601</td>\n",
       "      <td>0.184042</td>\n",
       "      <td>0.001512</td>\n",
       "      <td>0.001537</td>\n",
       "      <td>0.001563</td>\n",
       "      <td>0.000596</td>\n",
       "      <td>0.001190</td>\n",
       "      <td>0.001255</td>\n",
       "      <td>0.001096</td>\n",
       "      <td>0.005869</td>\n",
       "      <td>0.006603</td>\n",
       "    </tr>\n",
       "    <tr>\n",
       "      <th>std</th>\n",
       "      <td>0.052013</td>\n",
       "      <td>0.055209</td>\n",
       "      <td>0.029913</td>\n",
       "      <td>0.242442</td>\n",
       "      <td>0.242983</td>\n",
       "      <td>0.051328</td>\n",
       "      <td>0.242704</td>\n",
       "      <td>0.126751</td>\n",
       "      <td>0.05037</td>\n",
       "      <td>0.141883</td>\n",
       "      <td>0.237375</td>\n",
       "      <td>0.237535</td>\n",
       "      <td>0.238127</td>\n",
       "      <td>0.237646</td>\n",
       "      <td>0.238347</td>\n",
       "      <td>0.015647</td>\n",
       "      <td>0.013210</td>\n",
       "      <td>0.019200</td>\n",
       "      <td>0.012077</td>\n",
       "      <td>0.016869</td>\n",
       "      <td>0.011059</td>\n",
       "      <td>0.015312</td>\n",
       "      <td>0.030030</td>\n",
       "      <td>0.019537</td>\n",
       "    </tr>\n",
       "    <tr>\n",
       "      <th>min</th>\n",
       "      <td>0.000000</td>\n",
       "      <td>0.000000</td>\n",
       "      <td>0.000000</td>\n",
       "      <td>0.000000</td>\n",
       "      <td>0.000000</td>\n",
       "      <td>0.000000</td>\n",
       "      <td>0.000000</td>\n",
       "      <td>0.000000</td>\n",
       "      <td>0.00000</td>\n",
       "      <td>0.000000</td>\n",
       "      <td>0.000000</td>\n",
       "      <td>0.000000</td>\n",
       "      <td>0.000000</td>\n",
       "      <td>0.000000</td>\n",
       "      <td>0.000000</td>\n",
       "      <td>0.000000</td>\n",
       "      <td>0.000000</td>\n",
       "      <td>0.000000</td>\n",
       "      <td>0.000000</td>\n",
       "      <td>0.000000</td>\n",
       "      <td>0.000000</td>\n",
       "      <td>0.000000</td>\n",
       "      <td>0.000000</td>\n",
       "      <td>0.000000</td>\n",
       "    </tr>\n",
       "    <tr>\n",
       "      <th>25%</th>\n",
       "      <td>0.000000</td>\n",
       "      <td>0.000000</td>\n",
       "      <td>0.002878</td>\n",
       "      <td>0.000000</td>\n",
       "      <td>0.071429</td>\n",
       "      <td>0.000000</td>\n",
       "      <td>0.070613</td>\n",
       "      <td>0.000000</td>\n",
       "      <td>0.00000</td>\n",
       "      <td>0.860465</td>\n",
       "      <td>0.039532</td>\n",
       "      <td>0.033333</td>\n",
       "      <td>0.025805</td>\n",
       "      <td>0.046154</td>\n",
       "      <td>0.052593</td>\n",
       "      <td>0.000000</td>\n",
       "      <td>0.000000</td>\n",
       "      <td>0.000000</td>\n",
       "      <td>0.000000</td>\n",
       "      <td>0.000000</td>\n",
       "      <td>0.000000</td>\n",
       "      <td>0.000000</td>\n",
       "      <td>0.000000</td>\n",
       "      <td>0.000338</td>\n",
       "    </tr>\n",
       "    <tr>\n",
       "      <th>50%</th>\n",
       "      <td>0.002207</td>\n",
       "      <td>0.000000</td>\n",
       "      <td>0.009362</td>\n",
       "      <td>0.015562</td>\n",
       "      <td>0.125782</td>\n",
       "      <td>0.000000</td>\n",
       "      <td>0.126436</td>\n",
       "      <td>0.021661</td>\n",
       "      <td>0.00000</td>\n",
       "      <td>0.963359</td>\n",
       "      <td>0.079255</td>\n",
       "      <td>0.066667</td>\n",
       "      <td>0.056848</td>\n",
       "      <td>0.088884</td>\n",
       "      <td>0.100000</td>\n",
       "      <td>0.000000</td>\n",
       "      <td>0.000000</td>\n",
       "      <td>0.000000</td>\n",
       "      <td>0.000000</td>\n",
       "      <td>0.000000</td>\n",
       "      <td>0.000040</td>\n",
       "      <td>0.000000</td>\n",
       "      <td>0.000000</td>\n",
       "      <td>0.001863</td>\n",
       "    </tr>\n",
       "    <tr>\n",
       "      <th>75%</th>\n",
       "      <td>0.027438</td>\n",
       "      <td>0.000000</td>\n",
       "      <td>0.022887</td>\n",
       "      <td>0.084063</td>\n",
       "      <td>0.250000</td>\n",
       "      <td>0.000000</td>\n",
       "      <td>0.249341</td>\n",
       "      <td>0.115385</td>\n",
       "      <td>0.00000</td>\n",
       "      <td>1.000000</td>\n",
       "      <td>0.162709</td>\n",
       "      <td>0.140852</td>\n",
       "      <td>0.129167</td>\n",
       "      <td>0.175638</td>\n",
       "      <td>0.189772</td>\n",
       "      <td>0.000000</td>\n",
       "      <td>0.000000</td>\n",
       "      <td>0.000000</td>\n",
       "      <td>0.000000</td>\n",
       "      <td>0.000000</td>\n",
       "      <td>0.000868</td>\n",
       "      <td>0.000268</td>\n",
       "      <td>0.000000</td>\n",
       "      <td>0.006279</td>\n",
       "    </tr>\n",
       "    <tr>\n",
       "      <th>max</th>\n",
       "      <td>1.000000</td>\n",
       "      <td>1.000000</td>\n",
       "      <td>1.000000</td>\n",
       "      <td>1.000000</td>\n",
       "      <td>1.000000</td>\n",
       "      <td>1.000000</td>\n",
       "      <td>1.000000</td>\n",
       "      <td>1.000000</td>\n",
       "      <td>1.00000</td>\n",
       "      <td>1.000000</td>\n",
       "      <td>1.000000</td>\n",
       "      <td>1.000000</td>\n",
       "      <td>1.000000</td>\n",
       "      <td>1.000000</td>\n",
       "      <td>1.000000</td>\n",
       "      <td>1.000000</td>\n",
       "      <td>1.000000</td>\n",
       "      <td>1.000000</td>\n",
       "      <td>1.000000</td>\n",
       "      <td>1.000000</td>\n",
       "      <td>1.000000</td>\n",
       "      <td>1.000000</td>\n",
       "      <td>1.000000</td>\n",
       "      <td>1.000000</td>\n",
       "    </tr>\n",
       "  </tbody>\n",
       "</table>\n",
       "</div>"
      ],
      "text/plain": [
       "       Administrative_Duration_Scaled  Informational_Duration_Scaled  \\\n",
       "count                    12330.000000                   12330.000000   \n",
       "mean                         0.023779                       0.013522   \n",
       "std                          0.052013                       0.055209   \n",
       "min                          0.000000                       0.000000   \n",
       "25%                          0.000000                       0.000000   \n",
       "50%                          0.002207                       0.000000   \n",
       "75%                          0.027438                       0.000000   \n",
       "max                          1.000000                       1.000000   \n",
       "\n",
       "       ProductRelated_Duration_Scaled  BounceRates_Scaled  ExitRates_Scaled  \\\n",
       "count                    12330.000000        12330.000000      12330.000000   \n",
       "mean                         0.018676            0.110957          0.215364   \n",
       "std                          0.029913            0.242442          0.242983   \n",
       "min                          0.000000            0.000000          0.000000   \n",
       "25%                          0.002878            0.000000          0.071429   \n",
       "50%                          0.009362            0.015562          0.125782   \n",
       "75%                          0.022887            0.084063          0.250000   \n",
       "max                          1.000000            1.000000          1.000000   \n",
       "\n",
       "       PageValues_Scaled  ExitRatesImpute_Scaled  totalFracAdmin_Scaled  \\\n",
       "count       12330.000000            12330.000000           12330.000000   \n",
       "mean            0.016279                0.215459               0.079955   \n",
       "std             0.051328                0.242704               0.126751   \n",
       "min             0.000000                0.000000               0.000000   \n",
       "25%             0.000000                0.070613               0.000000   \n",
       "50%             0.000000                0.126436               0.021661   \n",
       "75%             0.000000                0.249341               0.115385   \n",
       "max             1.000000                1.000000               1.000000   \n",
       "\n",
       "       totalFracInfo_Scaled  totalFracProd_Scaled  BounceExitAvg_Scaled  \\\n",
       "count           12330.00000          12330.000000          12330.000000   \n",
       "mean                0.01446              0.905098              0.163160   \n",
       "std                 0.05037              0.141883              0.237375   \n",
       "min                 0.00000              0.000000              0.000000   \n",
       "25%                 0.00000              0.860465              0.039532   \n",
       "50%                 0.00000              0.963359              0.079255   \n",
       "75%                 0.00000              1.000000              0.162709   \n",
       "max                 1.00000              1.000000              1.000000   \n",
       "\n",
       "       BounceExitW1_Scaled  BounceExitW2_Scaled  BounceExitW3_Scaled  \\\n",
       "count         12330.000000         12330.000000         12330.000000   \n",
       "mean              0.152720             0.142279             0.173601   \n",
       "std               0.237535             0.238127             0.237646   \n",
       "min               0.000000             0.000000             0.000000   \n",
       "25%               0.033333             0.025805             0.046154   \n",
       "50%               0.066667             0.056848             0.088884   \n",
       "75%               0.140852             0.129167             0.175638   \n",
       "max               1.000000             1.000000             1.000000   \n",
       "\n",
       "       BounceExitW4_Scaled  BouncePageRatio_Scaled  ExitPageRatio_Scaled  \\\n",
       "count         12330.000000            12330.000000          12330.000000   \n",
       "mean              0.184042                0.001512              0.001537   \n",
       "std               0.238347                0.015647              0.013210   \n",
       "min               0.000000                0.000000              0.000000   \n",
       "25%               0.052593                0.000000              0.000000   \n",
       "50%               0.100000                0.000000              0.000000   \n",
       "75%               0.189772                0.000000              0.000000   \n",
       "max               1.000000                1.000000              1.000000   \n",
       "\n",
       "       InfoPageRatio_Scaled  ProdRelPageRatio_Scaled  InfoBounceRatio_Scaled  \\\n",
       "count          12330.000000             12330.000000            12330.000000   \n",
       "mean               0.001563                 0.000596                0.001190   \n",
       "std                0.019200                 0.012077                0.016869   \n",
       "min                0.000000                 0.000000                0.000000   \n",
       "25%                0.000000                 0.000000                0.000000   \n",
       "50%                0.000000                 0.000000                0.000000   \n",
       "75%                0.000000                 0.000000                0.000000   \n",
       "max                1.000000                 1.000000                1.000000   \n",
       "\n",
       "       AdminBounceRatio_Scaled  ProdRelBounceRatio_Scaled  \\\n",
       "count             12330.000000               12330.000000   \n",
       "mean                  0.001255                   0.001096   \n",
       "std                   0.011059                   0.015312   \n",
       "min                   0.000000                   0.000000   \n",
       "25%                   0.000000                   0.000000   \n",
       "50%                   0.000040                   0.000000   \n",
       "75%                   0.000868                   0.000268   \n",
       "max                   1.000000                   1.000000   \n",
       "\n",
       "       InfoExitRatio_Scaled  ProdRelExitRatio_Scaled  \n",
       "count          12330.000000             12330.000000  \n",
       "mean               0.005869                 0.006603  \n",
       "std                0.030030                 0.019537  \n",
       "min                0.000000                 0.000000  \n",
       "25%                0.000000                 0.000338  \n",
       "50%                0.000000                 0.001863  \n",
       "75%                0.000000                 0.006279  \n",
       "max                1.000000                 1.000000  "
      ]
     },
     "execution_count": 8,
     "metadata": {},
     "output_type": "execute_result"
    }
   ],
   "source": [
    "# import MinMaxScaler module\n",
    "from sklearn.preprocessing import MinMaxScaler\n",
    "\n",
    "# use MinMaxScaler function \n",
    "scaler = MinMaxScaler()\n",
    "\n",
    "# min-max standerdize all continous columns\n",
    "standardize[standardize.columns] = scaler.fit_transform(standardize[standardize.columns]) # fit the scaler to the model \n",
    "standardize_done = standardize.add_suffix('_Scaled') # add suffix (new features)\n",
    "\n",
    "# add new standerdized features to data1\n",
    "data1 = pd.concat([data1, standardize_done], axis = 1 )\n",
    "\n",
    "#use .describe() to prove standardization worked\n",
    "standardize_done.describe()"
   ]
  },
  {
   "cell_type": "code",
   "execution_count": 9,
   "metadata": {},
   "outputs": [
    {
     "name": "stdout",
     "output_type": "stream",
     "text": [
      "Number of features before standardization:  36\n",
      "Number of features added:  24\n",
      "Total number of features after standardization:  60\n"
     ]
    }
   ],
   "source": [
    "print('Number of features before standardization: ', len(data1.columns) - len(standardize_done.columns))\n",
    "print('Number of features added: ', len(standardize_done.columns))\n",
    "print('Total number of features after standardization: ', len(data1.columns))"
   ]
  },
  {
   "cell_type": "markdown",
   "metadata": {},
   "source": [
    "## Normalization\n",
    "- Normalize continous values \n",
    "- Requirement: -0.5 < .skew() < 0.5"
   ]
  },
  {
   "cell_type": "code",
   "execution_count": 10,
   "metadata": {},
   "outputs": [],
   "source": [
    "normalization_df = standardize_done.copy()"
   ]
  },
  {
   "cell_type": "markdown",
   "metadata": {},
   "source": [
    "### Features that need to be Normalized\n",
    "- Note: original features that were not scaled were added as well "
   ]
  },
  {
   "cell_type": "code",
   "execution_count": 11,
   "metadata": {
    "scrolled": true
   },
   "outputs": [
    {
     "name": "stdout",
     "output_type": "stream",
     "text": [
      "Right skew:  Administrative_Duration_Scaled 5.6157190187741906\n",
      "Right skew:  Informational_Duration_Scaled 7.5791847157342165\n",
      "Right skew:  ProductRelated_Duration_Scaled 7.2632276825613165\n",
      "Right skew:  BounceRates_Scaled 2.9478552666955338\n",
      "Right skew:  ExitRates_Scaled 2.1487889999009795\n",
      "Right skew:  PageValues_Scaled 6.382964248998127\n",
      "Right skew:  ExitRatesImpute_Scaled 2.1562028822830084\n",
      "Right skew:  totalFracAdmin_Scaled 2.6021648114344162\n",
      "Right skew:  totalFracInfo_Scaled 8.71792989818395\n",
      "Left skew:  totalFracProd_Scaled -2.4188748873082173\n",
      "Right skew:  BounceExitAvg_Scaled 2.658645853438436\n",
      "Right skew:  BounceExitW1_Scaled 2.7432714016393325\n",
      "Right skew:  BounceExitW2_Scaled 2.8163076932534996\n",
      "Right skew:  BounceExitW3_Scaled 2.564778543858945\n",
      "Right skew:  BounceExitW4_Scaled 2.4642333180311855\n",
      "Right skew:  BouncePageRatio_Scaled 41.78940180771349\n",
      "Right skew:  ExitPageRatio_Scaled 43.581820133212936\n",
      "Right skew:  InfoPageRatio_Scaled 29.693954555446144\n",
      "Right skew:  ProdRelPageRatio_Scaled 60.84760812139583\n",
      "Right skew:  InfoBounceRatio_Scaled 39.34857828293342\n",
      "Right skew:  AdminBounceRatio_Scaled 70.91864606229709\n",
      "Right skew:  ProdRelBounceRatio_Scaled 48.066990986061796\n",
      "Right skew:  InfoExitRatio_Scaled 13.168135561614596\n",
      "Right skew:  ProdRelExitRatio_Scaled 19.72148200348224\n"
     ]
    }
   ],
   "source": [
    "# find skewed features \n",
    "normalization_needed = [] # empty list for cols that need normalizing \n",
    "normalization_df_cols = normalization_df.columns\n",
    "for col in normalization_df_cols:\n",
    "    if normalization_df[col].skew() > 0.5:\n",
    "        print('Right skew: ',col,normalization_df[col].skew())\n",
    "        normalization_needed.append(col)\n",
    "    elif normalization_df[col].skew() < -0.5:\n",
    "        print('Left skew: ',col,normalization_df[col].skew())\n",
    "        normalization_needed.append(col)\n",
    "    else:\n",
    "        \"\""
   ]
  },
  {
   "cell_type": "code",
   "execution_count": 12,
   "metadata": {},
   "outputs": [
    {
     "name": "stdout",
     "output_type": "stream",
     "text": [
      "24  features need normalizing\n"
     ]
    }
   ],
   "source": [
    "print(len(normalization_needed),' features need normalizing')"
   ]
  },
  {
   "cell_type": "code",
   "execution_count": 13,
   "metadata": {},
   "outputs": [],
   "source": [
    "# function to create a histogram \n",
    "# source: https://stackoverflow.com/questions/20011122/fitting-a-normal-distribution-to-1d-data\n",
    "def plot_hist(df, column, bin_amount=25):\n",
    "    # Fit a normal distribution to the data:\n",
    "    mu, std = norm.fit(df[column])\n",
    "\n",
    "    # Plot the histogram.\n",
    "    ## Set the alpha value used for blending (how transparent the color is)\n",
    "    plt.hist(df[column], bins=bin_amount, density=True, alpha=0.8, color='g')\n",
    "\n",
    "    # Plot the PDF.\n",
    "    xmin, xmax = plt.xlim()\n",
    "    x = np.linspace(xmin, xmax, 100)\n",
    "    p = norm.pdf(x, mu, std)\n",
    "    plt.plot(x, p, 'k', linewidth=2)\n",
    "    title = \"Fit results: mu = %.2f,  std = %.2f\" % (mu, std)\n",
    "    plt.title(title)\n",
    "    plt.xlabel(col)\n",
    "    plt.show()"
   ]
  },
  {
   "cell_type": "markdown",
   "metadata": {},
   "source": [
    "### Histograms for all features before normalization\n",
    "- Some are highly skewed and might not be possible to normalize "
   ]
  },
  {
   "cell_type": "code",
   "execution_count": 14,
   "metadata": {
    "scrolled": true
   },
   "outputs": [
    {
     "data": {
      "image/png": "[encoded data removed]",
      "text/plain": [
       "<Figure size 432x288 with 1 Axes>"
      ]
     },
     "metadata": {
      "needs_background": "light"
     },
     "output_type": "display_data"
    },
    {
     "data": {
      "image/png": "[encoded data removed]",
      "text/plain": [
       "<Figure size 432x288 with 1 Axes>"
      ]
     },
     "metadata": {
      "needs_background": "light"
     },
     "output_type": "display_data"
    },
    {
     "data": {
      "image/png": "[encoded data removed]",
      "text/plain": [
       "<Figure size 432x288 with 1 Axes>"
      ]
     },
     "metadata": {
      "needs_background": "light"
     },
     "output_type": "display_data"
    },
    {
     "data": {
      "image/png": "[encoded data removed]",
      "text/plain": [
       "<Figure size 432x288 with 1 Axes>"
      ]
     },
     "metadata": {
      "needs_background": "light"
     },
     "output_type": "display_data"
    },
    {
     "data": {
      "image/png": "[encoded data removed]",
      "text/plain": [
       "<Figure size 432x288 with 1 Axes>"
      ]
     },
     "metadata": {
      "needs_background": "light"
     },
     "output_type": "display_data"
    },
    {
     "data": {
      "image/png": "[encoded data removed]",
      "text/plain": [
       "<Figure size 432x288 with 1 Axes>"
      ]
     },
     "metadata": {
      "needs_background": "light"
     },
     "output_type": "display_data"
    },
    {
     "data": {
      "image/png": "[encoded data removed]",
      "text/plain": [
       "<Figure size 432x288 with 1 Axes>"
      ]
     },
     "metadata": {
      "needs_background": "light"
     },
     "output_type": "display_data"
    },
    {
     "data": {
      "image/png": "[encoded data removed]",
      "text/plain": [
       "<Figure size 432x288 with 1 Axes>"
      ]
     },
     "metadata": {
      "needs_background": "light"
     },
     "output_type": "display_data"
    },
    {
     "data": {
      "image/png": "[encoded data removed]",
      "text/plain": [
       "<Figure size 432x288 with 1 Axes>"
      ]
     },
     "metadata": {
      "needs_background": "light"
     },
     "output_type": "display_data"
    },
    {
     "data": {
      "image/png": "[encoded data removed]",
      "text/plain": [
       "<Figure size 432x288 with 1 Axes>"
      ]
     },
     "metadata": {
      "needs_background": "light"
     },
     "output_type": "display_data"
    },
    {
     "data": {
      "image/png": "[encoded data removed]",
      "text/plain": [
       "<Figure size 432x288 with 1 Axes>"
      ]
     },
     "metadata": {
      "needs_background": "light"
     },
     "output_type": "display_data"
    },
    {
     "data": {
      "image/png": "[encoded data removed]",
      "text/plain": [
       "<Figure size 432x288 with 1 Axes>"
      ]
     },
     "metadata": {
      "needs_background": "light"
     },
     "output_type": "display_data"
    },
    {
     "data": {
      "image/png": "[encoded data removed]",
      "text/plain": [
       "<Figure size 432x288 with 1 Axes>"
      ]
     },
     "metadata": {
      "needs_background": "light"
     },
     "output_type": "display_data"
    },
    {
     "data": {
      "image/png": "[encoded data removed]",
      "text/plain": [
       "<Figure size 432x288 with 1 Axes>"
      ]
     },
     "metadata": {
      "needs_background": "light"
     },
     "output_type": "display_data"
    },
    {
     "data": {
      "image/png": "[encoded data removed]",
      "text/plain": [
       "<Figure size 432x288 with 1 Axes>"
      ]
     },
     "metadata": {
      "needs_background": "light"
     },
     "output_type": "display_data"
    },
    {
     "data": {
      "image/png": "[encoded data removed]",
      "text/plain": [
       "<Figure size 432x288 with 1 Axes>"
      ]
     },
     "metadata": {
      "needs_background": "light"
     },
     "output_type": "display_data"
    },
    {
     "data": {
      "image/png": "[encoded data removed]",
      "text/plain": [
       "<Figure size 432x288 with 1 Axes>"
      ]
     },
     "metadata": {
      "needs_background": "light"
     },
     "output_type": "display_data"
    },
    {
     "data": {
      "image/png": "[encoded data removed]",
      "text/plain": [
       "<Figure size 432x288 with 1 Axes>"
      ]
     },
     "metadata": {
      "needs_background": "light"
     },
     "output_type": "display_data"
    },
    {
     "data": {
      "image/png": "[encoded data removed]",
      "text/plain": [
       "<Figure size 432x288 with 1 Axes>"
      ]
     },
     "metadata": {
      "needs_background": "light"
     },
     "output_type": "display_data"
    },
    {
     "data": {
      "image/png": "[encoded data removed]",
      "text/plain": [
       "<Figure size 432x288 with 1 Axes>"
      ]
     },
     "metadata": {
      "needs_background": "light"
     },
     "output_type": "display_data"
    },
    {
     "data": {
      "image/png": "[encoded data removed]",
      "text/plain": [
       "<Figure size 432x288 with 1 Axes>"
      ]
     },
     "metadata": {
      "needs_background": "light"
     },
     "output_type": "display_data"
    },
    {
     "data": {
      "image/png": "[encoded data removed]",
      "text/plain": [
       "<Figure size 432x288 with 1 Axes>"
      ]
     },
     "metadata": {
      "needs_background": "light"
     },
     "output_type": "display_data"
    },
    {
     "data": {
      "image/png": "[encoded data removed]",
      "text/plain": [
       "<Figure size 432x288 with 1 Axes>"
      ]
     },
     "metadata": {
      "needs_background": "light"
     },
     "output_type": "display_data"
    },
    {
     "data": {
      "image/png": "[encoded data removed]",
      "text/plain": [
       "<Figure size 432x288 with 1 Axes>"
      ]
     },
     "metadata": {
      "needs_background": "light"
     },
     "output_type": "display_data"
    }
   ],
   "source": [
    "for col in normalization_df_cols:\n",
    "    plot_hist(normalization_df, col)"
   ]
  },
  {
   "cell_type": "markdown",
   "metadata": {},
   "source": [
    "### Applying Normalization"
   ]
  },
  {
   "cell_type": "code",
   "execution_count": 15,
   "metadata": {},
   "outputs": [],
   "source": [
    "# innitial yeo-johnson normalization\n",
    "for col in normalization_needed:\n",
    "    if normalization_df[col].skew() > 0.5:\n",
    "        normalization_df[col] = stats.yeojohnson(normalization_df[col])[0]\n",
    "    \n",
    "# replace -0 with 0 \n",
    "normalization_df = normalization_df.replace(-0, 0)\n",
    "\n",
    "# square-root transformation for positively/rightly skewed features that still have a skew > 0.5 \n",
    "for col in normalization_df_cols:\n",
    "    if normalization_df[col].skew() > 0.5:\n",
    "        normalization_df[col] = np.sqrt(normalization_df[col])\n",
    "        \n",
    "# left skew transformation\n",
    "normalization_df['totalFracProd_Scaled'] = normalization_df['totalFracProd_Scaled']**2\n",
    "\n",
    "# right manual transformation\n",
    "normalization_df['AdminBounceRatio_Scaled'] = np.sqrt(normalization_df['AdminBounceRatio_Scaled'])\n",
    "normalization_df['ProdRelBounceRatio_Scaled'] = np.sqrt(np.sqrt(normalization_df['ProdRelBounceRatio_Scaled']))"
   ]
  },
  {
   "cell_type": "markdown",
   "metadata": {},
   "source": [
    "### Skew after normalization"
   ]
  },
  {
   "cell_type": "code",
   "execution_count": 16,
   "metadata": {
    "scrolled": true
   },
   "outputs": [
    {
     "name": "stdout",
     "output_type": "stream",
     "text": [
      "Normalized Administrative_Duration_Scaled 0.3295801795635637\n",
      "Right skew:  Informational_Duration_Scaled 1.7326012884342452\n",
      "Normalized ProductRelated_Duration_Scaled -0.23543933031636485\n",
      "Normalized BounceRates_Scaled 0.3262257513950875\n",
      "Normalized ExitRates_Scaled 0.3379450817642422\n",
      "Right skew:  PageValues_Scaled 1.4692374319742973\n",
      "Normalized ExitRatesImpute_Scaled 0.34543199073436326\n",
      "Normalized totalFracAdmin_Scaled 0.15463883173278434\n",
      "Right skew:  totalFracInfo_Scaled 1.4670525404458559\n",
      "Left skew:  totalFracProd_Scaled -1.5358710010478271\n",
      "Normalized BounceExitAvg_Scaled -0.14021732571738893\n",
      "Normalized BounceExitW1_Scaled -0.06154026184381935\n",
      "Normalized BounceExitW2_Scaled 0.036799663481299594\n",
      "Normalized BounceExitW3_Scaled 0.4776758903657082\n",
      "Normalized BounceExitW4_Scaled 0.43335849977275076\n",
      "Right skew:  BouncePageRatio_Scaled 2.4608667487409366\n",
      "Right skew:  ExitPageRatio_Scaled 1.6922979051299853\n",
      "Right skew:  InfoPageRatio_Scaled 3.3982797233166844\n",
      "Right skew:  ProdRelPageRatio_Scaled 2.101803028825854\n",
      "Right skew:  InfoBounceRatio_Scaled 2.651521950543749\n",
      "Normalized AdminBounceRatio_Scaled 0.20928818528699464\n",
      "Normalized ProdRelBounceRatio_Scaled 0.23713532656868996\n",
      "Right skew:  InfoExitRatio_Scaled 1.8478333061506536\n",
      "Normalized ProdRelExitRatio_Scaled 0.16581366510580983\n"
     ]
    }
   ],
   "source": [
    "not_normalized = []\n",
    "# if still not normal display \n",
    "for col in normalization_df_cols:\n",
    "    if normalization_df[col].skew() > 0.5:\n",
    "        print('Right skew: ',col,normalization_df[col].skew())\n",
    "        not_normalized.append(col)\n",
    "    elif normalization_df[col].skew() < -0.5:\n",
    "        print('Left skew: ',col,normalization_df[col].skew())\n",
    "        not_normalized.append(col)\n",
    "    else:\n",
    "         print('Normalized', col,normalization_df[col].skew())"
   ]
  },
  {
   "cell_type": "code",
   "execution_count": 17,
   "metadata": {},
   "outputs": [
    {
     "name": "stdout",
     "output_type": "stream",
     "text": [
      "Number of features that were not normalized:  10\n",
      "Number of features that were normalized:  14\n"
     ]
    }
   ],
   "source": [
    "print('Number of features that were not normalized: ',len(not_normalized))\n",
    "print('Number of features that were normalized: ', len(normalization_needed) - len(not_normalized))"
   ]
  },
  {
   "cell_type": "markdown",
   "metadata": {},
   "source": [
    "### Checking distribution of features 10 features not fully normalized \n",
    "- they look almost binary (contain a lot of zero-values) \n",
    "- we will create new features by binning them on some threshold (e.g. zero or not)"
   ]
  },
  {
   "cell_type": "code",
   "execution_count": 18,
   "metadata": {
    "scrolled": true
   },
   "outputs": [
    {
     "data": {
      "image/png": "[encoded data removed]",
      "text/plain": [
       "<Figure size 432x288 with 1 Axes>"
      ]
     },
     "metadata": {
      "needs_background": "light"
     },
     "output_type": "display_data"
    },
    {
     "data": {
      "image/png": "[encoded data removed]",
      "text/plain": [
       "<Figure size 432x288 with 1 Axes>"
      ]
     },
     "metadata": {
      "needs_background": "light"
     },
     "output_type": "display_data"
    },
    {
     "data": {
      "image/png": "[encoded data removed]",
      "text/plain": [
       "<Figure size 432x288 with 1 Axes>"
      ]
     },
     "metadata": {
      "needs_background": "light"
     },
     "output_type": "display_data"
    },
    {
     "data": {
      "image/png": "[encoded data removed]",
      "text/plain": [
       "<Figure size 432x288 with 1 Axes>"
      ]
     },
     "metadata": {
      "needs_background": "light"
     },
     "output_type": "display_data"
    },
    {
     "data": {
      "image/png": "[encoded data removed]",
      "text/plain": [
       "<Figure size 432x288 with 1 Axes>"
      ]
     },
     "metadata": {
      "needs_background": "light"
     },
     "output_type": "display_data"
    },
    {
     "data": {
      "image/png": "[encoded data removed]",
      "text/plain": [
       "<Figure size 432x288 with 1 Axes>"
      ]
     },
     "metadata": {
      "needs_background": "light"
     },
     "output_type": "display_data"
    },
    {
     "data": {
      "image/png": "[encoded data removed]",
      "text/plain": [
       "<Figure size 432x288 with 1 Axes>"
      ]
     },
     "metadata": {
      "needs_background": "light"
     },
     "output_type": "display_data"
    },
    {
     "data": {
      "image/png": "[encoded data removed]",
      "text/plain": [
       "<Figure size 432x288 with 1 Axes>"
      ]
     },
     "metadata": {
      "needs_background": "light"
     },
     "output_type": "display_data"
    },
    {
     "data": {
      "image/png": "[encoded data removed]",
      "text/plain": [
       "<Figure size 432x288 with 1 Axes>"
      ]
     },
     "metadata": {
      "needs_background": "light"
     },
     "output_type": "display_data"
    },
    {
     "data": {
      "image/png": "[encoded data removed]",
      "text/plain": [
       "<Figure size 432x288 with 1 Axes>"
      ]
     },
     "metadata": {
      "needs_background": "light"
     },
     "output_type": "display_data"
    }
   ],
   "source": [
    "for col in not_normalized:\n",
    "    plot_hist(normalization_df, col)"
   ]
  },
  {
   "cell_type": "markdown",
   "metadata": {},
   "source": [
    "### Most frequent values for not fully normalized features\n",
    "- are moslty zeroes so we will bin them depending on whether the value is a zero or not\n",
    "- more zeroes occur in ratios as zero-division can be encountered "
   ]
  },
  {
   "cell_type": "code",
   "execution_count": 19,
   "metadata": {
    "scrolled": true
   },
   "outputs": [
    {
     "name": "stdout",
     "output_type": "stream",
     "text": [
      "Informational_Duration_Scaled \n",
      " 0.0    9925\n",
      "Name: Informational_Duration_Scaled, dtype: int64\n",
      "PageValues_Scaled \n",
      " 0.0    9600\n",
      "Name: PageValues_Scaled, dtype: int64\n",
      "totalFracInfo_Scaled \n",
      " 0.0    9699\n",
      "Name: totalFracInfo_Scaled, dtype: int64\n",
      "totalFracProd_Scaled \n",
      " 1.0    5299\n",
      "Name: totalFracProd_Scaled, dtype: int64\n",
      "BouncePageRatio_Scaled \n",
      " 0.0    10792\n",
      "Name: BouncePageRatio_Scaled, dtype: int64\n",
      "ExitPageRatio_Scaled \n",
      " 0.0    9637\n",
      "Name: ExitPageRatio_Scaled, dtype: int64\n",
      "InfoPageRatio_Scaled \n",
      " 0.0    11315\n",
      "Name: InfoPageRatio_Scaled, dtype: int64\n",
      "ProdRelPageRatio_Scaled \n",
      " 0.0    9600\n",
      "Name: ProdRelPageRatio_Scaled, dtype: int64\n",
      "InfoBounceRatio_Scaled \n",
      " 0.0    10699\n",
      "Name: InfoBounceRatio_Scaled, dtype: int64\n",
      "InfoExitRatio_Scaled \n",
      " 0.0    9932\n",
      "Name: InfoExitRatio_Scaled, dtype: int64\n"
     ]
    }
   ],
   "source": [
    "for col in not_normalized:\n",
    "    print(col, '\\n',normalization_df[col].value_counts().head(1))"
   ]
  },
  {
   "cell_type": "markdown",
   "metadata": {},
   "source": [
    "### Add suffix and merge with Data1\n",
    "- add suffix to columns that needed normalization even the ones that could not be fully normalized"
   ]
  },
  {
   "cell_type": "code",
   "execution_count": 20,
   "metadata": {},
   "outputs": [],
   "source": [
    "for col in normalization_needed: # All needed normalization \n",
    "    normalization_done = normalization_df.add_suffix('_Norm') # add suffix to distinguish "
   ]
  },
  {
   "cell_type": "code",
   "execution_count": 21,
   "metadata": {},
   "outputs": [],
   "source": [
    "# concat normalized features with scaled and original\n",
    "data1 = pd.concat([data1,normalization_done], axis = 1)"
   ]
  },
  {
   "cell_type": "code",
   "execution_count": 22,
   "metadata": {},
   "outputs": [
    {
     "data": {
      "text/plain": [
       "(12330, 84)"
      ]
     },
     "execution_count": 22,
     "metadata": {},
     "output_type": "execute_result"
    }
   ],
   "source": [
    "# we now have 84 columns \n",
    "data1.shape"
   ]
  },
  {
   "cell_type": "markdown",
   "metadata": {},
   "source": [
    "## Binning and Encoding\n",
    "1. Bin and encode original categorical and text data\n",
    "    - Bin month to quarters and one-hot \n",
    "    - Encode visitor type to numeric and one-hot\n",
    "    - One-hot special day \n",
    "    - Convert to correct data type\n",
    "2. Bin not fully normalized features"
   ]
  },
  {
   "cell_type": "code",
   "execution_count": 23,
   "metadata": {},
   "outputs": [],
   "source": [
    "#1. Bin and encode original categorical and text data\n",
    "\n",
    "#binning the Month column by quarter(as seen above)\n",
    "#new column created-month_bin will have months binned by their respective quarters\n",
    "def Month_bin(Month) :\n",
    "    if Month == 'Jan':\n",
    "        return 1\n",
    "    elif Month == 'Feb':\n",
    "        return 1\n",
    "    elif Month == 'Mar':\n",
    "        return 1\n",
    "    elif Month == 'Apr':\n",
    "        return 2\n",
    "    elif Month == 'May':\n",
    "        return 2\n",
    "    elif Month == 'June':\n",
    "        return 2\n",
    "    elif Month == 'Jul':\n",
    "        return 3\n",
    "    elif Month == 'Aug':\n",
    "        return 3\n",
    "    elif Month == 'Sep':\n",
    "        return 3\n",
    "    elif Month == 'Oct':\n",
    "        return 4\n",
    "    elif Month == 'Nov':\n",
    "        return 4\n",
    "    elif Month == 'Dec':\n",
    "        return 4\n",
    "\n",
    "data1['Month_bin'] = data1['Month'].apply(Month_bin)\n",
    "\n",
    "#binning VisitorType\n",
    "#creating new column--VisitorType_bin\n",
    "def VisitorType_bin(VisitorType) :\n",
    "    if VisitorType == 'Returning_Visitor':\n",
    "        return 1\n",
    "    elif VisitorType == 'New_Visitor':\n",
    "        return 2\n",
    "    elif VisitorType == 'Other':\n",
    "        return 3\n",
    "\n",
    "# apply function\n",
    "data1['VisitorType_bin'] = data1['VisitorType'].apply(VisitorType_bin)\n",
    "\n",
    "# get dummies \n",
    "data1 = pd.get_dummies(data1, columns=['VisitorType_bin','Month_bin','SpecialDay'])\n",
    "# convert to bool \n",
    "data1[['VisitorType_bin_1', 'VisitorType_bin_2', 'VisitorType_bin_3',\n",
    "       'Month_bin_1', 'Month_bin_2', 'Month_bin_3', 'Month_bin_4','SpecialDay_0.0', 'SpecialDay_0.2',\n",
    "       'SpecialDay_0.4', 'SpecialDay_0.6', 'SpecialDay_0.8', 'SpecialDay_1.0']] =  data1[['VisitorType_bin_1', \n",
    "    'VisitorType_bin_2', 'VisitorType_bin_3','Month_bin_1', 'Month_bin_2', 'Month_bin_3', 'Month_bin_4','SpecialDay_0.0',\n",
    "    'SpecialDay_0.2','SpecialDay_0.4', 'SpecialDay_0.6', 'SpecialDay_0.8', 'SpecialDay_1.0']].astype(bool)\n",
    "\n",
    "def browser_fun(series):\n",
    "    if series == 2 or series == 1:\n",
    "        return 1\n",
    "    elif series == 4 or series == 5 or series == 6 or series == 10 or series == 8 or series == 3:\n",
    "        return 2 \n",
    "    else:\n",
    "        return 3\n",
    "    \n",
    "# apply function for browser\n",
    "data1['Browser_Bin'] = data1['Browser'].apply(browser_fun)\n",
    "\n",
    "def TrafficType_fun(series):\n",
    "    if series == 2 or series == 1 or series == 3 or series == 4:\n",
    "        return 1\n",
    "    elif series == 13 or series == 10 or series == 6 or series == 8 or series == 5 or series == 11 or series == 20:\n",
    "        return 2 \n",
    "    else:\n",
    "        return 3\n",
    "    \n",
    "# apply function for TrafficType\n",
    "data1['TrafficType_Bin'] = data1['TrafficType'].apply(TrafficType_fun)\n",
    "\n",
    "def RegionFun(series):\n",
    "    if series == 1 or series == 3:\n",
    "        return 1\n",
    "    elif series == 4 or series == 2:\n",
    "        return 2 \n",
    "    else:\n",
    "        return 3\n",
    "    \n",
    "# apply function for Region\n",
    "data1['Region_Bin'] = data1['Region'].apply(RegionFun)\n",
    "\n",
    "def OperatingSystemsFun(series):\n",
    "    if series == 2:\n",
    "        return 1\n",
    "    elif series == 1 or series == 3:\n",
    "        return 2\n",
    "    else:\n",
    "        return 3\n",
    "\n",
    "# apply function for TrafficType\n",
    "data1['OperatingSystems_Bin'] = data1['OperatingSystems'].apply(OperatingSystemsFun)\n",
    "\n",
    "data1 = pd.get_dummies(data1, columns=['Browser_Bin','TrafficType_Bin','Region_Bin','OperatingSystems_Bin'])\n",
    "\n",
    "# convert to bool \n",
    "data1[['Browser_Bin_1','Browser_Bin_2','Browser_Bin_3','TrafficType_Bin_1','TrafficType_Bin_2','TrafficType_Bin_3',\n",
    "'Region_Bin_1','Region_Bin_2','Region_Bin_3','OperatingSystems_Bin_1','OperatingSystems_Bin_2',\n",
    "'OperatingSystems_Bin_3']] = data1[['Browser_Bin_1','Browser_Bin_2','Browser_Bin_3','TrafficType_Bin_1','TrafficType_Bin_2','TrafficType_Bin_3',\n",
    "'Region_Bin_1','Region_Bin_2','Region_Bin_3','OperatingSystems_Bin_1','OperatingSystems_Bin_2',\n",
    "'OperatingSystems_Bin_3']].astype(bool)"
   ]
  },
  {
   "cell_type": "code",
   "execution_count": 24,
   "metadata": {},
   "outputs": [],
   "source": [
    "# 2. Bin not fully normalized features\n",
    "# if it has some value return 1 otherwise 0\n",
    "def zero_or_not(series):\n",
    "    if series == 0:\n",
    "        return 0\n",
    "    else:\n",
    "        return 1\n",
    "\n",
    "# apply function\n",
    "not_normalized.pop(3) # remove left skew feature from the list\n",
    "for col in not_normalized: \n",
    "    data1[col+'_Bin'] = data1[col].apply(zero_or_not)\n",
    "    # conver to bool (occupies less space than int)\n",
    "    data1[col+'_Bin'] = data1[col+'_Bin'].astype(bool)\n",
    "\n",
    "# function for the left skewed feature\n",
    "def left_skew(series):\n",
    "    if series >= 0.4:\n",
    "        return 1\n",
    "    else:\n",
    "        return 0\n",
    "    \n",
    "# convert to bool\n",
    "data1['totalFracProd_Bin'] = data1['totalFracProd_Scaled'].apply(left_skew).astype(bool)"
   ]
  },
  {
   "cell_type": "code",
   "execution_count": 25,
   "metadata": {},
   "outputs": [
    {
     "name": "stdout",
     "output_type": "stream",
     "text": [
      "Data shape:  (12330, 118)\n",
      "Nbr dtype integer:  7\n",
      "Nbr dtype float:  72\n",
      "Nbr dtype bool:  37\n",
      "Nbr dtype object:  2\n"
     ]
    }
   ],
   "source": [
    "print(\"Data shape: \", data1.shape)\n",
    "print(\"Nbr dtype integer: \", len(data1.select_dtypes(include='int64').columns))\n",
    "print(\"Nbr dtype float: \", len(data1.select_dtypes(include='float64').columns))\n",
    "print(\"Nbr dtype bool: \", len(data1.select_dtypes(include='bool').columns))\n",
    "print(\"Nbr dtype object: \", len(data1.select_dtypes(include='object').columns))"
   ]
  },
  {
   "cell_type": "markdown",
   "metadata": {},
   "source": [
    "# Merge Pipeline A and Pipeline B "
   ]
  },
  {
   "cell_type": "code",
   "execution_count": 28,
   "metadata": {},
   "outputs": [
    {
     "name": "stdout",
     "output_type": "stream",
     "text": [
      "(12330, 109)\n",
      "(12330, 108)\n",
      "(12330,)\n"
     ]
    }
   ],
   "source": [
    "# drop original/unprocessed/object columns \n",
    "pipeline_A = data1.drop(['Administrative','Administrative_Duration','Informational','Informational_Duration','ProductRelated','ProductRelated_Duration',\n",
    "    'BounceRates','ExitRates','PageValues','Month','VisitorType','ExitRatesImpute','totalFracAdmin','totalFracInfo',\n",
    "    'totalFracProd','BounceExitAvg','BounceExitW1','BounceExitW2','BounceExitW3','BounceExitW4','BouncePageRatio',\n",
    "    'ExitPageRatio','InfoPageRatio','ProdRelPageRatio','InfoBounceRatio','AdminBounceRatio',\n",
    "    'ProdRelBounceRatio','InfoExitRatio','ProdRelExitRatio', 'Browser','Region','TrafficType','Region','OperatingSystems'],\n",
    "        axis=1)\n",
    "\n",
    "# Read in Data\n",
    "pipeline_B = pd.read_csv('model_data_B.csv', index_col = 0)\n",
    "pipeline_B = pipeline_B.select_dtypes(include = ['float64']).drop(['Administrative_Duration_Norm', \n",
    "        'Informational_Duration_Norm',\n",
    "       'ProductRelated_Duration_Norm', 'BounceRates_Norm', 'ExitRates_Norm',\n",
    "       'PageValues_Norm', 'ExitRatesImpute_Norm', 'totalFracAdmin_Norm',\n",
    "       'totalFracInfo_Norm', 'totalFracProd_Norm', 'BounceExitAvg_Norm',\n",
    "       'BounceExitW1_Norm', 'BounceExitW2_Norm', 'BounceExitW3_Norm',\n",
    "       'BounceExitW4_Norm', 'BouncePageRatio_Norm', 'ExitPageRatio_Norm',\n",
    "       'InfoPageRatio_Norm', 'ProdRelPageRatio_Norm', 'InfoBounceRatio_Norm',\n",
    "       'AdminBounceRatio_Norm', 'ProdRelBounceRatio_Norm',\n",
    "       'InfoExitRatio_Norm', 'ProdRelExitRatio_Norm'], axis = 1)\n",
    "\n",
    "# MERGE\n",
    "model_data = pd.concat([pipeline_A,pipeline_B], axis = 1)\n",
    "\n",
    "\n",
    "# select X and y \n",
    "X = model_data.drop('Revenue', axis =1) #features\n",
    "x_col = model_data.drop('Revenue', axis =1)\n",
    "y = model_data['Revenue'] #target\n",
    "feature_name = X.columns.tolist()\n",
    "\n",
    "# save preprocessed data\n",
    "model_data.to_csv('all_model_data.csv')\n",
    "\n",
    "# nbr of rows, nbr of columns \n",
    "print(model_data.shape)\n",
    "print(X.shape) # features\n",
    "print(y.shape) # label/target"
   ]
  },
  {
   "cell_type": "code",
   "execution_count": 30,
   "metadata": {},
   "outputs": [],
   "source": [
    "model_data = pd.read_csv('all_model_data.csv', index_col = 0)\n",
    "#model_data.head()"
   ]
  },
  {
   "cell_type": "markdown",
   "metadata": {},
   "source": [
    "## 10 Way Feature Selection\n",
    "- select 50 features from 136\n",
    "- xxx_support: list to represent select this feature or not\n",
    "- xxx_feature: the name of selected features\n",
    "\n",
    "### Methods:\n",
    "1. Filter: Pearson, f_classif (Anova F value)\n",
    "2. Wrapper: RFE with Logistic regression and XGBoost\n",
    "3. Embeded: Logistic Regression, Random Forest, XGBoost, LassoCV, RidgeClassifierCV\n",
    "\n",
    "Source of Inspiration and modified: https://www.kaggle.com/sz8416/6-ways-for-feature-selection"
   ]
  },
  {
   "cell_type": "code",
   "execution_count": 31,
   "metadata": {},
   "outputs": [],
   "source": [
    "# select X and y \n",
    "X = model_data.drop('Revenue', axis = 1)\n",
    "feature_name = X.columns.tolist()\n",
    "y = model_data.Revenue"
   ]
  },
  {
   "cell_type": "markdown",
   "metadata": {},
   "source": [
    "### 1 Filter\n",
    "#### 1.1 Pearson Correlation"
   ]
  },
  {
   "cell_type": "code",
   "execution_count": 32,
   "metadata": {},
   "outputs": [],
   "source": [
    "def cor_selector(X, y):\n",
    "    cor_list = []\n",
    "    # calculate the correlation with y for each feature\n",
    "    for i in X.columns.tolist():\n",
    "        cor = np.corrcoef(X[i], y)[0, 1]\n",
    "        cor_list.append(cor)\n",
    "    # replace NaN with 0\n",
    "    cor_list = [0 if np.isnan(i) else i for i in cor_list]\n",
    "    # feature name\n",
    "    cor_feature = X.iloc[:,np.argsort(np.abs(cor_list))[-50:]].columns.tolist()\n",
    "    # feature selection? 0 for not select, 1 for select\n",
    "    cor_support = [True if i in cor_feature else False for i in feature_name]\n",
    "    return cor_support, cor_feature"
   ]
  },
  {
   "cell_type": "code",
   "execution_count": 33,
   "metadata": {},
   "outputs": [
    {
     "name": "stdout",
     "output_type": "stream",
     "text": [
      "50 selected features\n"
     ]
    }
   ],
   "source": [
    "cor_support, cor_feature = cor_selector(X, y)\n",
    "print(str(len(cor_feature)), 'selected features')"
   ]
  },
  {
   "cell_type": "markdown",
   "metadata": {},
   "source": [
    "#### 1.2 f_classif\n",
    "- documentation for SelectKBest: http://scikit-learn.org/stable/modules/generated/sklearn.feature_selection.SelectKBest.html"
   ]
  },
  {
   "cell_type": "code",
   "execution_count": 34,
   "metadata": {},
   "outputs": [
    {
     "data": {
      "text/plain": [
       "SelectKBest(k=50, score_func=<function f_classif at 0x7f86e9f6b158>)"
      ]
     },
     "execution_count": 34,
     "metadata": {},
     "output_type": "execute_result"
    }
   ],
   "source": [
    "from sklearn.feature_selection import SelectKBest\n",
    "from sklearn.feature_selection import f_classif\n",
    "f_classif_selector = SelectKBest(f_classif, k=50)\n",
    "f_classif_selector.fit(X, y)"
   ]
  },
  {
   "cell_type": "code",
   "execution_count": 35,
   "metadata": {},
   "outputs": [
    {
     "name": "stdout",
     "output_type": "stream",
     "text": [
      "50 selected features\n"
     ]
    }
   ],
   "source": [
    "f_classif_support = f_classif_selector.get_support()\n",
    "f_classif_feature = X.loc[:,f_classif_support].columns.tolist()\n",
    "print(str(len(f_classif_feature)), 'selected features')"
   ]
  },
  {
   "cell_type": "markdown",
   "metadata": {},
   "source": [
    "#### 2. Wrapper\n",
    "- documentation for RFE: http://scikit-learn.org/stable/modules/generated/sklearn.feature_selection.RFE.html\n",
    "- logistic regression and xgboost\n",
    "\n",
    "#### 2.1 RFE - Logistic Regression<br>\n",
    "RFE notes:\n",
    "- estimator = means what model to estimate it on\n",
    "- max_iter = if model doesn't converge, random state for reusability \n",
    "- step =  how many observation to remove after each iteration \n",
    "- verbose = can get more visual output (doesn't change the model)"
   ]
  },
  {
   "cell_type": "code",
   "execution_count": 36,
   "metadata": {},
   "outputs": [
    {
     "data": {
      "text/plain": [
       "RFE(estimator=LogisticRegression(C=1.0, class_weight=None, dual=False,\n",
       "                                 fit_intercept=True, intercept_scaling=1,\n",
       "                                 l1_ratio=None, max_iter=1500,\n",
       "                                 multi_class='auto', n_jobs=None, penalty='l2',\n",
       "                                 random_state=123, solver='lbfgs', tol=0.0001,\n",
       "                                 verbose=0, warm_start=False),\n",
       "    n_features_to_select=50, step=10, verbose=0)"
      ]
     },
     "execution_count": 36,
     "metadata": {},
     "output_type": "execute_result"
    }
   ],
   "source": [
    "# packages you would need \n",
    "#from sklearn.feature_selection import RFE\n",
    "#from sklearn.linear_model import LogisticRegression\n",
    "rfe_selector = RFE(estimator=LogisticRegression(max_iter = 1500,random_state=123), step = 10, n_features_to_select=50,\n",
    "                   verbose=0)\n",
    "rfe_selector.fit(X, y)"
   ]
  },
  {
   "cell_type": "code",
   "execution_count": 37,
   "metadata": {},
   "outputs": [
    {
     "name": "stdout",
     "output_type": "stream",
     "text": [
      "50 selected features\n"
     ]
    }
   ],
   "source": [
    "rfe_support = rfe_selector.get_support() # Get a mask, or integer index, of the features selected\n",
    "rfe_feature = X.loc[:,rfe_support].columns.tolist() # get the column names of features selected and put them in a list\n",
    "print(str(len(rfe_feature)), 'selected features') "
   ]
  },
  {
   "cell_type": "markdown",
   "metadata": {},
   "source": [
    "#### 2.2 RFE XGBOOST"
   ]
  },
  {
   "cell_type": "code",
   "execution_count": 38,
   "metadata": {},
   "outputs": [
    {
     "data": {
      "text/plain": [
       "RFE(estimator=XGBClassifier(base_score=0.5, booster='gbtree',\n",
       "                            colsample_bylevel=1, colsample_bynode=1,\n",
       "                            colsample_bytree=1, gamma=0, learning_rate=0.1,\n",
       "                            max_delta_step=0, max_depth=3, min_child_weight=1,\n",
       "                            missing=None, n_estimators=100, n_jobs=1,\n",
       "                            nthread=None, objective='binary:logistic',\n",
       "                            random_state=123, reg_alpha=0, reg_lambda=1,\n",
       "                            scale_pos_weight=1, seed=None, silent=None,\n",
       "                            subsample=1, verbosity=1),\n",
       "    n_features_to_select=50, step=10, verbose=0)"
      ]
     },
     "execution_count": 38,
     "metadata": {},
     "output_type": "execute_result"
    }
   ],
   "source": [
    "rfe_selector_xgboost = RFE(estimator=XGBClassifier(random_state=123), n_features_to_select=50, step=10, verbose=0)\n",
    "rfe_selector_xgboost.fit(X, y)"
   ]
  },
  {
   "cell_type": "code",
   "execution_count": 39,
   "metadata": {},
   "outputs": [
    {
     "name": "stdout",
     "output_type": "stream",
     "text": [
      "108 selected features\n"
     ]
    }
   ],
   "source": [
    "# transform\n",
    "rfe_support_xgboost = rfe_selector_xgboost.get_support()\n",
    "rfe_feature_xgboost = X.loc[:,rfe_support_xgboost].columns.tolist()\n",
    "print(str(len(rfe_support_xgboost)), 'selected features')"
   ]
  },
  {
   "cell_type": "markdown",
   "metadata": {},
   "source": [
    "### 3. Embeded\n",
    "- documentation for SelectFromModel: http://scikit-learn.org/stable/modules/generated/sklearn.feature_selection.SelectFromModel.html \n",
    "\n",
    "#### 3.1 Logistics Regression "
   ]
  },
  {
   "cell_type": "code",
   "execution_count": 40,
   "metadata": {},
   "outputs": [
    {
     "data": {
      "text/plain": [
       "SelectFromModel(estimator=LogisticRegression(C=1.0, class_weight=None,\n",
       "                                             dual=False, fit_intercept=True,\n",
       "                                             intercept_scaling=1, l1_ratio=None,\n",
       "                                             max_iter=1000, multi_class='auto',\n",
       "                                             n_jobs=None, penalty='l2',\n",
       "                                             random_state=123, solver='lbfgs',\n",
       "                                             tol=0.0001, verbose=0,\n",
       "                                             warm_start=False),\n",
       "                max_features=None, norm_order=1, prefit=False, threshold=0.2)"
      ]
     },
     "execution_count": 40,
     "metadata": {},
     "output_type": "execute_result"
    }
   ],
   "source": [
    "from sklearn.feature_selection import SelectFromModel\n",
    "#from sklearn.linear_model import LogisticRegression\n",
    "# penalty l2 is default (regularization type for solver)\n",
    "# threshold = minimum threshold applied (applied so it selects approx 50 features )\n",
    "embeded_lr_selector = SelectFromModel(LogisticRegression(penalty=\"l2\", random_state = 123, max_iter=1000), threshold = 0.2)\n",
    "embeded_lr_selector.fit(X, y)"
   ]
  },
  {
   "cell_type": "code",
   "execution_count": 41,
   "metadata": {},
   "outputs": [
    {
     "name": "stdout",
     "output_type": "stream",
     "text": [
      "50 selected features\n"
     ]
    }
   ],
   "source": [
    "embeded_lr_support = embeded_lr_selector.get_support()\n",
    "embeded_lr_feature = X.loc[:,embeded_lr_support].columns.tolist()\n",
    "print(str(len(embeded_lr_feature)), 'selected features')"
   ]
  },
  {
   "cell_type": "markdown",
   "metadata": {},
   "source": [
    "#### 3.2 Random Forest"
   ]
  },
  {
   "cell_type": "code",
   "execution_count": 73,
   "metadata": {},
   "outputs": [
    {
     "data": {
      "text/plain": [
       "SelectFromModel(estimator=RandomForestClassifier(bootstrap=True, ccp_alpha=0.0,\n",
       "                                                 class_weight=None,\n",
       "                                                 criterion='gini',\n",
       "                                                 max_depth=None,\n",
       "                                                 max_features='auto',\n",
       "                                                 max_leaf_nodes=None,\n",
       "                                                 max_samples=None,\n",
       "                                                 min_impurity_decrease=0.0,\n",
       "                                                 min_impurity_split=None,\n",
       "                                                 min_samples_leaf=1,\n",
       "                                                 min_samples_split=2,\n",
       "                                                 min_weight_fraction_leaf=0.0,\n",
       "                                                 n_estimators=50, n_jobs=None,\n",
       "                                                 oob_score=False,\n",
       "                                                 random_state=123, verbose=0,\n",
       "                                                 warm_start=False),\n",
       "                max_features=None, norm_order=1, prefit=False,\n",
       "                threshold=0.00775)"
      ]
     },
     "execution_count": 73,
     "metadata": {},
     "output_type": "execute_result"
    }
   ],
   "source": [
    "#from sklearn.feature_selection import SelectFromModel\n",
    "#from sklearn.ensemble import RandomForestClassifier\n",
    "# n_estimators = The number of trees in the forest (10-100)\n",
    "embeded_rf_selector = SelectFromModel(RandomForestClassifier(n_estimators=50, random_state = 123), threshold=0.00775)\n",
    "embeded_rf_selector.fit(X, y)"
   ]
  },
  {
   "cell_type": "code",
   "execution_count": 74,
   "metadata": {},
   "outputs": [
    {
     "name": "stdout",
     "output_type": "stream",
     "text": [
      "50 selected features\n"
     ]
    }
   ],
   "source": [
    "embeded_rf_support = embeded_rf_selector.get_support()\n",
    "embeded_rf_feature = X.loc[:,embeded_rf_support].columns.tolist()\n",
    "print(str(len(embeded_rf_feature)), 'selected features')"
   ]
  },
  {
   "cell_type": "markdown",
   "metadata": {},
   "source": [
    "#### 3.3 XGBoost"
   ]
  },
  {
   "cell_type": "code",
   "execution_count": 81,
   "metadata": {},
   "outputs": [
    {
     "data": {
      "text/plain": [
       "SelectFromModel(estimator=XGBClassifier(base_score=0.5, booster='gbtree',\n",
       "                                        colsample_bylevel=1, colsample_bynode=1,\n",
       "                                        colsample_bytree=1, gamma=0,\n",
       "                                        learning_rate=0.1, max_delta_step=0,\n",
       "                                        max_depth=3, min_child_weight=1,\n",
       "                                        missing=None, n_estimators=50, n_jobs=1,\n",
       "                                        nthread=None,\n",
       "                                        objective='binary:logistic',\n",
       "                                        random_state=123, reg_alpha=0,\n",
       "                                        reg_lambda=1, scale_pos_weight=1,\n",
       "                                        seed=None, silent=None, subsample=1,\n",
       "                                        verbosity=1),\n",
       "                max_features=None, norm_order=1, prefit=False, threshold=None)"
      ]
     },
     "execution_count": 81,
     "metadata": {},
     "output_type": "execute_result"
    }
   ],
   "source": [
    "embeded_xgb_selector = SelectFromModel(XGBClassifier(n_estimators=50, random_state = 123))\n",
    "embeded_xgb_selector.fit(X, y)"
   ]
  },
  {
   "cell_type": "code",
   "execution_count": 82,
   "metadata": {},
   "outputs": [
    {
     "name": "stdout",
     "output_type": "stream",
     "text": [
      "22 selected features\n"
     ]
    }
   ],
   "source": [
    "embeded_xgb_support = embeded_xgb_selector.get_support()\n",
    "embeded_xgb_feature = X.loc[:,embeded_xgb_support].columns.tolist()\n",
    "print(str(len(embeded_xgb_feature)), 'selected features')"
   ]
  },
  {
   "cell_type": "markdown",
   "metadata": {},
   "source": [
    "### 3.4 LassoCV\n",
    "- Lasso linear model with iterative fitting along a regularization path (built-in cross validation)\n",
    "- https://scikit-learn.org/stable/modules/generated/sklearn.linear_model.LassoCV.html"
   ]
  },
  {
   "cell_type": "code",
   "execution_count": 89,
   "metadata": {},
   "outputs": [
    {
     "data": {
      "text/plain": [
       "SelectFromModel(estimator=LassoCV(alphas=None, copy_X=True, cv=10, eps=0.001,\n",
       "                                  fit_intercept=True, max_iter=2000,\n",
       "                                  n_alphas=100, n_jobs=None, normalize=False,\n",
       "                                  positive=False, precompute='auto',\n",
       "                                  random_state=123, selection='cyclic',\n",
       "                                  tol=0.0001, verbose=False),\n",
       "                max_features=None, norm_order=1, prefit=False,\n",
       "                threshold=0.0001)"
      ]
     },
     "execution_count": 89,
     "metadata": {},
     "output_type": "execute_result"
    }
   ],
   "source": [
    "from sklearn.linear_model import LassoCV\n",
    "# cv = number of k for cross validation \n",
    "embeded_lasso_selector = SelectFromModel(LassoCV(random_state = 123, cv = 10, max_iter = 2000),threshold = 0.0001)\n",
    "embeded_lasso_selector.fit(X, y)"
   ]
  },
  {
   "cell_type": "code",
   "execution_count": 90,
   "metadata": {},
   "outputs": [
    {
     "name": "stdout",
     "output_type": "stream",
     "text": [
      "41 selected features\n"
     ]
    }
   ],
   "source": [
    "embeded_lasso_support = embeded_lasso_selector.get_support()\n",
    "embeded_lasso_feature = X.loc[:,embeded_lasso_support].columns.tolist()\n",
    "print(str(len(embeded_lasso_feature)), 'selected features')"
   ]
  },
  {
   "cell_type": "markdown",
   "metadata": {},
   "source": [
    "### 3.5 Ridge Classifier CV\n",
    "- Ridge classifier with built-in cross-validation\n",
    "- https://scikit-learn.org/stable/modules/generated/sklearn.linear_model.RidgeClassifierCV.html#sklearn.linear_model.RidgeClassifierCV"
   ]
  },
  {
   "cell_type": "code",
   "execution_count": 101,
   "metadata": {},
   "outputs": [
    {
     "data": {
      "text/plain": [
       "SelectFromModel(estimator=RidgeClassifierCV(alphas=array([ 0.1,  1. , 10. ]),\n",
       "                                            class_weight=None, cv=10,\n",
       "                                            fit_intercept=True, normalize=False,\n",
       "                                            scoring=None,\n",
       "                                            store_cv_values=False),\n",
       "                max_features=None, norm_order=1, prefit=False, threshold=0.059)"
      ]
     },
     "execution_count": 101,
     "metadata": {},
     "output_type": "execute_result"
    }
   ],
   "source": [
    "from sklearn.linear_model import RidgeClassifierCV\n",
    "embeded_ridge_selector = SelectFromModel(RidgeClassifierCV(cv=10), threshold =0.059)\n",
    "embeded_ridge_selector.fit(X, y)"
   ]
  },
  {
   "cell_type": "code",
   "execution_count": 102,
   "metadata": {},
   "outputs": [
    {
     "name": "stdout",
     "output_type": "stream",
     "text": [
      "50 selected features\n"
     ]
    }
   ],
   "source": [
    "embeded_ridge_support = embeded_ridge_selector.get_support()\n",
    "embeded_ridge_feature = X.loc[:,embeded_ridge_support].columns.tolist()\n",
    "print(str(len(embeded_ridge_feature)), 'selected features')"
   ]
  },
  {
   "cell_type": "markdown",
   "metadata": {},
   "source": [
    "### 3.6 Linear SVC\n",
    "- https://scikit-learn.org/stable/modules/feature_selection.html"
   ]
  },
  {
   "cell_type": "code",
   "execution_count": 110,
   "metadata": {},
   "outputs": [
    {
     "name": "stdout",
     "output_type": "stream",
     "text": [
      "50 selected features\n"
     ]
    },
    {
     "name": "stderr",
     "output_type": "stream",
     "text": [
      "/opt/tljh/user/lib/python3.6/site-packages/sklearn/svm/_base.py:947: ConvergenceWarning: Liblinear failed to converge, increase the number of iterations.\n",
      "  \"the number of iterations.\", ConvergenceWarning)\n"
     ]
    }
   ],
   "source": [
    "from sklearn.svm import LinearSVC\n",
    "embeded_svc_selector = SelectFromModel(LinearSVC(C=0.5, penalty='l1', dual=False, max_iter = 5000),threshold = 0.001)\n",
    "embeded_svc_selector.fit(X, y)\n",
    "\n",
    "embeded_svc_support = embeded_svc_selector.get_support()\n",
    "embeded_svc_feature = X.loc[:,embeded_svc_support].columns.tolist()\n",
    "print(str(len(embeded_svc_feature)), 'selected features')"
   ]
  },
  {
   "cell_type": "markdown",
   "metadata": {},
   "source": [
    "## Summary\n",
    "- Contains features that were derived from similar features \n",
    "- When modeling only one version (better one should be used)"
   ]
  },
  {
   "cell_type": "code",
   "execution_count": 111,
   "metadata": {
    "scrolled": true
   },
   "outputs": [
    {
     "data": {
      "text/html": [
       "<div>\n",
       "<style scoped>\n",
       "    .dataframe tbody tr th:only-of-type {\n",
       "        vertical-align: middle;\n",
       "    }\n",
       "\n",
       "    .dataframe tbody tr th {\n",
       "        vertical-align: top;\n",
       "    }\n",
       "\n",
       "    .dataframe thead th {\n",
       "        text-align: right;\n",
       "    }\n",
       "</style>\n",
       "<table border=\"1\" class=\"dataframe\">\n",
       "  <thead>\n",
       "    <tr style=\"text-align: right;\">\n",
       "      <th></th>\n",
       "      <th>Feature</th>\n",
       "      <th>Pearson</th>\n",
       "      <th>f_classif</th>\n",
       "      <th>RFE-Log</th>\n",
       "      <th>RFE-XGBoost</th>\n",
       "      <th>Logistics</th>\n",
       "      <th>LassoCV</th>\n",
       "      <th>RidgeClassifierCV</th>\n",
       "      <th>Random Forest</th>\n",
       "      <th>XGBoost</th>\n",
       "      <th>LinearSVC</th>\n",
       "      <th>Total</th>\n",
       "    </tr>\n",
       "  </thead>\n",
       "  <tbody>\n",
       "    <tr>\n",
       "      <th>1</th>\n",
       "      <td>ProductRelated_Duration_Scaled</td>\n",
       "      <td>True</td>\n",
       "      <td>True</td>\n",
       "      <td>True</td>\n",
       "      <td>True</td>\n",
       "      <td>True</td>\n",
       "      <td>False</td>\n",
       "      <td>True</td>\n",
       "      <td>True</td>\n",
       "      <td>True</td>\n",
       "      <td>True</td>\n",
       "      <td>9</td>\n",
       "    </tr>\n",
       "    <tr>\n",
       "      <th>2</th>\n",
       "      <td>PageValues_Norm_Scaled</td>\n",
       "      <td>True</td>\n",
       "      <td>True</td>\n",
       "      <td>True</td>\n",
       "      <td>True</td>\n",
       "      <td>True</td>\n",
       "      <td>True</td>\n",
       "      <td>True</td>\n",
       "      <td>True</td>\n",
       "      <td>False</td>\n",
       "      <td>True</td>\n",
       "      <td>9</td>\n",
       "    </tr>\n",
       "    <tr>\n",
       "      <th>3</th>\n",
       "      <td>ExitPageRatio_Norm_Scaled</td>\n",
       "      <td>True</td>\n",
       "      <td>True</td>\n",
       "      <td>True</td>\n",
       "      <td>True</td>\n",
       "      <td>True</td>\n",
       "      <td>True</td>\n",
       "      <td>True</td>\n",
       "      <td>True</td>\n",
       "      <td>False</td>\n",
       "      <td>True</td>\n",
       "      <td>9</td>\n",
       "    </tr>\n",
       "    <tr>\n",
       "      <th>4</th>\n",
       "      <td>BounceRates_Scaled</td>\n",
       "      <td>True</td>\n",
       "      <td>True</td>\n",
       "      <td>True</td>\n",
       "      <td>True</td>\n",
       "      <td>True</td>\n",
       "      <td>True</td>\n",
       "      <td>True</td>\n",
       "      <td>True</td>\n",
       "      <td>True</td>\n",
       "      <td>False</td>\n",
       "      <td>9</td>\n",
       "    </tr>\n",
       "    <tr>\n",
       "      <th>5</th>\n",
       "      <td>BouncePageRatio_Norm_Scaled</td>\n",
       "      <td>True</td>\n",
       "      <td>True</td>\n",
       "      <td>True</td>\n",
       "      <td>True</td>\n",
       "      <td>True</td>\n",
       "      <td>True</td>\n",
       "      <td>True</td>\n",
       "      <td>True</td>\n",
       "      <td>False</td>\n",
       "      <td>True</td>\n",
       "      <td>9</td>\n",
       "    </tr>\n",
       "    <tr>\n",
       "      <th>6</th>\n",
       "      <td>BounceExitW4_Norm_Scaled</td>\n",
       "      <td>True</td>\n",
       "      <td>True</td>\n",
       "      <td>True</td>\n",
       "      <td>True</td>\n",
       "      <td>True</td>\n",
       "      <td>True</td>\n",
       "      <td>True</td>\n",
       "      <td>True</td>\n",
       "      <td>False</td>\n",
       "      <td>True</td>\n",
       "      <td>9</td>\n",
       "    </tr>\n",
       "    <tr>\n",
       "      <th>7</th>\n",
       "      <td>ProductRelated_Duration_Norm_Scaled</td>\n",
       "      <td>True</td>\n",
       "      <td>True</td>\n",
       "      <td>True</td>\n",
       "      <td>False</td>\n",
       "      <td>True</td>\n",
       "      <td>True</td>\n",
       "      <td>True</td>\n",
       "      <td>True</td>\n",
       "      <td>False</td>\n",
       "      <td>True</td>\n",
       "      <td>8</td>\n",
       "    </tr>\n",
       "    <tr>\n",
       "      <th>8</th>\n",
       "      <td>ProdRelPageRatio_Scaled_Bin</td>\n",
       "      <td>True</td>\n",
       "      <td>True</td>\n",
       "      <td>True</td>\n",
       "      <td>False</td>\n",
       "      <td>True</td>\n",
       "      <td>True</td>\n",
       "      <td>True</td>\n",
       "      <td>True</td>\n",
       "      <td>False</td>\n",
       "      <td>True</td>\n",
       "      <td>8</td>\n",
       "    </tr>\n",
       "    <tr>\n",
       "      <th>9</th>\n",
       "      <td>ProdRelExitRatio_Norm_Scaled</td>\n",
       "      <td>True</td>\n",
       "      <td>True</td>\n",
       "      <td>True</td>\n",
       "      <td>False</td>\n",
       "      <td>True</td>\n",
       "      <td>True</td>\n",
       "      <td>True</td>\n",
       "      <td>True</td>\n",
       "      <td>False</td>\n",
       "      <td>True</td>\n",
       "      <td>8</td>\n",
       "    </tr>\n",
       "    <tr>\n",
       "      <th>10</th>\n",
       "      <td>PageValues_Scaled_Bin</td>\n",
       "      <td>True</td>\n",
       "      <td>True</td>\n",
       "      <td>True</td>\n",
       "      <td>False</td>\n",
       "      <td>True</td>\n",
       "      <td>True</td>\n",
       "      <td>True</td>\n",
       "      <td>True</td>\n",
       "      <td>False</td>\n",
       "      <td>True</td>\n",
       "      <td>8</td>\n",
       "    </tr>\n",
       "    <tr>\n",
       "      <th>11</th>\n",
       "      <td>PageValues_Scaled</td>\n",
       "      <td>True</td>\n",
       "      <td>True</td>\n",
       "      <td>True</td>\n",
       "      <td>True</td>\n",
       "      <td>True</td>\n",
       "      <td>False</td>\n",
       "      <td>True</td>\n",
       "      <td>True</td>\n",
       "      <td>True</td>\n",
       "      <td>False</td>\n",
       "      <td>8</td>\n",
       "    </tr>\n",
       "    <tr>\n",
       "      <th>12</th>\n",
       "      <td>ExitRatesImpute_Norm_Scaled</td>\n",
       "      <td>True</td>\n",
       "      <td>True</td>\n",
       "      <td>True</td>\n",
       "      <td>False</td>\n",
       "      <td>True</td>\n",
       "      <td>True</td>\n",
       "      <td>True</td>\n",
       "      <td>True</td>\n",
       "      <td>False</td>\n",
       "      <td>True</td>\n",
       "      <td>8</td>\n",
       "    </tr>\n",
       "    <tr>\n",
       "      <th>13</th>\n",
       "      <td>ExitPageRatio_Scaled_Bin</td>\n",
       "      <td>True</td>\n",
       "      <td>True</td>\n",
       "      <td>True</td>\n",
       "      <td>False</td>\n",
       "      <td>True</td>\n",
       "      <td>True</td>\n",
       "      <td>True</td>\n",
       "      <td>True</td>\n",
       "      <td>False</td>\n",
       "      <td>True</td>\n",
       "      <td>8</td>\n",
       "    </tr>\n",
       "    <tr>\n",
       "      <th>14</th>\n",
       "      <td>AdminBounceRatio_Norm_Scaled</td>\n",
       "      <td>True</td>\n",
       "      <td>True</td>\n",
       "      <td>True</td>\n",
       "      <td>False</td>\n",
       "      <td>True</td>\n",
       "      <td>True</td>\n",
       "      <td>True</td>\n",
       "      <td>True</td>\n",
       "      <td>False</td>\n",
       "      <td>True</td>\n",
       "      <td>8</td>\n",
       "    </tr>\n",
       "    <tr>\n",
       "      <th>15</th>\n",
       "      <td>totalFracProd_Scaled</td>\n",
       "      <td>False</td>\n",
       "      <td>False</td>\n",
       "      <td>True</td>\n",
       "      <td>True</td>\n",
       "      <td>True</td>\n",
       "      <td>False</td>\n",
       "      <td>True</td>\n",
       "      <td>True</td>\n",
       "      <td>True</td>\n",
       "      <td>True</td>\n",
       "      <td>7</td>\n",
       "    </tr>\n",
       "    <tr>\n",
       "      <th>16</th>\n",
       "      <td>totalFracAdmin_Scaled</td>\n",
       "      <td>False</td>\n",
       "      <td>False</td>\n",
       "      <td>True</td>\n",
       "      <td>True</td>\n",
       "      <td>True</td>\n",
       "      <td>True</td>\n",
       "      <td>True</td>\n",
       "      <td>True</td>\n",
       "      <td>False</td>\n",
       "      <td>True</td>\n",
       "      <td>7</td>\n",
       "    </tr>\n",
       "    <tr>\n",
       "      <th>17</th>\n",
       "      <td>ProductRelated_Duration_Scaled_Norm</td>\n",
       "      <td>True</td>\n",
       "      <td>True</td>\n",
       "      <td>True</td>\n",
       "      <td>False</td>\n",
       "      <td>True</td>\n",
       "      <td>False</td>\n",
       "      <td>True</td>\n",
       "      <td>True</td>\n",
       "      <td>False</td>\n",
       "      <td>True</td>\n",
       "      <td>7</td>\n",
       "    </tr>\n",
       "    <tr>\n",
       "      <th>18</th>\n",
       "      <td>ProdRelPageRatio_Norm_Scaled</td>\n",
       "      <td>True</td>\n",
       "      <td>True</td>\n",
       "      <td>True</td>\n",
       "      <td>False</td>\n",
       "      <td>True</td>\n",
       "      <td>False</td>\n",
       "      <td>True</td>\n",
       "      <td>True</td>\n",
       "      <td>False</td>\n",
       "      <td>True</td>\n",
       "      <td>7</td>\n",
       "    </tr>\n",
       "    <tr>\n",
       "      <th>19</th>\n",
       "      <td>PageValues_Scaled_Norm</td>\n",
       "      <td>True</td>\n",
       "      <td>True</td>\n",
       "      <td>True</td>\n",
       "      <td>False</td>\n",
       "      <td>True</td>\n",
       "      <td>False</td>\n",
       "      <td>True</td>\n",
       "      <td>True</td>\n",
       "      <td>False</td>\n",
       "      <td>True</td>\n",
       "      <td>7</td>\n",
       "    </tr>\n",
       "    <tr>\n",
       "      <th>20</th>\n",
       "      <td>Month_bin_4</td>\n",
       "      <td>False</td>\n",
       "      <td>False</td>\n",
       "      <td>True</td>\n",
       "      <td>True</td>\n",
       "      <td>True</td>\n",
       "      <td>True</td>\n",
       "      <td>True</td>\n",
       "      <td>False</td>\n",
       "      <td>True</td>\n",
       "      <td>True</td>\n",
       "      <td>7</td>\n",
       "    </tr>\n",
       "    <tr>\n",
       "      <th>21</th>\n",
       "      <td>Month_bin_2</td>\n",
       "      <td>False</td>\n",
       "      <td>False</td>\n",
       "      <td>True</td>\n",
       "      <td>True</td>\n",
       "      <td>True</td>\n",
       "      <td>True</td>\n",
       "      <td>True</td>\n",
       "      <td>False</td>\n",
       "      <td>True</td>\n",
       "      <td>True</td>\n",
       "      <td>7</td>\n",
       "    </tr>\n",
       "    <tr>\n",
       "      <th>22</th>\n",
       "      <td>ExitRates_Scaled</td>\n",
       "      <td>True</td>\n",
       "      <td>True</td>\n",
       "      <td>True</td>\n",
       "      <td>True</td>\n",
       "      <td>True</td>\n",
       "      <td>False</td>\n",
       "      <td>False</td>\n",
       "      <td>True</td>\n",
       "      <td>True</td>\n",
       "      <td>False</td>\n",
       "      <td>7</td>\n",
       "    </tr>\n",
       "    <tr>\n",
       "      <th>23</th>\n",
       "      <td>BounceRates_Norm_Scaled</td>\n",
       "      <td>True</td>\n",
       "      <td>True</td>\n",
       "      <td>True</td>\n",
       "      <td>False</td>\n",
       "      <td>True</td>\n",
       "      <td>True</td>\n",
       "      <td>True</td>\n",
       "      <td>False</td>\n",
       "      <td>False</td>\n",
       "      <td>True</td>\n",
       "      <td>7</td>\n",
       "    </tr>\n",
       "    <tr>\n",
       "      <th>24</th>\n",
       "      <td>BouncePageRatio_Scaled_Bin</td>\n",
       "      <td>True</td>\n",
       "      <td>True</td>\n",
       "      <td>True</td>\n",
       "      <td>False</td>\n",
       "      <td>True</td>\n",
       "      <td>True</td>\n",
       "      <td>True</td>\n",
       "      <td>False</td>\n",
       "      <td>False</td>\n",
       "      <td>True</td>\n",
       "      <td>7</td>\n",
       "    </tr>\n",
       "    <tr>\n",
       "      <th>25</th>\n",
       "      <td>Administrative_Duration_Norm_Scaled</td>\n",
       "      <td>True</td>\n",
       "      <td>True</td>\n",
       "      <td>True</td>\n",
       "      <td>False</td>\n",
       "      <td>True</td>\n",
       "      <td>True</td>\n",
       "      <td>False</td>\n",
       "      <td>True</td>\n",
       "      <td>False</td>\n",
       "      <td>True</td>\n",
       "      <td>7</td>\n",
       "    </tr>\n",
       "    <tr>\n",
       "      <th>26</th>\n",
       "      <td>AdminBounceRatio_Scaled_Norm</td>\n",
       "      <td>True</td>\n",
       "      <td>True</td>\n",
       "      <td>True</td>\n",
       "      <td>False</td>\n",
       "      <td>True</td>\n",
       "      <td>False</td>\n",
       "      <td>True</td>\n",
       "      <td>True</td>\n",
       "      <td>False</td>\n",
       "      <td>True</td>\n",
       "      <td>7</td>\n",
       "    </tr>\n",
       "    <tr>\n",
       "      <th>27</th>\n",
       "      <td>VisitorType_bin_2</td>\n",
       "      <td>False</td>\n",
       "      <td>False</td>\n",
       "      <td>True</td>\n",
       "      <td>True</td>\n",
       "      <td>True</td>\n",
       "      <td>True</td>\n",
       "      <td>True</td>\n",
       "      <td>False</td>\n",
       "      <td>True</td>\n",
       "      <td>False</td>\n",
       "      <td>6</td>\n",
       "    </tr>\n",
       "    <tr>\n",
       "      <th>28</th>\n",
       "      <td>ProdRelPageRatio_Scaled_Norm</td>\n",
       "      <td>True</td>\n",
       "      <td>True</td>\n",
       "      <td>True</td>\n",
       "      <td>False</td>\n",
       "      <td>True</td>\n",
       "      <td>False</td>\n",
       "      <td>True</td>\n",
       "      <td>True</td>\n",
       "      <td>False</td>\n",
       "      <td>False</td>\n",
       "      <td>6</td>\n",
       "    </tr>\n",
       "    <tr>\n",
       "      <th>29</th>\n",
       "      <td>ProdRelPageRatio_Scaled</td>\n",
       "      <td>False</td>\n",
       "      <td>False</td>\n",
       "      <td>True</td>\n",
       "      <td>True</td>\n",
       "      <td>True</td>\n",
       "      <td>False</td>\n",
       "      <td>True</td>\n",
       "      <td>True</td>\n",
       "      <td>True</td>\n",
       "      <td>False</td>\n",
       "      <td>6</td>\n",
       "    </tr>\n",
       "    <tr>\n",
       "      <th>30</th>\n",
       "      <td>ProdRelBounceRatio_Scaled</td>\n",
       "      <td>False</td>\n",
       "      <td>False</td>\n",
       "      <td>True</td>\n",
       "      <td>True</td>\n",
       "      <td>True</td>\n",
       "      <td>False</td>\n",
       "      <td>True</td>\n",
       "      <td>True</td>\n",
       "      <td>True</td>\n",
       "      <td>False</td>\n",
       "      <td>6</td>\n",
       "    </tr>\n",
       "    <tr>\n",
       "      <th>31</th>\n",
       "      <td>ProdRelBounceRatio_Norm_Scaled</td>\n",
       "      <td>False</td>\n",
       "      <td>False</td>\n",
       "      <td>True</td>\n",
       "      <td>False</td>\n",
       "      <td>True</td>\n",
       "      <td>True</td>\n",
       "      <td>True</td>\n",
       "      <td>True</td>\n",
       "      <td>False</td>\n",
       "      <td>True</td>\n",
       "      <td>6</td>\n",
       "    </tr>\n",
       "    <tr>\n",
       "      <th>32</th>\n",
       "      <td>ExitRatesImpute_Scaled</td>\n",
       "      <td>True</td>\n",
       "      <td>True</td>\n",
       "      <td>True</td>\n",
       "      <td>True</td>\n",
       "      <td>True</td>\n",
       "      <td>False</td>\n",
       "      <td>False</td>\n",
       "      <td>True</td>\n",
       "      <td>False</td>\n",
       "      <td>False</td>\n",
       "      <td>6</td>\n",
       "    </tr>\n",
       "    <tr>\n",
       "      <th>33</th>\n",
       "      <td>BouncePageRatio_Scaled</td>\n",
       "      <td>False</td>\n",
       "      <td>False</td>\n",
       "      <td>True</td>\n",
       "      <td>True</td>\n",
       "      <td>True</td>\n",
       "      <td>False</td>\n",
       "      <td>True</td>\n",
       "      <td>True</td>\n",
       "      <td>True</td>\n",
       "      <td>False</td>\n",
       "      <td>6</td>\n",
       "    </tr>\n",
       "    <tr>\n",
       "      <th>34</th>\n",
       "      <td>BounceExitW4_Scaled</td>\n",
       "      <td>True</td>\n",
       "      <td>True</td>\n",
       "      <td>True</td>\n",
       "      <td>True</td>\n",
       "      <td>True</td>\n",
       "      <td>False</td>\n",
       "      <td>False</td>\n",
       "      <td>False</td>\n",
       "      <td>True</td>\n",
       "      <td>False</td>\n",
       "      <td>6</td>\n",
       "    </tr>\n",
       "    <tr>\n",
       "      <th>35</th>\n",
       "      <td>BounceExitW2_Scaled</td>\n",
       "      <td>True</td>\n",
       "      <td>True</td>\n",
       "      <td>False</td>\n",
       "      <td>True</td>\n",
       "      <td>False</td>\n",
       "      <td>False</td>\n",
       "      <td>True</td>\n",
       "      <td>True</td>\n",
       "      <td>True</td>\n",
       "      <td>False</td>\n",
       "      <td>6</td>\n",
       "    </tr>\n",
       "    <tr>\n",
       "      <th>36</th>\n",
       "      <td>Administrative_Duration_Scaled_Norm</td>\n",
       "      <td>True</td>\n",
       "      <td>True</td>\n",
       "      <td>True</td>\n",
       "      <td>False</td>\n",
       "      <td>True</td>\n",
       "      <td>False</td>\n",
       "      <td>True</td>\n",
       "      <td>True</td>\n",
       "      <td>False</td>\n",
       "      <td>False</td>\n",
       "      <td>6</td>\n",
       "    </tr>\n",
       "    <tr>\n",
       "      <th>37</th>\n",
       "      <td>totalFracInfo_Scaled_Bin</td>\n",
       "      <td>False</td>\n",
       "      <td>False</td>\n",
       "      <td>True</td>\n",
       "      <td>False</td>\n",
       "      <td>True</td>\n",
       "      <td>True</td>\n",
       "      <td>True</td>\n",
       "      <td>False</td>\n",
       "      <td>False</td>\n",
       "      <td>True</td>\n",
       "      <td>5</td>\n",
       "    </tr>\n",
       "    <tr>\n",
       "      <th>38</th>\n",
       "      <td>Informational_Duration_Scaled</td>\n",
       "      <td>False</td>\n",
       "      <td>False</td>\n",
       "      <td>True</td>\n",
       "      <td>True</td>\n",
       "      <td>True</td>\n",
       "      <td>False</td>\n",
       "      <td>True</td>\n",
       "      <td>False</td>\n",
       "      <td>False</td>\n",
       "      <td>True</td>\n",
       "      <td>5</td>\n",
       "    </tr>\n",
       "    <tr>\n",
       "      <th>39</th>\n",
       "      <td>InfoPageRatio_Scaled</td>\n",
       "      <td>False</td>\n",
       "      <td>False</td>\n",
       "      <td>True</td>\n",
       "      <td>True</td>\n",
       "      <td>True</td>\n",
       "      <td>False</td>\n",
       "      <td>True</td>\n",
       "      <td>False</td>\n",
       "      <td>False</td>\n",
       "      <td>True</td>\n",
       "      <td>5</td>\n",
       "    </tr>\n",
       "    <tr>\n",
       "      <th>40</th>\n",
       "      <td>InfoPageRatio_Norm_Scaled</td>\n",
       "      <td>True</td>\n",
       "      <td>True</td>\n",
       "      <td>False</td>\n",
       "      <td>True</td>\n",
       "      <td>False</td>\n",
       "      <td>True</td>\n",
       "      <td>False</td>\n",
       "      <td>False</td>\n",
       "      <td>False</td>\n",
       "      <td>True</td>\n",
       "      <td>5</td>\n",
       "    </tr>\n",
       "    <tr>\n",
       "      <th>41</th>\n",
       "      <td>InfoExitRatio_Scaled</td>\n",
       "      <td>False</td>\n",
       "      <td>False</td>\n",
       "      <td>True</td>\n",
       "      <td>True</td>\n",
       "      <td>True</td>\n",
       "      <td>False</td>\n",
       "      <td>True</td>\n",
       "      <td>False</td>\n",
       "      <td>False</td>\n",
       "      <td>True</td>\n",
       "      <td>5</td>\n",
       "    </tr>\n",
       "    <tr>\n",
       "      <th>42</th>\n",
       "      <td>ExitPageRatio_Scaled</td>\n",
       "      <td>False</td>\n",
       "      <td>False</td>\n",
       "      <td>True</td>\n",
       "      <td>True</td>\n",
       "      <td>True</td>\n",
       "      <td>False</td>\n",
       "      <td>False</td>\n",
       "      <td>True</td>\n",
       "      <td>True</td>\n",
       "      <td>False</td>\n",
       "      <td>5</td>\n",
       "    </tr>\n",
       "    <tr>\n",
       "      <th>43</th>\n",
       "      <td>BounceExitW1_Scaled</td>\n",
       "      <td>True</td>\n",
       "      <td>True</td>\n",
       "      <td>False</td>\n",
       "      <td>True</td>\n",
       "      <td>False</td>\n",
       "      <td>False</td>\n",
       "      <td>False</td>\n",
       "      <td>False</td>\n",
       "      <td>True</td>\n",
       "      <td>True</td>\n",
       "      <td>5</td>\n",
       "    </tr>\n",
       "    <tr>\n",
       "      <th>44</th>\n",
       "      <td>BounceExitAvg_Scaled</td>\n",
       "      <td>True</td>\n",
       "      <td>True</td>\n",
       "      <td>False</td>\n",
       "      <td>True</td>\n",
       "      <td>False</td>\n",
       "      <td>False</td>\n",
       "      <td>False</td>\n",
       "      <td>True</td>\n",
       "      <td>True</td>\n",
       "      <td>False</td>\n",
       "      <td>5</td>\n",
       "    </tr>\n",
       "    <tr>\n",
       "      <th>45</th>\n",
       "      <td>Administrative_Duration_Scaled</td>\n",
       "      <td>False</td>\n",
       "      <td>False</td>\n",
       "      <td>False</td>\n",
       "      <td>True</td>\n",
       "      <td>False</td>\n",
       "      <td>False</td>\n",
       "      <td>True</td>\n",
       "      <td>True</td>\n",
       "      <td>True</td>\n",
       "      <td>True</td>\n",
       "      <td>5</td>\n",
       "    </tr>\n",
       "    <tr>\n",
       "      <th>46</th>\n",
       "      <td>totalFracProd_Norm_Scaled</td>\n",
       "      <td>False</td>\n",
       "      <td>False</td>\n",
       "      <td>False</td>\n",
       "      <td>True</td>\n",
       "      <td>False</td>\n",
       "      <td>True</td>\n",
       "      <td>False</td>\n",
       "      <td>True</td>\n",
       "      <td>False</td>\n",
       "      <td>True</td>\n",
       "      <td>4</td>\n",
       "    </tr>\n",
       "    <tr>\n",
       "      <th>47</th>\n",
       "      <td>totalFracProd_Bin</td>\n",
       "      <td>False</td>\n",
       "      <td>False</td>\n",
       "      <td>True</td>\n",
       "      <td>False</td>\n",
       "      <td>True</td>\n",
       "      <td>True</td>\n",
       "      <td>False</td>\n",
       "      <td>False</td>\n",
       "      <td>False</td>\n",
       "      <td>True</td>\n",
       "      <td>4</td>\n",
       "    </tr>\n",
       "    <tr>\n",
       "      <th>48</th>\n",
       "      <td>totalFracInfo_Scaled</td>\n",
       "      <td>False</td>\n",
       "      <td>False</td>\n",
       "      <td>True</td>\n",
       "      <td>True</td>\n",
       "      <td>True</td>\n",
       "      <td>False</td>\n",
       "      <td>True</td>\n",
       "      <td>False</td>\n",
       "      <td>False</td>\n",
       "      <td>False</td>\n",
       "      <td>4</td>\n",
       "    </tr>\n",
       "    <tr>\n",
       "      <th>49</th>\n",
       "      <td>totalFracAdmin_Norm_Scaled</td>\n",
       "      <td>True</td>\n",
       "      <td>True</td>\n",
       "      <td>False</td>\n",
       "      <td>False</td>\n",
       "      <td>False</td>\n",
       "      <td>True</td>\n",
       "      <td>False</td>\n",
       "      <td>True</td>\n",
       "      <td>False</td>\n",
       "      <td>False</td>\n",
       "      <td>4</td>\n",
       "    </tr>\n",
       "    <tr>\n",
       "      <th>50</th>\n",
       "      <td>VisitorType_bin_3</td>\n",
       "      <td>False</td>\n",
       "      <td>False</td>\n",
       "      <td>True</td>\n",
       "      <td>False</td>\n",
       "      <td>True</td>\n",
       "      <td>False</td>\n",
       "      <td>True</td>\n",
       "      <td>False</td>\n",
       "      <td>False</td>\n",
       "      <td>True</td>\n",
       "      <td>4</td>\n",
       "    </tr>\n",
       "    <tr>\n",
       "      <th>51</th>\n",
       "      <td>TrafficType_Bin_1</td>\n",
       "      <td>False</td>\n",
       "      <td>False</td>\n",
       "      <td>False</td>\n",
       "      <td>True</td>\n",
       "      <td>False</td>\n",
       "      <td>True</td>\n",
       "      <td>False</td>\n",
       "      <td>False</td>\n",
       "      <td>True</td>\n",
       "      <td>True</td>\n",
       "      <td>4</td>\n",
       "    </tr>\n",
       "    <tr>\n",
       "      <th>52</th>\n",
       "      <td>Region_Bin_1</td>\n",
       "      <td>False</td>\n",
       "      <td>False</td>\n",
       "      <td>False</td>\n",
       "      <td>True</td>\n",
       "      <td>False</td>\n",
       "      <td>True</td>\n",
       "      <td>False</td>\n",
       "      <td>False</td>\n",
       "      <td>True</td>\n",
       "      <td>True</td>\n",
       "      <td>4</td>\n",
       "    </tr>\n",
       "    <tr>\n",
       "      <th>53</th>\n",
       "      <td>ProdRelExitRatio_Scaled_Norm</td>\n",
       "      <td>True</td>\n",
       "      <td>True</td>\n",
       "      <td>False</td>\n",
       "      <td>False</td>\n",
       "      <td>False</td>\n",
       "      <td>False</td>\n",
       "      <td>True</td>\n",
       "      <td>True</td>\n",
       "      <td>False</td>\n",
       "      <td>False</td>\n",
       "      <td>4</td>\n",
       "    </tr>\n",
       "    <tr>\n",
       "      <th>54</th>\n",
       "      <td>ProdRelExitRatio_Scaled</td>\n",
       "      <td>False</td>\n",
       "      <td>False</td>\n",
       "      <td>False</td>\n",
       "      <td>True</td>\n",
       "      <td>False</td>\n",
       "      <td>False</td>\n",
       "      <td>True</td>\n",
       "      <td>True</td>\n",
       "      <td>True</td>\n",
       "      <td>False</td>\n",
       "      <td>4</td>\n",
       "    </tr>\n",
       "    <tr>\n",
       "      <th>55</th>\n",
       "      <td>Month_bin_3</td>\n",
       "      <td>False</td>\n",
       "      <td>False</td>\n",
       "      <td>False</td>\n",
       "      <td>True</td>\n",
       "      <td>False</td>\n",
       "      <td>True</td>\n",
       "      <td>False</td>\n",
       "      <td>False</td>\n",
       "      <td>True</td>\n",
       "      <td>True</td>\n",
       "      <td>4</td>\n",
       "    </tr>\n",
       "    <tr>\n",
       "      <th>56</th>\n",
       "      <td>Month_bin_1</td>\n",
       "      <td>False</td>\n",
       "      <td>False</td>\n",
       "      <td>True</td>\n",
       "      <td>True</td>\n",
       "      <td>True</td>\n",
       "      <td>True</td>\n",
       "      <td>False</td>\n",
       "      <td>False</td>\n",
       "      <td>False</td>\n",
       "      <td>False</td>\n",
       "      <td>4</td>\n",
       "    </tr>\n",
       "    <tr>\n",
       "      <th>57</th>\n",
       "      <td>InfoPageRatio_Scaled_Bin</td>\n",
       "      <td>True</td>\n",
       "      <td>True</td>\n",
       "      <td>True</td>\n",
       "      <td>False</td>\n",
       "      <td>True</td>\n",
       "      <td>False</td>\n",
       "      <td>False</td>\n",
       "      <td>False</td>\n",
       "      <td>False</td>\n",
       "      <td>False</td>\n",
       "      <td>4</td>\n",
       "    </tr>\n",
       "    <tr>\n",
       "      <th>58</th>\n",
       "      <td>InfoBounceRatio_Scaled</td>\n",
       "      <td>False</td>\n",
       "      <td>False</td>\n",
       "      <td>True</td>\n",
       "      <td>True</td>\n",
       "      <td>True</td>\n",
       "      <td>False</td>\n",
       "      <td>True</td>\n",
       "      <td>False</td>\n",
       "      <td>False</td>\n",
       "      <td>False</td>\n",
       "      <td>4</td>\n",
       "    </tr>\n",
       "    <tr>\n",
       "      <th>59</th>\n",
       "      <td>ExitRates_Norm_Scaled</td>\n",
       "      <td>True</td>\n",
       "      <td>True</td>\n",
       "      <td>False</td>\n",
       "      <td>False</td>\n",
       "      <td>False</td>\n",
       "      <td>False</td>\n",
       "      <td>True</td>\n",
       "      <td>True</td>\n",
       "      <td>False</td>\n",
       "      <td>False</td>\n",
       "      <td>4</td>\n",
       "    </tr>\n",
       "    <tr>\n",
       "      <th>60</th>\n",
       "      <td>BounceExitW2_Norm_Scaled</td>\n",
       "      <td>True</td>\n",
       "      <td>True</td>\n",
       "      <td>False</td>\n",
       "      <td>True</td>\n",
       "      <td>False</td>\n",
       "      <td>False</td>\n",
       "      <td>True</td>\n",
       "      <td>False</td>\n",
       "      <td>False</td>\n",
       "      <td>False</td>\n",
       "      <td>4</td>\n",
       "    </tr>\n",
       "    <tr>\n",
       "      <th>61</th>\n",
       "      <td>BounceExitW1_Norm_Scaled</td>\n",
       "      <td>True</td>\n",
       "      <td>True</td>\n",
       "      <td>False</td>\n",
       "      <td>True</td>\n",
       "      <td>False</td>\n",
       "      <td>False</td>\n",
       "      <td>False</td>\n",
       "      <td>True</td>\n",
       "      <td>False</td>\n",
       "      <td>False</td>\n",
       "      <td>4</td>\n",
       "    </tr>\n",
       "    <tr>\n",
       "      <th>62</th>\n",
       "      <td>BounceExitAvg_Norm_Scaled</td>\n",
       "      <td>True</td>\n",
       "      <td>True</td>\n",
       "      <td>False</td>\n",
       "      <td>True</td>\n",
       "      <td>False</td>\n",
       "      <td>False</td>\n",
       "      <td>True</td>\n",
       "      <td>False</td>\n",
       "      <td>False</td>\n",
       "      <td>False</td>\n",
       "      <td>4</td>\n",
       "    </tr>\n",
       "    <tr>\n",
       "      <th>63</th>\n",
       "      <td>Weekend</td>\n",
       "      <td>False</td>\n",
       "      <td>False</td>\n",
       "      <td>False</td>\n",
       "      <td>True</td>\n",
       "      <td>False</td>\n",
       "      <td>True</td>\n",
       "      <td>False</td>\n",
       "      <td>False</td>\n",
       "      <td>False</td>\n",
       "      <td>True</td>\n",
       "      <td>3</td>\n",
       "    </tr>\n",
       "    <tr>\n",
       "      <th>64</th>\n",
       "      <td>VisitorType_bin_1</td>\n",
       "      <td>False</td>\n",
       "      <td>False</td>\n",
       "      <td>False</td>\n",
       "      <td>True</td>\n",
       "      <td>False</td>\n",
       "      <td>False</td>\n",
       "      <td>False</td>\n",
       "      <td>False</td>\n",
       "      <td>True</td>\n",
       "      <td>True</td>\n",
       "      <td>3</td>\n",
       "    </tr>\n",
       "    <tr>\n",
       "      <th>65</th>\n",
       "      <td>SpecialDay_0.8</td>\n",
       "      <td>False</td>\n",
       "      <td>False</td>\n",
       "      <td>True</td>\n",
       "      <td>False</td>\n",
       "      <td>True</td>\n",
       "      <td>False</td>\n",
       "      <td>False</td>\n",
       "      <td>False</td>\n",
       "      <td>False</td>\n",
       "      <td>True</td>\n",
       "      <td>3</td>\n",
       "    </tr>\n",
       "  </tbody>\n",
       "</table>\n",
       "</div>"
      ],
      "text/plain": [
       "                                Feature  Pearson  f_classif  RFE-Log  \\\n",
       "1        ProductRelated_Duration_Scaled     True       True     True   \n",
       "2                PageValues_Norm_Scaled     True       True     True   \n",
       "3             ExitPageRatio_Norm_Scaled     True       True     True   \n",
       "4                    BounceRates_Scaled     True       True     True   \n",
       "5           BouncePageRatio_Norm_Scaled     True       True     True   \n",
       "6              BounceExitW4_Norm_Scaled     True       True     True   \n",
       "7   ProductRelated_Duration_Norm_Scaled     True       True     True   \n",
       "8           ProdRelPageRatio_Scaled_Bin     True       True     True   \n",
       "9          ProdRelExitRatio_Norm_Scaled     True       True     True   \n",
       "10                PageValues_Scaled_Bin     True       True     True   \n",
       "11                    PageValues_Scaled     True       True     True   \n",
       "12          ExitRatesImpute_Norm_Scaled     True       True     True   \n",
       "13             ExitPageRatio_Scaled_Bin     True       True     True   \n",
       "14         AdminBounceRatio_Norm_Scaled     True       True     True   \n",
       "15                 totalFracProd_Scaled    False      False     True   \n",
       "16                totalFracAdmin_Scaled    False      False     True   \n",
       "17  ProductRelated_Duration_Scaled_Norm     True       True     True   \n",
       "18         ProdRelPageRatio_Norm_Scaled     True       True     True   \n",
       "19               PageValues_Scaled_Norm     True       True     True   \n",
       "20                          Month_bin_4    False      False     True   \n",
       "21                          Month_bin_2    False      False     True   \n",
       "22                     ExitRates_Scaled     True       True     True   \n",
       "23              BounceRates_Norm_Scaled     True       True     True   \n",
       "24           BouncePageRatio_Scaled_Bin     True       True     True   \n",
       "25  Administrative_Duration_Norm_Scaled     True       True     True   \n",
       "26         AdminBounceRatio_Scaled_Norm     True       True     True   \n",
       "27                    VisitorType_bin_2    False      False     True   \n",
       "28         ProdRelPageRatio_Scaled_Norm     True       True     True   \n",
       "29              ProdRelPageRatio_Scaled    False      False     True   \n",
       "30            ProdRelBounceRatio_Scaled    False      False     True   \n",
       "31       ProdRelBounceRatio_Norm_Scaled    False      False     True   \n",
       "32               ExitRatesImpute_Scaled     True       True     True   \n",
       "33               BouncePageRatio_Scaled    False      False     True   \n",
       "34                  BounceExitW4_Scaled     True       True     True   \n",
       "35                  BounceExitW2_Scaled     True       True    False   \n",
       "36  Administrative_Duration_Scaled_Norm     True       True     True   \n",
       "37             totalFracInfo_Scaled_Bin    False      False     True   \n",
       "38        Informational_Duration_Scaled    False      False     True   \n",
       "39                 InfoPageRatio_Scaled    False      False     True   \n",
       "40            InfoPageRatio_Norm_Scaled     True       True    False   \n",
       "41                 InfoExitRatio_Scaled    False      False     True   \n",
       "42                 ExitPageRatio_Scaled    False      False     True   \n",
       "43                  BounceExitW1_Scaled     True       True    False   \n",
       "44                 BounceExitAvg_Scaled     True       True    False   \n",
       "45       Administrative_Duration_Scaled    False      False    False   \n",
       "46            totalFracProd_Norm_Scaled    False      False    False   \n",
       "47                    totalFracProd_Bin    False      False     True   \n",
       "48                 totalFracInfo_Scaled    False      False     True   \n",
       "49           totalFracAdmin_Norm_Scaled     True       True    False   \n",
       "50                    VisitorType_bin_3    False      False     True   \n",
       "51                    TrafficType_Bin_1    False      False    False   \n",
       "52                         Region_Bin_1    False      False    False   \n",
       "53         ProdRelExitRatio_Scaled_Norm     True       True    False   \n",
       "54              ProdRelExitRatio_Scaled    False      False    False   \n",
       "55                          Month_bin_3    False      False    False   \n",
       "56                          Month_bin_1    False      False     True   \n",
       "57             InfoPageRatio_Scaled_Bin     True       True     True   \n",
       "58               InfoBounceRatio_Scaled    False      False     True   \n",
       "59                ExitRates_Norm_Scaled     True       True    False   \n",
       "60             BounceExitW2_Norm_Scaled     True       True    False   \n",
       "61             BounceExitW1_Norm_Scaled     True       True    False   \n",
       "62            BounceExitAvg_Norm_Scaled     True       True    False   \n",
       "63                              Weekend    False      False    False   \n",
       "64                    VisitorType_bin_1    False      False    False   \n",
       "65                       SpecialDay_0.8    False      False     True   \n",
       "\n",
       "    RFE-XGBoost  Logistics  LassoCV  RidgeClassifierCV  Random Forest  \\\n",
       "1          True       True    False               True           True   \n",
       "2          True       True     True               True           True   \n",
       "3          True       True     True               True           True   \n",
       "4          True       True     True               True           True   \n",
       "5          True       True     True               True           True   \n",
       "6          True       True     True               True           True   \n",
       "7         False       True     True               True           True   \n",
       "8         False       True     True               True           True   \n",
       "9         False       True     True               True           True   \n",
       "10        False       True     True               True           True   \n",
       "11         True       True    False               True           True   \n",
       "12        False       True     True               True           True   \n",
       "13        False       True     True               True           True   \n",
       "14        False       True     True               True           True   \n",
       "15         True       True    False               True           True   \n",
       "16         True       True     True               True           True   \n",
       "17        False       True    False               True           True   \n",
       "18        False       True    False               True           True   \n",
       "19        False       True    False               True           True   \n",
       "20         True       True     True               True          False   \n",
       "21         True       True     True               True          False   \n",
       "22         True       True    False              False           True   \n",
       "23        False       True     True               True          False   \n",
       "24        False       True     True               True          False   \n",
       "25        False       True     True              False           True   \n",
       "26        False       True    False               True           True   \n",
       "27         True       True     True               True          False   \n",
       "28        False       True    False               True           True   \n",
       "29         True       True    False               True           True   \n",
       "30         True       True    False               True           True   \n",
       "31        False       True     True               True           True   \n",
       "32         True       True    False              False           True   \n",
       "33         True       True    False               True           True   \n",
       "34         True       True    False              False          False   \n",
       "35         True      False    False               True           True   \n",
       "36        False       True    False               True           True   \n",
       "37        False       True     True               True          False   \n",
       "38         True       True    False               True          False   \n",
       "39         True       True    False               True          False   \n",
       "40         True      False     True              False          False   \n",
       "41         True       True    False               True          False   \n",
       "42         True       True    False              False           True   \n",
       "43         True      False    False              False          False   \n",
       "44         True      False    False              False           True   \n",
       "45         True      False    False               True           True   \n",
       "46         True      False     True              False           True   \n",
       "47        False       True     True              False          False   \n",
       "48         True       True    False               True          False   \n",
       "49        False      False     True              False           True   \n",
       "50        False       True    False               True          False   \n",
       "51         True      False     True              False          False   \n",
       "52         True      False     True              False          False   \n",
       "53        False      False    False               True           True   \n",
       "54         True      False    False               True           True   \n",
       "55         True      False     True              False          False   \n",
       "56         True       True     True              False          False   \n",
       "57        False       True    False              False          False   \n",
       "58         True       True    False               True          False   \n",
       "59        False      False    False               True           True   \n",
       "60         True      False    False               True          False   \n",
       "61         True      False    False              False           True   \n",
       "62         True      False    False               True          False   \n",
       "63         True      False     True              False          False   \n",
       "64         True      False    False              False          False   \n",
       "65        False       True    False              False          False   \n",
       "\n",
       "    XGBoost  LinearSVC  Total  \n",
       "1      True       True      9  \n",
       "2     False       True      9  \n",
       "3     False       True      9  \n",
       "4      True      False      9  \n",
       "5     False       True      9  \n",
       "6     False       True      9  \n",
       "7     False       True      8  \n",
       "8     False       True      8  \n",
       "9     False       True      8  \n",
       "10    False       True      8  \n",
       "11     True      False      8  \n",
       "12    False       True      8  \n",
       "13    False       True      8  \n",
       "14    False       True      8  \n",
       "15     True       True      7  \n",
       "16    False       True      7  \n",
       "17    False       True      7  \n",
       "18    False       True      7  \n",
       "19    False       True      7  \n",
       "20     True       True      7  \n",
       "21     True       True      7  \n",
       "22     True      False      7  \n",
       "23    False       True      7  \n",
       "24    False       True      7  \n",
       "25    False       True      7  \n",
       "26    False       True      7  \n",
       "27     True      False      6  \n",
       "28    False      False      6  \n",
       "29     True      False      6  \n",
       "30     True      False      6  \n",
       "31    False       True      6  \n",
       "32    False      False      6  \n",
       "33     True      False      6  \n",
       "34     True      False      6  \n",
       "35     True      False      6  \n",
       "36    False      False      6  \n",
       "37    False       True      5  \n",
       "38    False       True      5  \n",
       "39    False       True      5  \n",
       "40    False       True      5  \n",
       "41    False       True      5  \n",
       "42     True      False      5  \n",
       "43     True       True      5  \n",
       "44     True      False      5  \n",
       "45     True       True      5  \n",
       "46    False       True      4  \n",
       "47    False       True      4  \n",
       "48    False      False      4  \n",
       "49    False      False      4  \n",
       "50    False       True      4  \n",
       "51     True       True      4  \n",
       "52     True       True      4  \n",
       "53    False      False      4  \n",
       "54     True      False      4  \n",
       "55     True       True      4  \n",
       "56    False      False      4  \n",
       "57    False      False      4  \n",
       "58    False      False      4  \n",
       "59    False      False      4  \n",
       "60    False      False      4  \n",
       "61    False      False      4  \n",
       "62    False      False      4  \n",
       "63    False       True      3  \n",
       "64     True       True      3  \n",
       "65    False       True      3  "
      ]
     },
     "execution_count": 111,
     "metadata": {},
     "output_type": "execute_result"
    }
   ],
   "source": [
    "pd.set_option('display.max_rows', 100)\n",
    "# put all selection together\n",
    "feature_selection_df = pd.DataFrame({'Feature':feature_name, 'Pearson':cor_support,'f_classif':f_classif_support,\n",
    "    'RFE-Log':rfe_support,'RFE-XGBoost': rfe_support_xgboost,'Logistics':embeded_lr_support,'LassoCV':embeded_lasso_support,\n",
    "    'RidgeClassifierCV':embeded_ridge_support,'Random Forest':embeded_rf_support,'XGBoost':embeded_xgb_support,\n",
    "    'LinearSVC':embeded_svc_support})\n",
    "# count the selected times for each feature\n",
    "feature_selection_df['Total'] = np.sum(feature_selection_df, axis=1)\n",
    "# display the top 65\n",
    "feature_selection_df = feature_selection_df.sort_values(['Total','Feature'] , ascending=False)\n",
    "feature_selection_df.index = range(1, len(feature_selection_df)+1)\n",
    "feature_selection_df.head(65)"
   ]
  },
  {
   "cell_type": "code",
   "execution_count": 112,
   "metadata": {},
   "outputs": [],
   "source": [
    "feature_selection_df.to_csv('feature_selection.csv')"
   ]
  }
 ],
 "metadata": {
  "kernelspec": {
   "display_name": "Python 3",
   "language": "python",
   "name": "python3"
  },
  "language_info": {
   "codemirror_mode": {
    "name": "ipython",
    "version": 3
   },
   "file_extension": ".py",
   "mimetype": "text/x-python",
   "name": "python",
   "nbconvert_exporter": "python",
   "pygments_lexer": "ipython3",
   "version": "3.6.7"
  }
 },
 "nbformat": 4,
 "nbformat_minor": 4
}
