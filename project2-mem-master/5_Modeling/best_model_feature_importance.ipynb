{
 "cells": [
  {
   "cell_type": "markdown",
   "metadata": {},
   "source": [
    "# Exploring Feature Importance in Our Best Model (Random Forest)\n",
    "- calculate feature importance \n",
    "- explore 3 most important features \n",
    "\n",
    "## Reccomendations\n",
    "1. Attention needs to be payed to ease of use \n",
    "    - more time the user spends on product related page the more likely it will make a purchase \n",
    "2. Product related page is most important as indicated from feature importance and highest correlation with page value\n",
    "3. If you keep the user on the product related page for 0.08 or more there is a higher chance he will make a purchase \n",
    "4. The majority of user activity ends up no Revenue false or no purchase \n",
    "    - those users who purchase are mostly new users which signals **bad retention rate** \n",
    "    - need to take care of customers so they return (e.g. promotions, engagement, surveys to learn what to improve...)\n",
    "5. The more pages the user visits less likely he will make a purchase \n",
    "    - maybe becasue of developers websrapping the website\n",
    "    - the more quality information the user can get without leaving a page the better \n",
    "    - page should be as easy to use as possible with all the features/info neatly displayed (Amazon 1-click order perfect example)\n",
    "6. Most traffic happens in 2nd and 4th quarter \n",
    "    - we reccomend focusing marketing/coupon effort to that time "
   ]
  },
  {
   "cell_type": "code",
   "execution_count": 8,
   "metadata": {},
   "outputs": [
    {
     "data": {
      "text/html": [
       "<div>\n",
       "<style scoped>\n",
       "    .dataframe tbody tr th:only-of-type {\n",
       "        vertical-align: middle;\n",
       "    }\n",
       "\n",
       "    .dataframe tbody tr th {\n",
       "        vertical-align: top;\n",
       "    }\n",
       "\n",
       "    .dataframe thead th {\n",
       "        text-align: right;\n",
       "    }\n",
       "</style>\n",
       "<table border=\"1\" class=\"dataframe\">\n",
       "  <thead>\n",
       "    <tr style=\"text-align: right;\">\n",
       "      <th></th>\n",
       "      <th>Weekend</th>\n",
       "      <th>Revenue</th>\n",
       "      <th>Administrative_Duration_Scaled</th>\n",
       "      <th>Informational_Duration_Scaled</th>\n",
       "      <th>ProductRelated_Duration_Scaled</th>\n",
       "      <th>BounceRates_Scaled</th>\n",
       "      <th>ExitRates_Scaled</th>\n",
       "      <th>PageValues_Scaled</th>\n",
       "      <th>ExitRatesImpute_Scaled</th>\n",
       "      <th>totalFracAdmin_Scaled</th>\n",
       "      <th>...</th>\n",
       "      <th>BounceExitW4_Norm_Scaled</th>\n",
       "      <th>BouncePageRatio_Norm_Scaled</th>\n",
       "      <th>ExitPageRatio_Norm_Scaled</th>\n",
       "      <th>InfoPageRatio_Norm_Scaled</th>\n",
       "      <th>ProdRelPageRatio_Norm_Scaled</th>\n",
       "      <th>InfoBounceRatio_Norm_Scaled</th>\n",
       "      <th>AdminBounceRatio_Norm_Scaled</th>\n",
       "      <th>ProdRelBounceRatio_Norm_Scaled</th>\n",
       "      <th>InfoExitRatio_Norm_Scaled</th>\n",
       "      <th>ProdRelExitRatio_Norm_Scaled</th>\n",
       "    </tr>\n",
       "  </thead>\n",
       "  <tbody>\n",
       "    <tr>\n",
       "      <th>0</th>\n",
       "      <td>False</td>\n",
       "      <td>False</td>\n",
       "      <td>0.0</td>\n",
       "      <td>0.0</td>\n",
       "      <td>0.000000</td>\n",
       "      <td>1.00</td>\n",
       "      <td>1.00</td>\n",
       "      <td>0.0</td>\n",
       "      <td>1.000000</td>\n",
       "      <td>0.0</td>\n",
       "      <td>...</td>\n",
       "      <td>1.718535</td>\n",
       "      <td>-0.366273</td>\n",
       "      <td>-0.496257</td>\n",
       "      <td>-0.298863</td>\n",
       "      <td>-0.532522</td>\n",
       "      <td>-0.39044</td>\n",
       "      <td>-1.029711</td>\n",
       "      <td>-0.986837</td>\n",
       "      <td>-0.491352</td>\n",
       "      <td>-2.077588</td>\n",
       "    </tr>\n",
       "    <tr>\n",
       "      <th>1</th>\n",
       "      <td>False</td>\n",
       "      <td>False</td>\n",
       "      <td>0.0</td>\n",
       "      <td>0.0</td>\n",
       "      <td>0.001000</td>\n",
       "      <td>0.00</td>\n",
       "      <td>0.50</td>\n",
       "      <td>0.0</td>\n",
       "      <td>0.499561</td>\n",
       "      <td>0.0</td>\n",
       "      <td>...</td>\n",
       "      <td>1.299009</td>\n",
       "      <td>-0.366273</td>\n",
       "      <td>-0.496257</td>\n",
       "      <td>-0.298863</td>\n",
       "      <td>-0.532522</td>\n",
       "      <td>-0.39044</td>\n",
       "      <td>-1.029711</td>\n",
       "      <td>-0.986837</td>\n",
       "      <td>-0.491352</td>\n",
       "      <td>-1.190272</td>\n",
       "    </tr>\n",
       "    <tr>\n",
       "      <th>2</th>\n",
       "      <td>False</td>\n",
       "      <td>False</td>\n",
       "      <td>0.0</td>\n",
       "      <td>0.0</td>\n",
       "      <td>0.000000</td>\n",
       "      <td>1.00</td>\n",
       "      <td>1.00</td>\n",
       "      <td>0.0</td>\n",
       "      <td>1.000000</td>\n",
       "      <td>0.0</td>\n",
       "      <td>...</td>\n",
       "      <td>1.718535</td>\n",
       "      <td>-0.366273</td>\n",
       "      <td>-0.496257</td>\n",
       "      <td>-0.298863</td>\n",
       "      <td>-0.532522</td>\n",
       "      <td>-0.39044</td>\n",
       "      <td>-1.029711</td>\n",
       "      <td>-0.986837</td>\n",
       "      <td>-0.491352</td>\n",
       "      <td>-2.077588</td>\n",
       "    </tr>\n",
       "    <tr>\n",
       "      <th>3</th>\n",
       "      <td>False</td>\n",
       "      <td>False</td>\n",
       "      <td>0.0</td>\n",
       "      <td>0.0</td>\n",
       "      <td>0.000042</td>\n",
       "      <td>0.25</td>\n",
       "      <td>0.70</td>\n",
       "      <td>0.0</td>\n",
       "      <td>0.699736</td>\n",
       "      <td>0.0</td>\n",
       "      <td>...</td>\n",
       "      <td>1.584240</td>\n",
       "      <td>-0.366273</td>\n",
       "      <td>-0.496257</td>\n",
       "      <td>-0.298863</td>\n",
       "      <td>-0.532522</td>\n",
       "      <td>-0.39044</td>\n",
       "      <td>-1.029711</td>\n",
       "      <td>0.623730</td>\n",
       "      <td>-0.491352</td>\n",
       "      <td>-1.788555</td>\n",
       "    </tr>\n",
       "    <tr>\n",
       "      <th>4</th>\n",
       "      <td>True</td>\n",
       "      <td>False</td>\n",
       "      <td>0.0</td>\n",
       "      <td>0.0</td>\n",
       "      <td>0.009809</td>\n",
       "      <td>0.10</td>\n",
       "      <td>0.25</td>\n",
       "      <td>0.0</td>\n",
       "      <td>0.249341</td>\n",
       "      <td>0.0</td>\n",
       "      <td>...</td>\n",
       "      <td>0.797889</td>\n",
       "      <td>-0.366273</td>\n",
       "      <td>-0.496257</td>\n",
       "      <td>-0.298863</td>\n",
       "      <td>-0.532522</td>\n",
       "      <td>-0.39044</td>\n",
       "      <td>-1.029711</td>\n",
       "      <td>0.990261</td>\n",
       "      <td>-0.491352</td>\n",
       "      <td>-0.279806</td>\n",
       "    </tr>\n",
       "  </tbody>\n",
       "</table>\n",
       "<p>5 rows × 109 columns</p>\n",
       "</div>"
      ],
      "text/plain": [
       "   Weekend  Revenue  Administrative_Duration_Scaled  \\\n",
       "0    False    False                             0.0   \n",
       "1    False    False                             0.0   \n",
       "2    False    False                             0.0   \n",
       "3    False    False                             0.0   \n",
       "4     True    False                             0.0   \n",
       "\n",
       "   Informational_Duration_Scaled  ProductRelated_Duration_Scaled  \\\n",
       "0                            0.0                        0.000000   \n",
       "1                            0.0                        0.001000   \n",
       "2                            0.0                        0.000000   \n",
       "3                            0.0                        0.000042   \n",
       "4                            0.0                        0.009809   \n",
       "\n",
       "   BounceRates_Scaled  ExitRates_Scaled  PageValues_Scaled  \\\n",
       "0                1.00              1.00                0.0   \n",
       "1                0.00              0.50                0.0   \n",
       "2                1.00              1.00                0.0   \n",
       "3                0.25              0.70                0.0   \n",
       "4                0.10              0.25                0.0   \n",
       "\n",
       "   ExitRatesImpute_Scaled  totalFracAdmin_Scaled  ...  \\\n",
       "0                1.000000                    0.0  ...   \n",
       "1                0.499561                    0.0  ...   \n",
       "2                1.000000                    0.0  ...   \n",
       "3                0.699736                    0.0  ...   \n",
       "4                0.249341                    0.0  ...   \n",
       "\n",
       "   BounceExitW4_Norm_Scaled  BouncePageRatio_Norm_Scaled  \\\n",
       "0                  1.718535                    -0.366273   \n",
       "1                  1.299009                    -0.366273   \n",
       "2                  1.718535                    -0.366273   \n",
       "3                  1.584240                    -0.366273   \n",
       "4                  0.797889                    -0.366273   \n",
       "\n",
       "   ExitPageRatio_Norm_Scaled  InfoPageRatio_Norm_Scaled  \\\n",
       "0                  -0.496257                  -0.298863   \n",
       "1                  -0.496257                  -0.298863   \n",
       "2                  -0.496257                  -0.298863   \n",
       "3                  -0.496257                  -0.298863   \n",
       "4                  -0.496257                  -0.298863   \n",
       "\n",
       "   ProdRelPageRatio_Norm_Scaled  InfoBounceRatio_Norm_Scaled  \\\n",
       "0                     -0.532522                     -0.39044   \n",
       "1                     -0.532522                     -0.39044   \n",
       "2                     -0.532522                     -0.39044   \n",
       "3                     -0.532522                     -0.39044   \n",
       "4                     -0.532522                     -0.39044   \n",
       "\n",
       "   AdminBounceRatio_Norm_Scaled  ProdRelBounceRatio_Norm_Scaled  \\\n",
       "0                     -1.029711                       -0.986837   \n",
       "1                     -1.029711                       -0.986837   \n",
       "2                     -1.029711                       -0.986837   \n",
       "3                     -1.029711                        0.623730   \n",
       "4                     -1.029711                        0.990261   \n",
       "\n",
       "   InfoExitRatio_Norm_Scaled  ProdRelExitRatio_Norm_Scaled  \n",
       "0                  -0.491352                     -2.077588  \n",
       "1                  -0.491352                     -1.190272  \n",
       "2                  -0.491352                     -2.077588  \n",
       "3                  -0.491352                     -1.788555  \n",
       "4                  -0.491352                     -0.279806  \n",
       "\n",
       "[5 rows x 109 columns]"
      ]
     },
     "execution_count": 8,
     "metadata": {},
     "output_type": "execute_result"
    }
   ],
   "source": [
    "# read in data \n",
    "import pandas as pd\n",
    "data = pd.read_csv('all_model_data.csv', index_col = 0)\n",
    "data.head()"
   ]
  },
  {
   "cell_type": "code",
   "execution_count": 9,
   "metadata": {},
   "outputs": [],
   "source": [
    "# split data into labels and target\n",
    "X = data.drop('Revenue', axis = 1)\n",
    "y = data.Revenue"
   ]
  },
  {
   "cell_type": "code",
   "execution_count": 10,
   "metadata": {},
   "outputs": [],
   "source": [
    "# Split dataset into training set and test set\n",
    "from sklearn.model_selection import train_test_split\n",
    "X_train, X_test, y_train, y_test = train_test_split(X, y, test_size=0.2) # 80% training and 20% test"
   ]
  },
  {
   "cell_type": "code",
   "execution_count": 11,
   "metadata": {},
   "outputs": [],
   "source": [
    "## Import the random forest model.\n",
    "from sklearn.ensemble import RandomForestClassifier \n",
    "## This line instantiates the model. \n",
    "rf = RandomForestClassifier() \n",
    "## Fit the model on your training data.\n",
    "rf.fit(X_train, y_train) \n",
    "\n",
    "feature_importances = pd.DataFrame(rf.feature_importances_,index = X_train.columns,\n",
    "                                    columns=['importance']).sort_values('importance', ascending=False)"
   ]
  },
  {
   "cell_type": "markdown",
   "metadata": {},
   "source": [
    "Here for instance we see that a lot of page value variations are at the top. We need to choose only one variation of the feature. "
   ]
  },
  {
   "cell_type": "code",
   "execution_count": 47,
   "metadata": {},
   "outputs": [
    {
     "data": {
      "text/html": [
       "<div>\n",
       "<style scoped>\n",
       "    .dataframe tbody tr th:only-of-type {\n",
       "        vertical-align: middle;\n",
       "    }\n",
       "\n",
       "    .dataframe tbody tr th {\n",
       "        vertical-align: top;\n",
       "    }\n",
       "\n",
       "    .dataframe thead th {\n",
       "        text-align: right;\n",
       "    }\n",
       "</style>\n",
       "<table border=\"1\" class=\"dataframe\">\n",
       "  <thead>\n",
       "    <tr style=\"text-align: right;\">\n",
       "      <th></th>\n",
       "      <th>importance</th>\n",
       "    </tr>\n",
       "  </thead>\n",
       "  <tbody>\n",
       "    <tr>\n",
       "      <th>PageValues_Scaled</th>\n",
       "      <td>0.054260</td>\n",
       "    </tr>\n",
       "    <tr>\n",
       "      <th>ProdRelPageRatio_Norm_Scaled</th>\n",
       "      <td>0.049078</td>\n",
       "    </tr>\n",
       "    <tr>\n",
       "      <th>PageValues_Scaled_Norm</th>\n",
       "      <td>0.047334</td>\n",
       "    </tr>\n",
       "    <tr>\n",
       "      <th>ProdRelPageRatio_Scaled_Bin</th>\n",
       "      <td>0.041168</td>\n",
       "    </tr>\n",
       "    <tr>\n",
       "      <th>ProdRelPageRatio_Scaled_Norm</th>\n",
       "      <td>0.040761</td>\n",
       "    </tr>\n",
       "  </tbody>\n",
       "</table>\n",
       "</div>"
      ],
      "text/plain": [
       "                              importance\n",
       "PageValues_Scaled               0.054260\n",
       "ProdRelPageRatio_Norm_Scaled    0.049078\n",
       "PageValues_Scaled_Norm          0.047334\n",
       "ProdRelPageRatio_Scaled_Bin     0.041168\n",
       "ProdRelPageRatio_Scaled_Norm    0.040761"
      ]
     },
     "execution_count": 47,
     "metadata": {},
     "output_type": "execute_result"
    }
   ],
   "source": [
    "feature_importances.head() # select one from each variation "
   ]
  },
  {
   "cell_type": "markdown",
   "metadata": {},
   "source": [
    "## Top 5 features on importance\n",
    "- it is worth mentioning exit rates that are quite to the top but are a mix feature with page values (PageValues_Scaled more important)"
   ]
  },
  {
   "cell_type": "code",
   "execution_count": 66,
   "metadata": {},
   "outputs": [
    {
     "data": {
      "text/html": [
       "<div>\n",
       "<style scoped>\n",
       "    .dataframe tbody tr th:only-of-type {\n",
       "        vertical-align: middle;\n",
       "    }\n",
       "\n",
       "    .dataframe tbody tr th {\n",
       "        vertical-align: top;\n",
       "    }\n",
       "\n",
       "    .dataframe thead th {\n",
       "        text-align: right;\n",
       "    }\n",
       "</style>\n",
       "<table border=\"1\" class=\"dataframe\">\n",
       "  <thead>\n",
       "    <tr style=\"text-align: right;\">\n",
       "      <th></th>\n",
       "      <th>importance</th>\n",
       "    </tr>\n",
       "  </thead>\n",
       "  <tbody>\n",
       "    <tr>\n",
       "      <th>PageValues_Scaled</th>\n",
       "      <td>0.054260</td>\n",
       "    </tr>\n",
       "    <tr>\n",
       "      <th>ProductRelated_Duration_Scaled_Norm</th>\n",
       "      <td>0.015960</td>\n",
       "    </tr>\n",
       "    <tr>\n",
       "      <th>totalFracAdmin_Scaled</th>\n",
       "      <td>0.010904</td>\n",
       "    </tr>\n",
       "    <tr>\n",
       "      <th>Administrative_Duration_Scaled</th>\n",
       "      <td>0.010736</td>\n",
       "    </tr>\n",
       "    <tr>\n",
       "      <th>BounceRates_Norm_Scaled</th>\n",
       "      <td>0.009333</td>\n",
       "    </tr>\n",
       "  </tbody>\n",
       "</table>\n",
       "</div>"
      ],
      "text/plain": [
       "                                     importance\n",
       "PageValues_Scaled                      0.054260\n",
       "ProductRelated_Duration_Scaled_Norm    0.015960\n",
       "totalFracAdmin_Scaled                  0.010904\n",
       "Administrative_Duration_Scaled         0.010736\n",
       "BounceRates_Norm_Scaled                0.009333"
      ]
     },
     "execution_count": 66,
     "metadata": {},
     "output_type": "execute_result"
    }
   ],
   "source": [
    "feature_importances.iloc[[0,11,17,18,31],:]"
   ]
  },
  {
   "cell_type": "code",
   "execution_count": null,
   "metadata": {},
   "outputs": [],
   "source": [
    "##### select model that performs better in one class, we care more about 1 class \n",
    "# these are the things you should focus on and some other things other than web traffic you should focus on \n",
    "# another model to predict who is going to purchase \n",
    "\n",
    "# average quality of all webpages \n",
    "# important for prediction \n",
    "# whether the customer is going to purchase how good the erbpage quality is affects the decision "
   ]
  },
  {
   "cell_type": "code",
   "execution_count": 49,
   "metadata": {},
   "outputs": [
    {
     "name": "stdout",
     "output_type": "stream",
     "text": [
      "(1908, 109)\n",
      "(10422, 109)\n"
     ]
    }
   ],
   "source": [
    "import matplotlib.pyplot as plt \n",
    "import seaborn as sns\n",
    "\n",
    "# subsetting dataframe\n",
    "rev_true = data[data['Revenue']==True]\n",
    "rev_false = data[data['Revenue']==False]\n",
    "\n",
    "print(rev_true.shape)\n",
    "print(rev_false.shape)"
   ]
  },
  {
   "cell_type": "markdown",
   "metadata": {},
   "source": [
    "## Feature 1 - PageValues_Scaled"
   ]
  },
  {
   "cell_type": "code",
   "execution_count": 50,
   "metadata": {},
   "outputs": [
    {
     "data": {
      "text/plain": [
       "Text(0, 0.5, 'Density')"
      ]
     },
     "execution_count": 50,
     "metadata": {},
     "output_type": "execute_result"
    },
    {
     "data": {
      "image/png": "[encoded data removed]",
      "text/plain": [
       "<Figure size 432x288 with 1 Axes>"
      ]
     },
     "metadata": {
      "needs_background": "light"
     },
     "output_type": "display_data"
    }
   ],
   "source": [
    "feat1_1 = rev_true.PageValues_Scaled\n",
    "sns.distplot(feat1_1,  kde=False, label='Revenue True')\n",
    "\n",
    "# Plot formatting\n",
    "plt.legend(prop={'size': 12})\n",
    "plt.title('PageValues_Scaled Revenue True')\n",
    "plt.xlabel('Page Values')\n",
    "plt.ylabel('Density')"
   ]
  },
  {
   "cell_type": "markdown",
   "metadata": {},
   "source": [
    "- Higher page value (outliers) lead to revenue \n",
    "- Page value gives an idea of which page in your site contributed more to your site's revenue\n",
    "- To increase revenue attention must be given to quality of the webpage "
   ]
  },
  {
   "cell_type": "code",
   "execution_count": 52,
   "metadata": {},
   "outputs": [
    {
     "data": {
      "text/plain": [
       "Text(0, 0.5, 'Density')"
      ]
     },
     "execution_count": 52,
     "metadata": {},
     "output_type": "execute_result"
    },
    {
     "data": {
      "image/png": "[encoded data removed]",
      "text/plain": [
       "<Figure size 432x288 with 1 Axes>"
      ]
     },
     "metadata": {
      "needs_background": "light"
     },
     "output_type": "display_data"
    }
   ],
   "source": [
    "feat1_0 = rev_false.PageValues_Scaled\n",
    "sns.distplot(feat1_0,  kde=False, label='Revenue False')\n",
    "\n",
    "# Plot formatting\n",
    "plt.legend(prop={'size': 12})\n",
    "plt.title('PageValues_Scaled Revenue False')\n",
    "plt.xlabel('Page Values')\n",
    "plt.ylabel('Density')"
   ]
  },
  {
   "cell_type": "markdown",
   "metadata": {},
   "source": [
    "- Lover the page value, less likely the purchase will occur\n",
    "- Less outliers (values concentrated around 0) "
   ]
  },
  {
   "cell_type": "code",
   "execution_count": 54,
   "metadata": {},
   "outputs": [
    {
     "data": {
      "text/plain": [
       "Text(0.5, 1.0, 'Boxplot Page Values Revenue True')"
      ]
     },
     "execution_count": 54,
     "metadata": {},
     "output_type": "execute_result"
    },
    {
     "data": {
      "image/png": "[encoded data removed]",
      "text/plain": [
       "<Figure size 432x288 with 1 Axes>"
      ]
     },
     "metadata": {
      "needs_background": "light"
     },
     "output_type": "display_data"
    }
   ],
   "source": [
    "sns.boxplot(x=feat1_1)\n",
    "plt.title('Boxplot Page Values Revenue True')"
   ]
  },
  {
   "cell_type": "markdown",
   "metadata": {},
   "source": [
    "- we see better here that page values is bigger and outliers are more to the right when revenue is true"
   ]
  },
  {
   "cell_type": "code",
   "execution_count": 55,
   "metadata": {},
   "outputs": [
    {
     "data": {
      "text/plain": [
       "Text(0.5, 1.0, 'Boxplot Page Values Revenue False')"
      ]
     },
     "execution_count": 55,
     "metadata": {},
     "output_type": "execute_result"
    },
    {
     "data": {
      "image/png": "[encoded data removed]",
      "text/plain": [
       "<Figure size 432x288 with 1 Axes>"
      ]
     },
     "metadata": {
      "needs_background": "light"
     },
     "output_type": "display_data"
    }
   ],
   "source": [
    "sns.boxplot(x=feat1_0)\n",
    "plt.title('Boxplot Page Values Revenue False')"
   ]
  },
  {
   "cell_type": "markdown",
   "metadata": {},
   "source": [
    "- mostly 0 values with majority of outliers around 0-0.3 for revenue false"
   ]
  },
  {
   "cell_type": "markdown",
   "metadata": {},
   "source": [
    "## Feature 2 - Product Related Duration"
   ]
  },
  {
   "cell_type": "code",
   "execution_count": 69,
   "metadata": {},
   "outputs": [
    {
     "data": {
      "text/plain": [
       "Text(0, 0.5, 'Density')"
      ]
     },
     "execution_count": 69,
     "metadata": {},
     "output_type": "execute_result"
    },
    {
     "data": {
      "image/png": "[encoded data removed]",
      "text/plain": [
       "<Figure size 432x288 with 1 Axes>"
      ]
     },
     "metadata": {
      "needs_background": "light"
     },
     "output_type": "display_data"
    }
   ],
   "source": [
    "feat1_1 = rev_true.ProductRelated_Duration_Scaled_Norm\n",
    "sns.distplot(feat1_1,  kde=False, label='Revenue True')\n",
    "\n",
    "# Plot formatting\n",
    "plt.legend(prop={'size': 12})\n",
    "plt.title('Product Related Duration Revenue True')\n",
    "plt.xlabel('Product Related Duration')\n",
    "plt.ylabel('Density')  "
   ]
  },
  {
   "cell_type": "code",
   "execution_count": 70,
   "metadata": {},
   "outputs": [
    {
     "data": {
      "text/plain": [
       "Text(0, 0.5, 'Density')"
      ]
     },
     "execution_count": 70,
     "metadata": {},
     "output_type": "execute_result"
    },
    {
     "data": {
      "image/png": "[encoded data removed]",
      "text/plain": [
       "<Figure size 432x288 with 1 Axes>"
      ]
     },
     "metadata": {
      "needs_background": "light"
     },
     "output_type": "display_data"
    }
   ],
   "source": [
    "feat1_0 = rev_false.ProductRelated_Duration_Scaled_Norm\n",
    "sns.distplot(feat1_0,  kde=False, label='Revenue False')\n",
    "\n",
    "# Plot formatting\n",
    "plt.legend(prop={'size': 12})\n",
    "plt.title('Product Related Duration Revenue False')\n",
    "plt.xlabel('Product Related Duration')\n",
    "plt.ylabel('Density')  "
   ]
  },
  {
   "cell_type": "code",
   "execution_count": 71,
   "metadata": {},
   "outputs": [
    {
     "data": {
      "text/plain": [
       "Text(0.5, 1.0, 'Boxplot Product Related Duration Revenue True')"
      ]
     },
     "execution_count": 71,
     "metadata": {},
     "output_type": "execute_result"
    },
    {
     "data": {
      "image/png": "[encoded data removed]",
      "text/plain": [
       "<Figure size 432x288 with 1 Axes>"
      ]
     },
     "metadata": {
      "needs_background": "light"
     },
     "output_type": "display_data"
    }
   ],
   "source": [
    "sns.boxplot(x=feat1_1)\n",
    "plt.title('Boxplot Product Related Duration Revenue True')"
   ]
  },
  {
   "cell_type": "markdown",
   "metadata": {},
   "source": [
    "- if the user spends from 0.08 and more on the product related page its a high chance he/she will purhcase something "
   ]
  },
  {
   "cell_type": "code",
   "execution_count": 72,
   "metadata": {},
   "outputs": [
    {
     "data": {
      "text/plain": [
       "Text(0.5, 1.0, 'Boxplot Product Related Duration Revenue False')"
      ]
     },
     "execution_count": 72,
     "metadata": {},
     "output_type": "execute_result"
    },
    {
     "data": {
      "image/png": "[encoded data removed]",
      "text/plain": [
       "<Figure size 432x288 with 1 Axes>"
      ]
     },
     "metadata": {
      "needs_background": "light"
     },
     "output_type": "display_data"
    }
   ],
   "source": [
    "sns.boxplot(x=feat1_0)\n",
    "plt.title('Boxplot Product Related Duration Revenue False')"
   ]
  },
  {
   "cell_type": "markdown",
   "metadata": {},
   "source": [
    "- if the user spends less time on the page 0 - 0.12 it will more likely exit "
   ]
  },
  {
   "cell_type": "markdown",
   "metadata": {},
   "source": [
    "## Feature 3"
   ]
  },
  {
   "cell_type": "code",
   "execution_count": 73,
   "metadata": {},
   "outputs": [
    {
     "data": {
      "text/plain": [
       "Text(0, 0.5, 'Density')"
      ]
     },
     "execution_count": 73,
     "metadata": {},
     "output_type": "execute_result"
    },
    {
     "data": {
      "image/png": "[encoded data removed]",
      "text/plain": [
       "<Figure size 432x288 with 1 Axes>"
      ]
     },
     "metadata": {
      "needs_background": "light"
     },
     "output_type": "display_data"
    }
   ],
   "source": [
    "feat1_1 = rev_true.totalFracAdmin_Scaled\n",
    "sns.distplot(feat1_1,  kde=False, label='Revenue True')\n",
    "\n",
    "# Plot formatting\n",
    "plt.legend(prop={'size': 12})\n",
    "plt.title('Ratio of 3 pages - Revenue True')\n",
    "plt.xlabel('totalFracAdmin_Scaled')\n",
    "plt.ylabel('Density')"
   ]
  },
  {
   "cell_type": "markdown",
   "metadata": {},
   "source": [
    "- the more time user visits all 3 page more likely he will make a purchase \n",
    "- we remember that page value and bounce rate is slighlty negatively correlated \n",
    "    - so little bounce rate is good but too much is bad"
   ]
  },
  {
   "cell_type": "code",
   "execution_count": 74,
   "metadata": {},
   "outputs": [
    {
     "data": {
      "text/plain": [
       "Text(0, 0.5, 'Density')"
      ]
     },
     "execution_count": 74,
     "metadata": {},
     "output_type": "execute_result"
    },
    {
     "data": {
      "image/png": "[encoded data removed]",
      "text/plain": [
       "<Figure size 432x288 with 1 Axes>"
      ]
     },
     "metadata": {
      "needs_background": "light"
     },
     "output_type": "display_data"
    }
   ],
   "source": [
    "feat1_0 = rev_false.totalFracAdmin_Scaled\n",
    "sns.distplot(feat1_0,  kde=False, label='Revenue False')\n",
    "\n",
    "# Plot formatting\n",
    "plt.legend(prop={'size': 12})\n",
    "plt.title('Ratio of 3 pages - Revenue False')\n",
    "plt.xlabel('totalFracAdmin_Scaled')\n",
    "plt.ylabel('Density')"
   ]
  },
  {
   "cell_type": "code",
   "execution_count": 75,
   "metadata": {},
   "outputs": [
    {
     "data": {
      "text/plain": [
       "Text(0.5, 1.0, 'Boxplot totalFracAdmin_Scaled Revenue True')"
      ]
     },
     "execution_count": 75,
     "metadata": {},
     "output_type": "execute_result"
    },
    {
     "data": {
      "image/png": "[encoded data removed]",
      "text/plain": [
       "<Figure size 432x288 with 1 Axes>"
      ]
     },
     "metadata": {
      "needs_background": "light"
     },
     "output_type": "display_data"
    }
   ],
   "source": [
    "sns.boxplot(x=feat1_1)\n",
    "plt.title('Boxplot totalFracAdmin_Scaled Revenue True')"
   ]
  },
  {
   "cell_type": "markdown",
   "metadata": {},
   "source": [
    "- less outliers there are to the right more likely there will be a purchase "
   ]
  },
  {
   "cell_type": "code",
   "execution_count": 76,
   "metadata": {},
   "outputs": [
    {
     "data": {
      "text/plain": [
       "Text(0.5, 1.0, 'Boxplot totalFracAdmin_Scaled Revenue False')"
      ]
     },
     "execution_count": 76,
     "metadata": {},
     "output_type": "execute_result"
    },
    {
     "data": {
      "image/png": "[encoded data removed]",
      "text/plain": [
       "<Figure size 432x288 with 1 Axes>"
      ]
     },
     "metadata": {
      "needs_background": "light"
     },
     "output_type": "display_data"
    }
   ],
   "source": [
    "sns.boxplot(x=feat1_0)\n",
    "plt.title('Boxplot totalFracAdmin_Scaled Revenue False')"
   ]
  },
  {
   "cell_type": "markdown",
   "metadata": {},
   "source": [
    "- more outliers there are (higher bounce rate) more likely revenue will be False"
   ]
  },
  {
   "cell_type": "code",
   "execution_count": null,
   "metadata": {},
   "outputs": [],
   "source": []
  }
 ],
 "metadata": {
  "kernelspec": {
   "display_name": "Python 3",
   "language": "python",
   "name": "python3"
  },
  "language_info": {
   "codemirror_mode": {
    "name": "ipython",
    "version": 3
   },
   "file_extension": ".py",
   "mimetype": "text/x-python",
   "name": "python",
   "nbconvert_exporter": "python",
   "pygments_lexer": "ipython3",
   "version": "3.6.7"
  }
 },
 "nbformat": 4,
 "nbformat_minor": 4
}
