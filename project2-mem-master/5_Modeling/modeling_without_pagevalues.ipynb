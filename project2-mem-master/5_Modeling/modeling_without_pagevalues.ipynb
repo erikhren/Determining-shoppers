{
 "cells": [
  {
   "cell_type": "code",
   "execution_count": 130,
   "metadata": {},
   "outputs": [],
   "source": [
    "import pandas as pd\n",
    "import numpy as np\n",
    "\n",
    "from sklearn.feature_selection import RFE\n",
    "from sklearn.linear_model import LogisticRegression\n",
    "from sklearn.ensemble import RandomForestClassifier\n",
    "from sklearn.model_selection import train_test_split\n",
    "\n",
    "from sklearn import metrics, model_selection\n",
    "from sklearn.metrics import classification_report,roc_auc_score,accuracy_score,confusion_matrix\n",
    "from sklearn.metrics import roc_curve,f1_score,precision_recall_fscore_support\n",
    "\n",
    "from sklearn.model_selection import cross_val_score\n",
    "from sklearn.model_selection import train_test_split\n",
    "\n",
    "from imblearn.over_sampling import SMOTE\n",
    "from sklearn.preprocessing import MinMaxScaler"
   ]
  },
  {
   "cell_type": "code",
   "execution_count": 131,
   "metadata": {},
   "outputs": [
    {
     "data": {
      "text/html": [
       "<div>\n",
       "<style scoped>\n",
       "    .dataframe tbody tr th:only-of-type {\n",
       "        vertical-align: middle;\n",
       "    }\n",
       "\n",
       "    .dataframe tbody tr th {\n",
       "        vertical-align: top;\n",
       "    }\n",
       "\n",
       "    .dataframe thead th {\n",
       "        text-align: right;\n",
       "    }\n",
       "</style>\n",
       "<table border=\"1\" class=\"dataframe\">\n",
       "  <thead>\n",
       "    <tr style=\"text-align: right;\">\n",
       "      <th></th>\n",
       "      <th>Administrative</th>\n",
       "      <th>Administrative_Duration</th>\n",
       "      <th>Informational</th>\n",
       "      <th>Informational_Duration</th>\n",
       "      <th>ProductRelated</th>\n",
       "      <th>ProductRelated_Duration</th>\n",
       "      <th>BounceRates</th>\n",
       "      <th>ExitRates</th>\n",
       "      <th>PageValues</th>\n",
       "      <th>SpecialDay</th>\n",
       "      <th>Month</th>\n",
       "      <th>OperatingSystems</th>\n",
       "      <th>Browser</th>\n",
       "      <th>Region</th>\n",
       "      <th>TrafficType</th>\n",
       "      <th>VisitorType</th>\n",
       "      <th>Weekend</th>\n",
       "      <th>Revenue</th>\n",
       "    </tr>\n",
       "  </thead>\n",
       "  <tbody>\n",
       "    <tr>\n",
       "      <th>0</th>\n",
       "      <td>0</td>\n",
       "      <td>0.0</td>\n",
       "      <td>0</td>\n",
       "      <td>0.0</td>\n",
       "      <td>1</td>\n",
       "      <td>0.0</td>\n",
       "      <td>0.2</td>\n",
       "      <td>0.2</td>\n",
       "      <td>0.0</td>\n",
       "      <td>0.0</td>\n",
       "      <td>Feb</td>\n",
       "      <td>1</td>\n",
       "      <td>1</td>\n",
       "      <td>1</td>\n",
       "      <td>1</td>\n",
       "      <td>Returning_Visitor</td>\n",
       "      <td>False</td>\n",
       "      <td>False</td>\n",
       "    </tr>\n",
       "    <tr>\n",
       "      <th>1</th>\n",
       "      <td>0</td>\n",
       "      <td>0.0</td>\n",
       "      <td>0</td>\n",
       "      <td>0.0</td>\n",
       "      <td>2</td>\n",
       "      <td>64.0</td>\n",
       "      <td>0.0</td>\n",
       "      <td>0.1</td>\n",
       "      <td>0.0</td>\n",
       "      <td>0.0</td>\n",
       "      <td>Feb</td>\n",
       "      <td>2</td>\n",
       "      <td>2</td>\n",
       "      <td>1</td>\n",
       "      <td>2</td>\n",
       "      <td>Returning_Visitor</td>\n",
       "      <td>False</td>\n",
       "      <td>False</td>\n",
       "    </tr>\n",
       "    <tr>\n",
       "      <th>2</th>\n",
       "      <td>0</td>\n",
       "      <td>0.0</td>\n",
       "      <td>0</td>\n",
       "      <td>0.0</td>\n",
       "      <td>1</td>\n",
       "      <td>0.0</td>\n",
       "      <td>0.2</td>\n",
       "      <td>0.2</td>\n",
       "      <td>0.0</td>\n",
       "      <td>0.0</td>\n",
       "      <td>Feb</td>\n",
       "      <td>4</td>\n",
       "      <td>1</td>\n",
       "      <td>9</td>\n",
       "      <td>3</td>\n",
       "      <td>Returning_Visitor</td>\n",
       "      <td>False</td>\n",
       "      <td>False</td>\n",
       "    </tr>\n",
       "  </tbody>\n",
       "</table>\n",
       "</div>"
      ],
      "text/plain": [
       "   Administrative  Administrative_Duration  Informational  \\\n",
       "0               0                      0.0              0   \n",
       "1               0                      0.0              0   \n",
       "2               0                      0.0              0   \n",
       "\n",
       "   Informational_Duration  ProductRelated  ProductRelated_Duration  \\\n",
       "0                     0.0               1                      0.0   \n",
       "1                     0.0               2                     64.0   \n",
       "2                     0.0               1                      0.0   \n",
       "\n",
       "   BounceRates  ExitRates  PageValues  SpecialDay Month  OperatingSystems  \\\n",
       "0          0.2        0.2         0.0         0.0   Feb                 1   \n",
       "1          0.0        0.1         0.0         0.0   Feb                 2   \n",
       "2          0.2        0.2         0.0         0.0   Feb                 4   \n",
       "\n",
       "   Browser  Region  TrafficType        VisitorType  Weekend  Revenue  \n",
       "0        1       1            1  Returning_Visitor    False    False  \n",
       "1        2       1            2  Returning_Visitor    False    False  \n",
       "2        1       9            3  Returning_Visitor    False    False  "
      ]
     },
     "execution_count": 131,
     "metadata": {},
     "output_type": "execute_result"
    }
   ],
   "source": [
    "# Loaded in the data\n",
    "data = pd.read_csv('online_shoppers_intention.csv')\n",
    "data.head(3)"
   ]
  },
  {
   "cell_type": "code",
   "execution_count": 132,
   "metadata": {},
   "outputs": [],
   "source": [
    "# drop page values\n",
    "data = data.drop('PageValues', axis = 1)"
   ]
  },
  {
   "cell_type": "code",
   "execution_count": 133,
   "metadata": {},
   "outputs": [],
   "source": [
    "# encode\n",
    "# we have 10 months, missing Jan, Apr \n",
    "# encode into quarters \n",
    "def division_func_month(div) :\n",
    "    if div == 'Feb':\n",
    "        return 1\n",
    "    elif div == 'Mar':\n",
    "        return 1\n",
    "    elif div == 'May':\n",
    "        return 2\n",
    "    elif div == 'June':\n",
    "        return 2\n",
    "    elif div == 'Jul':\n",
    "        return 3\n",
    "    elif div == 'Aug':\n",
    "        return 3\n",
    "    elif div == 'Sep':\n",
    "        return 3\n",
    "    elif div == 'Oct':\n",
    "        return 4\n",
    "    elif div == 'Nov':\n",
    "        return 4\n",
    "    elif div == 'Dec':\n",
    "        return 4\n",
    "    else:\n",
    "        return 0\n",
    "    \n",
    "# from object to integers\n",
    "data['quarter'] = data['Month']\n",
    "# apply function\n",
    "data['quarter'] = data['quarter'].apply(division_func_month)\n",
    "\n",
    "# encoding for revenue and weekend\n",
    "def div_fun_visType(div) :\n",
    "    if div == 'Returning_Visitor':\n",
    "        return 1\n",
    "    if div == 'New_Visitor':\n",
    "        return 2\n",
    "    else:\n",
    "        return 0\n",
    "    \n",
    "# from boolean to integers\n",
    "data['VisitorType_encode'] = data['VisitorType']\n",
    "# apply function\n",
    "data['VisitorType_encode'] = data['VisitorType_encode'].apply(div_fun_visType)\n",
    "\n",
    "data1 = data.copy()\n",
    "data1 = data1.drop(['VisitorType','Month'], axis = 1)\n",
    "\n",
    "# revenue (Y) and weeked only have 2 unique values so there is no need to encode\n",
    "data1 = pd.get_dummies(data1, columns=['VisitorType_encode','quarter','SpecialDay'])"
   ]
  },
  {
   "cell_type": "code",
   "execution_count": 134,
   "metadata": {},
   "outputs": [
    {
     "data": {
      "text/plain": [
       "(12330, 27)"
      ]
     },
     "execution_count": 134,
     "metadata": {},
     "output_type": "execute_result"
    }
   ],
   "source": [
    "data1.shape"
   ]
  },
  {
   "cell_type": "markdown",
   "metadata": {},
   "source": [
    "### feature engineering (now with no page values)"
   ]
  },
  {
   "cell_type": "code",
   "execution_count": 135,
   "metadata": {},
   "outputs": [],
   "source": [
    "# ratios for counts\n",
    "data1['totalFracAdmin'] = data1['Administrative']/(data1['Administrative'] + data1['Informational'] + data1['ProductRelated'])\n",
    "data1['totalFracInfo'] = data1['Informational']/(data1['Administrative'] + data1['Informational'] + data1['ProductRelated'])\n",
    "data1['totalFracProd'] = data1['ProductRelated']/(data1['Administrative'] + data1['Informational'] + data1['ProductRelated'])\n",
    "\n",
    "# drop original durations \n",
    "data1 = data1.drop(['Administrative','Informational','ProductRelated'], axis = 1)\n",
    "\n",
    "# average combining\n",
    "data1['BounceExitAvg'] = (data1['BounceRates'] + data1['ExitRates'])/2\n",
    "\n",
    "# weighted-average feature joining\n",
    "data1['BounceExitW1'] = data1['BounceRates'] * 0.6 + data1['ExitRates'] * 0.4\n",
    "data1['BounceExitW2'] = data1['BounceRates'] * 0.7 + data1['ExitRates'] * 0.3\n",
    "data1['BounceExitW3'] = data1['BounceRates'] * 0.4 + data1['ExitRates'] * 0.6\n",
    "data1['BounceExitW4'] = data1['BounceRates'] * 0.3 + data1['ExitRates'] * 0.7"
   ]
  },
  {
   "cell_type": "code",
   "execution_count": 136,
   "metadata": {},
   "outputs": [],
   "source": [
    "data1 = data1.fillna(0) # fill N/A with 0 \n",
    "data1 = data1.replace(np.inf, 0) # replace inf wit 0\n",
    "data1 = data1.replace(-0, 0) # for some reason we also get -0 just fix it to 0 "
   ]
  },
  {
   "cell_type": "code",
   "execution_count": 137,
   "metadata": {},
   "outputs": [
    {
     "name": "stdout",
     "output_type": "stream",
     "text": [
      "Original number of features:  19\n",
      "Total number of features added (after encoding, engineering):  13\n"
     ]
    }
   ],
   "source": [
    "print('Original number of features: ', len(data.columns))\n",
    "print('Total number of features added (after encoding, engineering): ', len(data1.columns) - len(data.columns))"
   ]
  },
  {
   "cell_type": "markdown",
   "metadata": {},
   "source": [
    "### Standerdize"
   ]
  },
  {
   "cell_type": "code",
   "execution_count": 138,
   "metadata": {},
   "outputs": [],
   "source": [
    "# make a copy\n",
    "standardize = data1.copy()  \n",
    "# select continous features (exclude Special Day)\n",
    "standardize = standardize.select_dtypes(include='float64')"
   ]
  },
  {
   "cell_type": "code",
   "execution_count": 139,
   "metadata": {},
   "outputs": [
    {
     "data": {
      "text/html": [
       "<div>\n",
       "<style scoped>\n",
       "    .dataframe tbody tr th:only-of-type {\n",
       "        vertical-align: middle;\n",
       "    }\n",
       "\n",
       "    .dataframe tbody tr th {\n",
       "        vertical-align: top;\n",
       "    }\n",
       "\n",
       "    .dataframe thead th {\n",
       "        text-align: right;\n",
       "    }\n",
       "</style>\n",
       "<table border=\"1\" class=\"dataframe\">\n",
       "  <thead>\n",
       "    <tr style=\"text-align: right;\">\n",
       "      <th></th>\n",
       "      <th>Administrative_Duration_Scaled</th>\n",
       "      <th>Informational_Duration_Scaled</th>\n",
       "      <th>ProductRelated_Duration_Scaled</th>\n",
       "      <th>BounceRates_Scaled</th>\n",
       "      <th>ExitRates_Scaled</th>\n",
       "      <th>totalFracAdmin_Scaled</th>\n",
       "      <th>totalFracInfo_Scaled</th>\n",
       "      <th>totalFracProd_Scaled</th>\n",
       "      <th>BounceExitAvg_Scaled</th>\n",
       "      <th>BounceExitW1_Scaled</th>\n",
       "      <th>BounceExitW2_Scaled</th>\n",
       "      <th>BounceExitW3_Scaled</th>\n",
       "      <th>BounceExitW4_Scaled</th>\n",
       "    </tr>\n",
       "  </thead>\n",
       "  <tbody>\n",
       "    <tr>\n",
       "      <th>count</th>\n",
       "      <td>12330.000000</td>\n",
       "      <td>12330.000000</td>\n",
       "      <td>12330.000000</td>\n",
       "      <td>12330.000000</td>\n",
       "      <td>12330.000000</td>\n",
       "      <td>12330.000000</td>\n",
       "      <td>12330.00000</td>\n",
       "      <td>12330.000000</td>\n",
       "      <td>12330.000000</td>\n",
       "      <td>12330.000000</td>\n",
       "      <td>12330.000000</td>\n",
       "      <td>12330.000000</td>\n",
       "      <td>12330.000000</td>\n",
       "    </tr>\n",
       "    <tr>\n",
       "      <th>mean</th>\n",
       "      <td>0.023779</td>\n",
       "      <td>0.013522</td>\n",
       "      <td>0.018676</td>\n",
       "      <td>0.110957</td>\n",
       "      <td>0.215364</td>\n",
       "      <td>0.079955</td>\n",
       "      <td>0.01446</td>\n",
       "      <td>0.905098</td>\n",
       "      <td>0.163160</td>\n",
       "      <td>0.152720</td>\n",
       "      <td>0.142279</td>\n",
       "      <td>0.173601</td>\n",
       "      <td>0.184042</td>\n",
       "    </tr>\n",
       "    <tr>\n",
       "      <th>std</th>\n",
       "      <td>0.052013</td>\n",
       "      <td>0.055209</td>\n",
       "      <td>0.029913</td>\n",
       "      <td>0.242442</td>\n",
       "      <td>0.242983</td>\n",
       "      <td>0.126751</td>\n",
       "      <td>0.05037</td>\n",
       "      <td>0.141883</td>\n",
       "      <td>0.237375</td>\n",
       "      <td>0.237535</td>\n",
       "      <td>0.238127</td>\n",
       "      <td>0.237646</td>\n",
       "      <td>0.238347</td>\n",
       "    </tr>\n",
       "    <tr>\n",
       "      <th>min</th>\n",
       "      <td>0.000000</td>\n",
       "      <td>0.000000</td>\n",
       "      <td>0.000000</td>\n",
       "      <td>0.000000</td>\n",
       "      <td>0.000000</td>\n",
       "      <td>0.000000</td>\n",
       "      <td>0.00000</td>\n",
       "      <td>0.000000</td>\n",
       "      <td>0.000000</td>\n",
       "      <td>0.000000</td>\n",
       "      <td>0.000000</td>\n",
       "      <td>0.000000</td>\n",
       "      <td>0.000000</td>\n",
       "    </tr>\n",
       "    <tr>\n",
       "      <th>25%</th>\n",
       "      <td>0.000000</td>\n",
       "      <td>0.000000</td>\n",
       "      <td>0.002878</td>\n",
       "      <td>0.000000</td>\n",
       "      <td>0.071429</td>\n",
       "      <td>0.000000</td>\n",
       "      <td>0.00000</td>\n",
       "      <td>0.860465</td>\n",
       "      <td>0.039532</td>\n",
       "      <td>0.033333</td>\n",
       "      <td>0.025805</td>\n",
       "      <td>0.046154</td>\n",
       "      <td>0.052593</td>\n",
       "    </tr>\n",
       "    <tr>\n",
       "      <th>50%</th>\n",
       "      <td>0.002207</td>\n",
       "      <td>0.000000</td>\n",
       "      <td>0.009362</td>\n",
       "      <td>0.015562</td>\n",
       "      <td>0.125782</td>\n",
       "      <td>0.021661</td>\n",
       "      <td>0.00000</td>\n",
       "      <td>0.963359</td>\n",
       "      <td>0.079255</td>\n",
       "      <td>0.066667</td>\n",
       "      <td>0.056848</td>\n",
       "      <td>0.088884</td>\n",
       "      <td>0.100000</td>\n",
       "    </tr>\n",
       "    <tr>\n",
       "      <th>75%</th>\n",
       "      <td>0.027438</td>\n",
       "      <td>0.000000</td>\n",
       "      <td>0.022887</td>\n",
       "      <td>0.084063</td>\n",
       "      <td>0.250000</td>\n",
       "      <td>0.115385</td>\n",
       "      <td>0.00000</td>\n",
       "      <td>1.000000</td>\n",
       "      <td>0.162709</td>\n",
       "      <td>0.140852</td>\n",
       "      <td>0.129167</td>\n",
       "      <td>0.175638</td>\n",
       "      <td>0.189772</td>\n",
       "    </tr>\n",
       "    <tr>\n",
       "      <th>max</th>\n",
       "      <td>1.000000</td>\n",
       "      <td>1.000000</td>\n",
       "      <td>1.000000</td>\n",
       "      <td>1.000000</td>\n",
       "      <td>1.000000</td>\n",
       "      <td>1.000000</td>\n",
       "      <td>1.00000</td>\n",
       "      <td>1.000000</td>\n",
       "      <td>1.000000</td>\n",
       "      <td>1.000000</td>\n",
       "      <td>1.000000</td>\n",
       "      <td>1.000000</td>\n",
       "      <td>1.000000</td>\n",
       "    </tr>\n",
       "  </tbody>\n",
       "</table>\n",
       "</div>"
      ],
      "text/plain": [
       "       Administrative_Duration_Scaled  Informational_Duration_Scaled  \\\n",
       "count                    12330.000000                   12330.000000   \n",
       "mean                         0.023779                       0.013522   \n",
       "std                          0.052013                       0.055209   \n",
       "min                          0.000000                       0.000000   \n",
       "25%                          0.000000                       0.000000   \n",
       "50%                          0.002207                       0.000000   \n",
       "75%                          0.027438                       0.000000   \n",
       "max                          1.000000                       1.000000   \n",
       "\n",
       "       ProductRelated_Duration_Scaled  BounceRates_Scaled  ExitRates_Scaled  \\\n",
       "count                    12330.000000        12330.000000      12330.000000   \n",
       "mean                         0.018676            0.110957          0.215364   \n",
       "std                          0.029913            0.242442          0.242983   \n",
       "min                          0.000000            0.000000          0.000000   \n",
       "25%                          0.002878            0.000000          0.071429   \n",
       "50%                          0.009362            0.015562          0.125782   \n",
       "75%                          0.022887            0.084063          0.250000   \n",
       "max                          1.000000            1.000000          1.000000   \n",
       "\n",
       "       totalFracAdmin_Scaled  totalFracInfo_Scaled  totalFracProd_Scaled  \\\n",
       "count           12330.000000           12330.00000          12330.000000   \n",
       "mean                0.079955               0.01446              0.905098   \n",
       "std                 0.126751               0.05037              0.141883   \n",
       "min                 0.000000               0.00000              0.000000   \n",
       "25%                 0.000000               0.00000              0.860465   \n",
       "50%                 0.021661               0.00000              0.963359   \n",
       "75%                 0.115385               0.00000              1.000000   \n",
       "max                 1.000000               1.00000              1.000000   \n",
       "\n",
       "       BounceExitAvg_Scaled  BounceExitW1_Scaled  BounceExitW2_Scaled  \\\n",
       "count          12330.000000         12330.000000         12330.000000   \n",
       "mean               0.163160             0.152720             0.142279   \n",
       "std                0.237375             0.237535             0.238127   \n",
       "min                0.000000             0.000000             0.000000   \n",
       "25%                0.039532             0.033333             0.025805   \n",
       "50%                0.079255             0.066667             0.056848   \n",
       "75%                0.162709             0.140852             0.129167   \n",
       "max                1.000000             1.000000             1.000000   \n",
       "\n",
       "       BounceExitW3_Scaled  BounceExitW4_Scaled  \n",
       "count         12330.000000         12330.000000  \n",
       "mean              0.173601             0.184042  \n",
       "std               0.237646             0.238347  \n",
       "min               0.000000             0.000000  \n",
       "25%               0.046154             0.052593  \n",
       "50%               0.088884             0.100000  \n",
       "75%               0.175638             0.189772  \n",
       "max               1.000000             1.000000  "
      ]
     },
     "execution_count": 139,
     "metadata": {},
     "output_type": "execute_result"
    }
   ],
   "source": [
    "# use MinMaxScaler function \n",
    "scaler = MinMaxScaler()\n",
    "\n",
    "# min-max standerdize all continous columns\n",
    "standardize[standardize.columns] = scaler.fit_transform(standardize[standardize.columns]) # fit the scaler to the model \n",
    "standardize_done = standardize.add_suffix('_Scaled') # add suffix (new features)\n",
    "\n",
    "# add new standerdized features to data1\n",
    "data1 = pd.concat([data1, standardize_done], axis = 1 )\n",
    "\n",
    "#use .describe() to prove standardization worked\n",
    "standardize_done.describe()"
   ]
  },
  {
   "cell_type": "code",
   "execution_count": 140,
   "metadata": {},
   "outputs": [
    {
     "name": "stdout",
     "output_type": "stream",
     "text": [
      "Number of features before standardization:  32\n",
      "Number of features added:  13\n"
     ]
    }
   ],
   "source": [
    "print('Number of features before standardization: ', len(data1.columns) - len(standardize_done.columns))\n",
    "print('Number of features added: ', len(standardize_done.columns))"
   ]
  },
  {
   "cell_type": "code",
   "execution_count": 143,
   "metadata": {},
   "outputs": [],
   "source": [
    "# drop features not scaled (keep encoded)\n",
    "data1 = data1[['OperatingSystems', 'Browser', 'Region', 'TrafficType', 'Weekend',\n",
    "       'Revenue', 'VisitorType_encode_0', 'VisitorType_encode_1',\n",
    "       'VisitorType_encode_2', 'quarter_1', 'quarter_2', 'quarter_3',\n",
    "       'quarter_4', 'SpecialDay_0.0', 'SpecialDay_0.2', 'SpecialDay_0.4',\n",
    "       'SpecialDay_0.6', 'SpecialDay_0.8', 'SpecialDay_1.0', 'totalFracAdmin',\n",
    "       'totalFracInfo', 'totalFracProd', 'BounceExitAvg', 'BounceExitW1',\n",
    "       'BounceExitW2', 'BounceExitW3', 'BounceExitW4',\n",
    "       'Administrative_Duration_Scaled', 'Informational_Duration_Scaled',\n",
    "       'ProductRelated_Duration_Scaled', 'BounceRates_Scaled',\n",
    "       'ExitRates_Scaled', 'totalFracAdmin_Scaled', 'totalFracInfo_Scaled',\n",
    "       'totalFracProd_Scaled', 'BounceExitAvg_Scaled', 'BounceExitW1_Scaled',\n",
    "       'BounceExitW2_Scaled', 'BounceExitW3_Scaled', 'BounceExitW4_Scaled']]"
   ]
  },
  {
   "cell_type": "markdown",
   "metadata": {},
   "source": [
    "### Normalization"
   ]
  },
  {
   "cell_type": "code",
   "execution_count": 144,
   "metadata": {},
   "outputs": [],
   "source": [
    "normalization_df = standardize_done.copy()"
   ]
  },
  {
   "cell_type": "code",
   "execution_count": 145,
   "metadata": {},
   "outputs": [
    {
     "name": "stdout",
     "output_type": "stream",
     "text": [
      "Right skew:  Administrative_Duration_Scaled 5.6157190187741906\n",
      "Right skew:  Informational_Duration_Scaled 7.5791847157342165\n",
      "Right skew:  ProductRelated_Duration_Scaled 7.2632276825613165\n",
      "Right skew:  BounceRates_Scaled 2.9478552666955338\n",
      "Right skew:  ExitRates_Scaled 2.1487889999009795\n",
      "Right skew:  totalFracAdmin_Scaled 2.6021648114344162\n",
      "Right skew:  totalFracInfo_Scaled 8.71792989818395\n",
      "Left skew:  totalFracProd_Scaled -2.4188748873082173\n",
      "Right skew:  BounceExitAvg_Scaled 2.658645853438436\n",
      "Right skew:  BounceExitW1_Scaled 2.7432714016393325\n",
      "Right skew:  BounceExitW2_Scaled 2.8163076932534996\n",
      "Right skew:  BounceExitW3_Scaled 2.564778543858945\n",
      "Right skew:  BounceExitW4_Scaled 2.4642333180311855\n"
     ]
    }
   ],
   "source": [
    "# find skewed features \n",
    "normalization_needed = [] # empty list for cols that need normalizing \n",
    "normalization_df_cols = normalization_df.columns\n",
    "for col in normalization_df_cols:\n",
    "    if normalization_df[col].skew() > 0.5:\n",
    "        print('Right skew: ',col,normalization_df[col].skew())\n",
    "        normalization_needed.append(col)\n",
    "    elif normalization_df[col].skew() < -0.5:\n",
    "        print('Left skew: ',col,normalization_df[col].skew())\n",
    "        normalization_needed.append(col)\n",
    "    else:\n",
    "        \"\""
   ]
  },
  {
   "cell_type": "code",
   "execution_count": 146,
   "metadata": {},
   "outputs": [
    {
     "name": "stdout",
     "output_type": "stream",
     "text": [
      "13  features need normalizing\n"
     ]
    }
   ],
   "source": [
    "print(len(normalization_needed),' features need normalizing')"
   ]
  },
  {
   "cell_type": "code",
   "execution_count": 147,
   "metadata": {},
   "outputs": [],
   "source": [
    "from scipy import stats\n",
    "# innitial yeo-johnson normalization\n",
    "for col in normalization_needed:\n",
    "    normalization_df[col] = stats.yeojohnson(normalization_df[col])[0]\n",
    "\n",
    "# square-root transformation for positively/rightly skewed features that still have a skew > 0.5 \n",
    "for col in normalization_df_cols:\n",
    "    if normalization_df[col].skew() > 0.5:\n",
    "        normalization_df[col] = np.sqrt(normalization_df[col])"
   ]
  },
  {
   "cell_type": "code",
   "execution_count": 148,
   "metadata": {},
   "outputs": [
    {
     "name": "stdout",
     "output_type": "stream",
     "text": [
      "Normalized Administrative_Duration_Scaled 0.3295801795635637\n",
      "Right skew:  Informational_Duration_Scaled 1.7326012884342452\n",
      "Normalized ProductRelated_Duration_Scaled -0.23543933031636485\n",
      "Normalized BounceRates_Scaled 0.3262257513950875\n",
      "Normalized ExitRates_Scaled 0.3379450817642422\n",
      "Normalized totalFracAdmin_Scaled 0.15463883173278434\n",
      "Right skew:  totalFracInfo_Scaled 1.4670525404458559\n",
      "Left skew:  totalFracProd_Scaled -0.581060550431929\n",
      "Normalized BounceExitAvg_Scaled -0.14021732571738893\n",
      "Normalized BounceExitW1_Scaled -0.06154026184381935\n",
      "Normalized BounceExitW2_Scaled 0.036799663481299594\n",
      "Normalized BounceExitW3_Scaled 0.4776758903657082\n",
      "Normalized BounceExitW4_Scaled 0.43335849977275076\n"
     ]
    }
   ],
   "source": [
    "not_normalized = []\n",
    "# if still not normal display \n",
    "for col in normalization_df_cols:\n",
    "    if normalization_df[col].skew() > 0.5:\n",
    "        print('Right skew: ',col,normalization_df[col].skew())\n",
    "        not_normalized.append(col)\n",
    "    elif normalization_df[col].skew() < -0.5:\n",
    "        print('Left skew: ',col,normalization_df[col].skew())\n",
    "        not_normalized.append(col)\n",
    "    else:\n",
    "         print('Normalized', col,normalization_df[col].skew())"
   ]
  },
  {
   "cell_type": "code",
   "execution_count": 149,
   "metadata": {},
   "outputs": [],
   "source": [
    "for col in normalization_needed: # All needed normalization \n",
    "    normalization_done = normalization_df.add_suffix('_Norm') # add suffix to distinguish "
   ]
  },
  {
   "cell_type": "code",
   "execution_count": 150,
   "metadata": {},
   "outputs": [],
   "source": [
    "# concat normalized features with scaled and original\n",
    "data1 = pd.concat([data1,normalization_done], axis = 1)"
   ]
  },
  {
   "cell_type": "markdown",
   "metadata": {},
   "source": [
    "### Feature selection with Embeded method - Random forest\n",
    "- with threshold of 0.028 it selected 7 featueres"
   ]
  },
  {
   "cell_type": "code",
   "execution_count": 152,
   "metadata": {},
   "outputs": [],
   "source": [
    "X = data1.drop('Revenue', axis = 1)\n",
    "y = data1.Revenue\n",
    "feature_name = X.columns.tolist()"
   ]
  },
  {
   "cell_type": "code",
   "execution_count": 157,
   "metadata": {},
   "outputs": [
    {
     "data": {
      "text/plain": [
       "SelectFromModel(estimator=RandomForestClassifier(bootstrap=True, ccp_alpha=0.0,\n",
       "                                                 class_weight=None,\n",
       "                                                 criterion='gini',\n",
       "                                                 max_depth=None,\n",
       "                                                 max_features='auto',\n",
       "                                                 max_leaf_nodes=None,\n",
       "                                                 max_samples=None,\n",
       "                                                 min_impurity_decrease=0.0,\n",
       "                                                 min_impurity_split=None,\n",
       "                                                 min_samples_leaf=1,\n",
       "                                                 min_samples_split=2,\n",
       "                                                 min_weight_fraction_leaf=0.0,\n",
       "                                                 n_estimators=50, n_jobs=None,\n",
       "                                                 oob_score=False,\n",
       "                                                 random_state=123, verbose=0,\n",
       "                                                 warm_start=False),\n",
       "                max_features=None, norm_order=1, prefit=False, threshold=0.028)"
      ]
     },
     "execution_count": 157,
     "metadata": {},
     "output_type": "execute_result"
    }
   ],
   "source": [
    "from sklearn.feature_selection import SelectFromModel\n",
    "from sklearn.ensemble import RandomForestClassifier\n",
    "# n_estimators = The number of trees in the forest (10-100)\n",
    "embeded_rf_selector = SelectFromModel(RandomForestClassifier(n_estimators=50, random_state = 123), threshold=0.028)\n",
    "embeded_rf_selector.fit(X, y)"
   ]
  },
  {
   "cell_type": "code",
   "execution_count": 158,
   "metadata": {},
   "outputs": [
    {
     "name": "stdout",
     "output_type": "stream",
     "text": [
      "7 selected features\n"
     ]
    }
   ],
   "source": [
    "embeded_rf_support = embeded_rf_selector.get_support()\n",
    "embeded_rf_feature = X.loc[:,embeded_rf_support].columns.tolist()\n",
    "print(str(len(embeded_rf_feature)), 'selected features')"
   ]
  },
  {
   "cell_type": "markdown",
   "metadata": {},
   "source": [
    "- here we see what features are the most important according to feature selection"
   ]
  },
  {
   "cell_type": "code",
   "execution_count": 159,
   "metadata": {},
   "outputs": [
    {
     "data": {
      "text/html": [
       "<div>\n",
       "<style scoped>\n",
       "    .dataframe tbody tr th:only-of-type {\n",
       "        vertical-align: middle;\n",
       "    }\n",
       "\n",
       "    .dataframe tbody tr th {\n",
       "        vertical-align: top;\n",
       "    }\n",
       "\n",
       "    .dataframe thead th {\n",
       "        text-align: right;\n",
       "    }\n",
       "</style>\n",
       "<table border=\"1\" class=\"dataframe\">\n",
       "  <thead>\n",
       "    <tr style=\"text-align: right;\">\n",
       "      <th></th>\n",
       "      <th>Feature</th>\n",
       "      <th>Random Forest</th>\n",
       "    </tr>\n",
       "  </thead>\n",
       "  <tbody>\n",
       "    <tr>\n",
       "      <th>1</th>\n",
       "      <td>Administrative_Duration_Scaled</td>\n",
       "      <td>True</td>\n",
       "    </tr>\n",
       "    <tr>\n",
       "      <th>2</th>\n",
       "      <td>BounceExitW3</td>\n",
       "      <td>True</td>\n",
       "    </tr>\n",
       "    <tr>\n",
       "      <th>3</th>\n",
       "      <td>ProductRelated_Duration_Scaled_Norm</td>\n",
       "      <td>True</td>\n",
       "    </tr>\n",
       "    <tr>\n",
       "      <th>4</th>\n",
       "      <td>Administrative_Duration_Scaled_Norm</td>\n",
       "      <td>True</td>\n",
       "    </tr>\n",
       "    <tr>\n",
       "      <th>5</th>\n",
       "      <td>ExitRates_Scaled</td>\n",
       "      <td>True</td>\n",
       "    </tr>\n",
       "    <tr>\n",
       "      <th>6</th>\n",
       "      <td>ProductRelated_Duration_Scaled</td>\n",
       "      <td>True</td>\n",
       "    </tr>\n",
       "    <tr>\n",
       "      <th>7</th>\n",
       "      <td>BounceExitW4_Scaled_Norm</td>\n",
       "      <td>True</td>\n",
       "    </tr>\n",
       "  </tbody>\n",
       "</table>\n",
       "</div>"
      ],
      "text/plain": [
       "                               Feature  Random Forest\n",
       "1       Administrative_Duration_Scaled           True\n",
       "2                         BounceExitW3           True\n",
       "3  ProductRelated_Duration_Scaled_Norm           True\n",
       "4  Administrative_Duration_Scaled_Norm           True\n",
       "5                     ExitRates_Scaled           True\n",
       "6       ProductRelated_Duration_Scaled           True\n",
       "7             BounceExitW4_Scaled_Norm           True"
      ]
     },
     "execution_count": 159,
     "metadata": {},
     "output_type": "execute_result"
    }
   ],
   "source": [
    "# put all selection together\n",
    "feature_selection_df = pd.DataFrame({'Feature':feature_name,'Random Forest':embeded_rf_support})\n",
    "# count the selected times for each feature\n",
    "#feature_selection_df['Total'] = np.sum(feature_selection_df, axis=1)\n",
    "# display the top 65\n",
    "feature_selection_df = feature_selection_df.sort_values(['Random Forest'] , ascending=False)\n",
    "feature_selection_df.index = range(1, len(feature_selection_df)+1)\n",
    "feature_selection_df.head(7)"
   ]
  },
  {
   "cell_type": "markdown",
   "metadata": {},
   "source": [
    "### feature importance for Random Forest"
   ]
  },
  {
   "cell_type": "code",
   "execution_count": 160,
   "metadata": {},
   "outputs": [],
   "source": [
    "# Split dataset into training set and test set\n",
    "from sklearn.model_selection import train_test_split\n",
    "X_train, X_test, y_train, y_test = train_test_split(X, y, test_size=0.2) # 80% training and 20% test"
   ]
  },
  {
   "cell_type": "code",
   "execution_count": 161,
   "metadata": {},
   "outputs": [],
   "source": [
    "## Import the random forest model.\n",
    "from sklearn.ensemble import RandomForestClassifier \n",
    "## This line instantiates the model. \n",
    "rf = RandomForestClassifier() \n",
    "## Fit the model on your training data.\n",
    "rf.fit(X_train, y_train) \n",
    "\n",
    "feature_importances = pd.DataFrame(rf.feature_importances_,index = X_train.columns,\n",
    "                                    columns=['importance']).sort_values('importance', ascending=False)"
   ]
  },
  {
   "cell_type": "code",
   "execution_count": 162,
   "metadata": {},
   "outputs": [
    {
     "data": {
      "text/html": [
       "<div>\n",
       "<style scoped>\n",
       "    .dataframe tbody tr th:only-of-type {\n",
       "        vertical-align: middle;\n",
       "    }\n",
       "\n",
       "    .dataframe tbody tr th {\n",
       "        vertical-align: top;\n",
       "    }\n",
       "\n",
       "    .dataframe thead th {\n",
       "        text-align: right;\n",
       "    }\n",
       "</style>\n",
       "<table border=\"1\" class=\"dataframe\">\n",
       "  <thead>\n",
       "    <tr style=\"text-align: right;\">\n",
       "      <th></th>\n",
       "      <th>importance</th>\n",
       "    </tr>\n",
       "  </thead>\n",
       "  <tbody>\n",
       "    <tr>\n",
       "      <th>ProductRelated_Duration_Scaled_Norm</th>\n",
       "      <td>0.061632</td>\n",
       "    </tr>\n",
       "    <tr>\n",
       "      <th>ProductRelated_Duration_Scaled</th>\n",
       "      <td>0.061501</td>\n",
       "    </tr>\n",
       "    <tr>\n",
       "      <th>ExitRates_Scaled</th>\n",
       "      <td>0.032840</td>\n",
       "    </tr>\n",
       "    <tr>\n",
       "      <th>Administrative_Duration_Scaled_Norm</th>\n",
       "      <td>0.030358</td>\n",
       "    </tr>\n",
       "    <tr>\n",
       "      <th>Administrative_Duration_Scaled</th>\n",
       "      <td>0.030308</td>\n",
       "    </tr>\n",
       "    <tr>\n",
       "      <th>ExitRates_Scaled_Norm</th>\n",
       "      <td>0.030031</td>\n",
       "    </tr>\n",
       "    <tr>\n",
       "      <th>BounceExitW4</th>\n",
       "      <td>0.029946</td>\n",
       "    </tr>\n",
       "    <tr>\n",
       "      <th>TrafficType</th>\n",
       "      <td>0.027809</td>\n",
       "    </tr>\n",
       "    <tr>\n",
       "      <th>totalFracProd_Scaled</th>\n",
       "      <td>0.027726</td>\n",
       "    </tr>\n",
       "    <tr>\n",
       "      <th>BounceExitAvg</th>\n",
       "      <td>0.027129</td>\n",
       "    </tr>\n",
       "    <tr>\n",
       "      <th>BounceExitW4_Scaled_Norm</th>\n",
       "      <td>0.027110</td>\n",
       "    </tr>\n",
       "    <tr>\n",
       "      <th>BounceExitW4_Scaled</th>\n",
       "      <td>0.025946</td>\n",
       "    </tr>\n",
       "    <tr>\n",
       "      <th>totalFracProd</th>\n",
       "      <td>0.025810</td>\n",
       "    </tr>\n",
       "    <tr>\n",
       "      <th>BounceExitW3</th>\n",
       "      <td>0.025401</td>\n",
       "    </tr>\n",
       "    <tr>\n",
       "      <th>totalFracProd_Scaled_Norm</th>\n",
       "      <td>0.025180</td>\n",
       "    </tr>\n",
       "    <tr>\n",
       "      <th>Region</th>\n",
       "      <td>0.025154</td>\n",
       "    </tr>\n",
       "    <tr>\n",
       "      <th>totalFracAdmin_Scaled</th>\n",
       "      <td>0.025046</td>\n",
       "    </tr>\n",
       "    <tr>\n",
       "      <th>totalFracAdmin_Scaled_Norm</th>\n",
       "      <td>0.024925</td>\n",
       "    </tr>\n",
       "    <tr>\n",
       "      <th>BounceExitW3_Scaled_Norm</th>\n",
       "      <td>0.024426</td>\n",
       "    </tr>\n",
       "    <tr>\n",
       "      <th>BounceExitAvg_Scaled</th>\n",
       "      <td>0.023834</td>\n",
       "    </tr>\n",
       "  </tbody>\n",
       "</table>\n",
       "</div>"
      ],
      "text/plain": [
       "                                     importance\n",
       "ProductRelated_Duration_Scaled_Norm    0.061632\n",
       "ProductRelated_Duration_Scaled         0.061501\n",
       "ExitRates_Scaled                       0.032840\n",
       "Administrative_Duration_Scaled_Norm    0.030358\n",
       "Administrative_Duration_Scaled         0.030308\n",
       "ExitRates_Scaled_Norm                  0.030031\n",
       "BounceExitW4                           0.029946\n",
       "TrafficType                            0.027809\n",
       "totalFracProd_Scaled                   0.027726\n",
       "BounceExitAvg                          0.027129\n",
       "BounceExitW4_Scaled_Norm               0.027110\n",
       "BounceExitW4_Scaled                    0.025946\n",
       "totalFracProd                          0.025810\n",
       "BounceExitW3                           0.025401\n",
       "totalFracProd_Scaled_Norm              0.025180\n",
       "Region                                 0.025154\n",
       "totalFracAdmin_Scaled                  0.025046\n",
       "totalFracAdmin_Scaled_Norm             0.024925\n",
       "BounceExitW3_Scaled_Norm               0.024426\n",
       "BounceExitAvg_Scaled                   0.023834"
      ]
     },
     "execution_count": 162,
     "metadata": {},
     "output_type": "execute_result"
    }
   ],
   "source": [
    "feature_importances.head(20) # select one from each variation "
   ]
  },
  {
   "cell_type": "markdown",
   "metadata": {},
   "source": [
    "### top 5 features (including only 1 feature version)\n",
    "- We see that product related duration feature is still very important which makes sense. Depending on how much time they spend looking at products more likely they will buy (of course there are other factors to consider here)\n",
    "- Exit rates also an important determinent to the revenue. Lower the exit rate more time users will spend on the page.\n",
    "- Administrative duration also important. We believe this if the user is actually interested in making a purchase he will take time to create or optimize their account.\n",
    "- Traffic type seems important which we did not see in our main feature importance. We assume this is encompasses the users behavior through the session. \n",
    "- An our engineered feature totalFracProd_Scaled is in 5th place (product page views/total views between all pages). Which as go to say that it is important to easily and efficiently direct customers to the product page."
   ]
  },
  {
   "cell_type": "code",
   "execution_count": 164,
   "metadata": {},
   "outputs": [
    {
     "data": {
      "text/html": [
       "<div>\n",
       "<style scoped>\n",
       "    .dataframe tbody tr th:only-of-type {\n",
       "        vertical-align: middle;\n",
       "    }\n",
       "\n",
       "    .dataframe tbody tr th {\n",
       "        vertical-align: top;\n",
       "    }\n",
       "\n",
       "    .dataframe thead th {\n",
       "        text-align: right;\n",
       "    }\n",
       "</style>\n",
       "<table border=\"1\" class=\"dataframe\">\n",
       "  <thead>\n",
       "    <tr style=\"text-align: right;\">\n",
       "      <th></th>\n",
       "      <th>importance</th>\n",
       "    </tr>\n",
       "  </thead>\n",
       "  <tbody>\n",
       "    <tr>\n",
       "      <th>ProductRelated_Duration_Scaled_Norm</th>\n",
       "      <td>0.061632</td>\n",
       "    </tr>\n",
       "    <tr>\n",
       "      <th>ExitRates_Scaled</th>\n",
       "      <td>0.032840</td>\n",
       "    </tr>\n",
       "    <tr>\n",
       "      <th>Administrative_Duration_Scaled_Norm</th>\n",
       "      <td>0.030358</td>\n",
       "    </tr>\n",
       "    <tr>\n",
       "      <th>TrafficType</th>\n",
       "      <td>0.027809</td>\n",
       "    </tr>\n",
       "    <tr>\n",
       "      <th>totalFracProd_Scaled</th>\n",
       "      <td>0.027726</td>\n",
       "    </tr>\n",
       "  </tbody>\n",
       "</table>\n",
       "</div>"
      ],
      "text/plain": [
       "                                     importance\n",
       "ProductRelated_Duration_Scaled_Norm    0.061632\n",
       "ExitRates_Scaled                       0.032840\n",
       "Administrative_Duration_Scaled_Norm    0.030358\n",
       "TrafficType                            0.027809\n",
       "totalFracProd_Scaled                   0.027726"
      ]
     },
     "execution_count": 164,
     "metadata": {},
     "output_type": "execute_result"
    }
   ],
   "source": [
    "feature_importances.iloc[[0,2,3,7,8],:]"
   ]
  },
  {
   "cell_type": "markdown",
   "metadata": {},
   "source": [
    "## Top 2 features closer look"
   ]
  },
  {
   "cell_type": "code",
   "execution_count": 165,
   "metadata": {},
   "outputs": [
    {
     "name": "stdout",
     "output_type": "stream",
     "text": [
      "(1908, 53)\n",
      "(10422, 53)\n"
     ]
    }
   ],
   "source": [
    "import matplotlib.pyplot as plt \n",
    "import seaborn as sns\n",
    "\n",
    "# subsetting dataframe\n",
    "rev_true = data1[data1['Revenue']==True]\n",
    "rev_false = data1[data1['Revenue']==False]\n",
    "\n",
    "print(rev_true.shape)\n",
    "print(rev_false.shape)"
   ]
  },
  {
   "cell_type": "markdown",
   "metadata": {},
   "source": [
    "### ProductRelated_Duration_Scaled_Norm\n",
    "- For revenue true we see low distribution when duration is lower (0-0.06). Makes sense if they spend less time on the page less likely users will purchase. However, those who do must be familar with the website and know what they want. The distribution then increases exponentially until 0.10 - 0.14 and then spikes again for 0.15. 0.10 - 0.15 duration could be considered the hisghes chance the user will purchase comparing to revenue false. So it would be wise to devise the website in such a way users will spend that amount of time on the page (specific call to action, discounts etc.)\n",
    "- For revenue false there are many 0 values which signify the user did not make it to the page = no revenue. It would be wise to get some answers as to why that happened. "
   ]
  },
  {
   "cell_type": "code",
   "execution_count": 168,
   "metadata": {},
   "outputs": [
    {
     "data": {
      "text/plain": [
       "Text(0, 0.5, 'Density')"
      ]
     },
     "execution_count": 168,
     "metadata": {},
     "output_type": "execute_result"
    },
    {
     "data": {
      "image/png": "[encoded data removed]",
      "text/plain": [
       "<Figure size 432x288 with 1 Axes>"
      ]
     },
     "metadata": {
      "needs_background": "light"
     },
     "output_type": "display_data"
    }
   ],
   "source": [
    "feat1_1 = rev_true.ProductRelated_Duration_Scaled_Norm\n",
    "sns.distplot(feat1_1,  kde=False, label='Revenue True')\n",
    "\n",
    "# Plot formatting\n",
    "plt.legend(prop={'size': 12})\n",
    "plt.title('ProductRelated_Duration_Scaled_Norm Revenue True')\n",
    "plt.xlabel('Product related duration')\n",
    "plt.ylabel('Density')"
   ]
  },
  {
   "cell_type": "code",
   "execution_count": 171,
   "metadata": {},
   "outputs": [
    {
     "data": {
      "text/plain": [
       "Text(0, 0.5, 'Density')"
      ]
     },
     "execution_count": 171,
     "metadata": {},
     "output_type": "execute_result"
    },
    {
     "data": {
      "image/png": "[encoded data removed]",
      "text/plain": [
       "<Figure size 432x288 with 1 Axes>"
      ]
     },
     "metadata": {
      "needs_background": "light"
     },
     "output_type": "display_data"
    }
   ],
   "source": [
    "feat1_0 = rev_false.ProductRelated_Duration_Scaled_Norm\n",
    "sns.distplot(feat1_0,  kde=False, label='Revenue False')\n",
    "\n",
    "# Plot formatting\n",
    "plt.legend(prop={'size': 12})\n",
    "plt.title('ProductRelated_Duration_Scaled_Norm Revenue False')\n",
    "plt.xlabel('Product Related Duration ')\n",
    "plt.ylabel('Density')"
   ]
  },
  {
   "cell_type": "markdown",
   "metadata": {},
   "source": [
    "### ExitRates_Scaled\n",
    "- The closer the the exit rate is to zero and less outliers it has to the right, the more likely user will make a purchase. \n",
    "- It would be interesting see what are the factors on the website that customers do not like that prompts them to exit"
   ]
  },
  {
   "cell_type": "code",
   "execution_count": 172,
   "metadata": {},
   "outputs": [
    {
     "data": {
      "text/plain": [
       "Text(0, 0.5, 'Density')"
      ]
     },
     "execution_count": 172,
     "metadata": {},
     "output_type": "execute_result"
    },
    {
     "data": {
      "image/png": "[encoded data removed]",
      "text/plain": [
       "<Figure size 432x288 with 1 Axes>"
      ]
     },
     "metadata": {
      "needs_background": "light"
     },
     "output_type": "display_data"
    }
   ],
   "source": [
    "feat1_1 = rev_true.ExitRates_Scaled\n",
    "sns.distplot(feat1_1,  kde=False, label='Revenue True')\n",
    "\n",
    "# Plot formatting\n",
    "plt.legend(prop={'size': 12})\n",
    "plt.title('ExitRates_Scaled Revenue True')\n",
    "plt.xlabel('ExitRates')\n",
    "plt.ylabel('Density')"
   ]
  },
  {
   "cell_type": "code",
   "execution_count": 173,
   "metadata": {},
   "outputs": [
    {
     "data": {
      "text/plain": [
       "Text(0, 0.5, 'Density')"
      ]
     },
     "execution_count": 173,
     "metadata": {},
     "output_type": "execute_result"
    },
    {
     "data": {
      "image/png": "[encoded data removed]",
      "text/plain": [
       "<Figure size 432x288 with 1 Axes>"
      ]
     },
     "metadata": {
      "needs_background": "light"
     },
     "output_type": "display_data"
    }
   ],
   "source": [
    "feat1_0 = rev_false.ExitRates_Scaled\n",
    "sns.distplot(feat1_0,  kde=False, label='Revenue True')\n",
    "\n",
    "# Plot formatting\n",
    "plt.legend(prop={'size': 12})\n",
    "plt.title('ExitRates_Scaled Revenue True')\n",
    "plt.xlabel('ExitRates')\n",
    "plt.ylabel('Density')"
   ]
  },
  {
   "cell_type": "markdown",
   "metadata": {},
   "source": [
    "## Modeling"
   ]
  },
  {
   "cell_type": "markdown",
   "metadata": {},
   "source": [
    "- Using our best model, same parametes, and now different features without page values"
   ]
  },
  {
   "cell_type": "code",
   "execution_count": 174,
   "metadata": {},
   "outputs": [],
   "source": [
    "X = data1[['ProductRelated_Duration_Scaled_Norm','ExitRates_Scaled','Administrative_Duration_Scaled_Norm',\n",
    "          'TrafficType','totalFracProd_Scaled']]\n",
    "y = data1.Revenue"
   ]
  },
  {
   "cell_type": "code",
   "execution_count": 175,
   "metadata": {},
   "outputs": [
    {
     "name": "stdout",
     "output_type": "stream",
     "text": [
      "F1 0.7396; AUC 0.5999 \n",
      "average f1 score (bias) 0.839114262714695\n",
      "average f1 score (variance) 0.009009402851553484\n",
      "average AUC score (bias) 0.912703938338528\n",
      "average AUC score (variance) 0.00909292681439649\n",
      "Model is predicting  [False  True] class\n",
      "Accuracy of classifier on test set: 0.715\n",
      "10-fold cross validation average accuracy of clf_4: 0.831\n",
      "Confusion Matrix for Classfier:\n",
      "[[1591  478]\n",
      " [ 226  171]]\n",
      "Classification Report for Classfier:\n",
      "              precision    recall  f1-score   support\n",
      "\n",
      "       False       0.88      0.77      0.82      2069\n",
      "        True       0.26      0.43      0.33       397\n",
      "\n",
      "    accuracy                           0.71      2466\n",
      "   macro avg       0.57      0.60      0.57      2466\n",
      "weighted avg       0.78      0.71      0.74      2466\n",
      "\n"
     ]
    }
   ],
   "source": [
    "# lists for f1-score and AUC\n",
    "f1_score_lst = []\n",
    "auc_lst = []\n",
    "f1_scores = []\n",
    "roc_scores = []\n",
    "\n",
    "#loop to calculate f1 and auc scores and present averages after 10 runs\n",
    "for count in range (1,10):\n",
    "\n",
    "    # create training and testing vars\n",
    "    X_train, X_test, y_train, y_test = train_test_split(X, y, test_size=0.2, random_state=123, shuffle = True)\n",
    "    \n",
    "    # this is the formula after you split the dataset\n",
    "    sm = SMOTE(random_state=123, sampling_strategy = 'minority')\n",
    "    x_train_res, y_train_res = sm.fit_sample(X_train, y_train)\n",
    "\n",
    "    # Train model\n",
    "    clf = RandomForestClassifier(random_state = 123)\n",
    "    clf.fit(x_train_res, y_train_res)\n",
    "\n",
    "    # Predict on training set\n",
    "    pred_y = clf.predict(X_test)\n",
    "\n",
    "    #10-fold cross validation\n",
    "    kfold = model_selection.KFold(n_splits=10, random_state=123, shuffle = True)\n",
    "    scoring = 'accuracy'\n",
    "    results = model_selection.cross_val_score(clf, x_train_res, y_train_res, cv=kfold, scoring=scoring)\n",
    "    \n",
    "    # average is the bias, and std dev is variance\n",
    "    f1_scores = model_selection.cross_val_score(clf, x_train_res, y_train_res, cv=kfold, scoring='f1')\n",
    "    roc_scores = model_selection.cross_val_score(clf, x_train_res, y_train_res, cv=kfold, scoring='roc_auc')\n",
    "\n",
    "    #calculate f1-score and AUC\n",
    "    clf_roc_auc = roc_auc_score(y_test, pred_y)\n",
    "    \n",
    "    #calculate average f1-score and AUC\n",
    "    f1_score_lst.append(precision_recall_fscore_support(y_test, pred_y, average='weighted')[2])\n",
    "    auc_lst.append(clf_roc_auc)\n",
    "    \n",
    "    \n",
    "print('F1 {:.4f}; AUC {:.4f} '.format(np.mean(f1_score_lst),np.mean(auc_lst)))\n",
    "\n",
    "print('average f1 score (bias)', f1_scores.mean())\n",
    "print('average f1 score (variance)', f1_scores.std())\n",
    "print('average AUC score (bias)', roc_scores.mean())\n",
    "print('average AUC score (variance)', roc_scores.std())\n",
    "\n",
    "# Is our model still predicting just one class?\n",
    "print('Model is predicting ',np.unique( pred_y ),'class' )\n",
    "\n",
    "print('Accuracy of classifier on test set: {:.3f}'.format(clf.score(X_test, y_test)))\n",
    "\n",
    "print(\"10-fold cross validation average accuracy of clf_4: %.3f\" % (results.mean()))\n",
    "\n",
    "confusion_matrix_y = confusion_matrix(y_test, pred_y)\n",
    "print('Confusion Matrix for Classfier:')\n",
    "print(confusion_matrix_y)\n",
    "\n",
    "print('Classification Report for Classfier:')\n",
    "print(classification_report(y_test, pred_y))"
   ]
  },
  {
   "cell_type": "code",
   "execution_count": null,
   "metadata": {},
   "outputs": [],
   "source": []
  }
 ],
 "metadata": {
  "kernelspec": {
   "display_name": "Python 3",
   "language": "python",
   "name": "python3"
  },
  "language_info": {
   "codemirror_mode": {
    "name": "ipython",
    "version": 3
   },
   "file_extension": ".py",
   "mimetype": "text/x-python",
   "name": "python",
   "nbconvert_exporter": "python",
   "pygments_lexer": "ipython3",
   "version": "3.6.7"
  }
 },
 "nbformat": 4,
 "nbformat_minor": 4
}
