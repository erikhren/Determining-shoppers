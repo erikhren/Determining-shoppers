{
 "cells": [
  {
   "cell_type": "markdown",
   "metadata": {},
   "source": [
    "## Step1: Business Understanding"
   ]
  },
  {
   "cell_type": "markdown",
   "metadata": {},
   "source": [
    "**Framing Analytical Questions**\n",
    "- How accurately are we able to predict that a customer is going to make an online purchase on a website?\n",
    "- What and what is the range of driving factors that lead to a purchase? \n",
    "- Can the probability of online purchase produced through data mining represent the \"real\" probability of customer online purchase?\n",
    "- Do those who purchase products tend to be of a certain region? returning or new visitor? buying near a special day, particular month or weekend? or spending more time on a specific page or click-thorugh (bounce) freuqently? What pages do they visit and time spent on them before exit?\n",
    "\n",
    "**Outside Research**<br>\n",
    "Online e-commerce applications are becoming a primary vehicle for people to find, compare, and ultimately purchase products. One of the fundamental questions that arises in e-commerce is to characterize, understand, and model user long-term purchasing intent, which is important as it allows for personalized and context relevant e-commerce services.\n",
    "\n",
    "Understanding online purchase intent and its buildup over time is important because individuals spend large amounts of time and resources on online shopping—in the U.S. alone, e-commerce sales have reached over 350 billion USD per year and are expected to grow at around 15% annually. \n",
    "\n",
    "**Quick Facts**\n",
    "- 44% of online shoppers use their smartphone to shop more than any other device. Over half of consumers are doing their shopping online while simultaneously performing other tasks competing for their attention\n",
    "- Prices and shipping fees are the most important criteria influencing shopping decisions for more than 90% of respondents. Additionally, 77% cite shipping and other extra fees as the main reasons they would abandon their online shopping cart.\n",
    "- Email is still a very efficient channel to recover cart abandonment as 38% of respondents indicated they have returned to an eCommerce site\n",
    "- 78% of consumers exposed to unauthorized injected ads, while shopping on an eCommerce site view, that retailer in a negative light as a result. \n",
    "- Over 55% of respondents are likely to click on ads appearing on retailer sites that offer the same product they’re looking at for a lower price\n",
    "\n",
    "Source (based on 2018 report): https://www.mediapost.com/publications/article/319505/the-2018-online-consumer-behavior-study.html\n",
    "\n",
    "**Past work**<br>\n",
    "Generally, most work on this topic has examined short-term user activity and considered predicting whether a given user session will result in a purchase. But its important to note that the purchase intent of a consumer may slowly build up over time, and may not instantaneously lead to a purchase. Furthermore, traditional studies often examine user behavior on a single e-commerce platform, while users may use several different services and move across e-commerce platforms when deciding which product to purchase and where. Thus, what is missing from the picture is a cross-platform analysis of how user purchase intent varies over time. To this end, it is important to contrast the population of purchasing users with the population of non- purchasing users, and then also identify how purchasers’ online behavior changes over time from the norm as a result of impending purchases.\n",
    "\n",
    "We cannot add this data with the dataset we received for this competition as we do not know the name of the company website or year data was acquired. However, it could defenetly give you a better picture if you decide to do this research. "
   ]
  },
  {
   "cell_type": "code",
   "execution_count": null,
   "metadata": {},
   "outputs": [],
   "source": []
  }
 ],
 "metadata": {
  "kernelspec": {
   "display_name": "Python 3",
   "language": "python",
   "name": "python3"
  },
  "language_info": {
   "codemirror_mode": {
    "name": "ipython",
    "version": 3
   },
   "file_extension": ".py",
   "mimetype": "text/x-python",
   "name": "python",
   "nbconvert_exporter": "python",
   "pygments_lexer": "ipython3",
   "version": "3.6.7"
  }
 },
 "nbformat": 4,
 "nbformat_minor": 4
}
